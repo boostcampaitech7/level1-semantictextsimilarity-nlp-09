{
 "cells": [
  {
   "cell_type": "code",
   "execution_count": 239,
   "metadata": {},
   "outputs": [
    {
     "data": {
      "text/plain": [
       "array([[<Axes: title={'center': 'label'}>]], dtype=object)"
      ]
     },
     "execution_count": 239,
     "metadata": {},
     "output_type": "execute_result"
    },
    {
     "data": {
      "image/png": "[encoded data removed]",
      "text/plain": [
       "<Figure size 640x480 with 1 Axes>"
      ]
     },
     "metadata": {},
     "output_type": "display_data"
    }
   ],
   "source": [
    "import pandas as pd\n",
    "\n",
    "# train = pd.read_csv('train.csv')\n",
    "train = pd.read_csv('train_preprop_v2.csv')\n",
    "train.drop('binary-label', axis=1, inplace=True)\n",
    "train.hist(bins=51)"
   ]
  },
  {
   "cell_type": "code",
   "execution_count": 240,
   "metadata": {},
   "outputs": [
    {
     "data": {
      "text/plain": [
       "(9324, 5)"
      ]
     },
     "execution_count": 240,
     "metadata": {},
     "output_type": "execute_result"
    }
   ],
   "source": [
    "train.shape"
   ]
  },
  {
   "cell_type": "code",
   "execution_count": 242,
   "metadata": {},
   "outputs": [
    {
     "data": {
      "text/html": [
       "<div>\n",
       "<style scoped>\n",
       "    .dataframe tbody tr th:only-of-type {\n",
       "        vertical-align: middle;\n",
       "    }\n",
       "\n",
       "    .dataframe tbody tr th {\n",
       "        vertical-align: top;\n",
       "    }\n",
       "\n",
       "    .dataframe thead th {\n",
       "        text-align: right;\n",
       "    }\n",
       "</style>\n",
       "<table border=\"1\" class=\"dataframe\">\n",
       "  <thead>\n",
       "    <tr style=\"text-align: right;\">\n",
       "      <th></th>\n",
       "      <th>id</th>\n",
       "      <th>source</th>\n",
       "      <th>sentence_1</th>\n",
       "      <th>sentence_2</th>\n",
       "      <th>label</th>\n",
       "    </tr>\n",
       "  </thead>\n",
       "  <tbody>\n",
       "    <tr>\n",
       "      <th>342</th>\n",
       "      <td>boostcamp-sts-v1-train-342</td>\n",
       "      <td>petition-rtt</td>\n",
       "      <td>정형식 판사 감사 요청</td>\n",
       "      <td>정형식 판사 감사 요청</td>\n",
       "      <td>5.0</td>\n",
       "    </tr>\n",
       "    <tr>\n",
       "      <th>499</th>\n",
       "      <td>boostcamp-sts-v1-train-499</td>\n",
       "      <td>petition-sampled</td>\n",
       "      <td>이명박 출국금지 신청</td>\n",
       "      <td>이명박 출국금지 신청</td>\n",
       "      <td>4.8</td>\n",
       "    </tr>\n",
       "    <tr>\n",
       "      <th>624</th>\n",
       "      <td>boostcamp-sts-v1-train-624</td>\n",
       "      <td>nsmc-rtt</td>\n",
       "      <td>잔잔한 감동으로 다가온 영화,</td>\n",
       "      <td>잔잔한 감동으로 다가온 영화,</td>\n",
       "      <td>5.0</td>\n",
       "    </tr>\n",
       "    <tr>\n",
       "      <th>1054</th>\n",
       "      <td>boostcamp-sts-v1-train-1054</td>\n",
       "      <td>petition-rtt</td>\n",
       "      <td>이수역 폭행 피해자 코스프레 제대로 수사</td>\n",
       "      <td>이수역 폭행 피해자 코스프레 제대로 수사</td>\n",
       "      <td>5.0</td>\n",
       "    </tr>\n",
       "    <tr>\n",
       "      <th>1695</th>\n",
       "      <td>boostcamp-sts-v1-train-1695</td>\n",
       "      <td>petition-sampled</td>\n",
       "      <td>이명박 전 대통령 출국금지 청원합니다</td>\n",
       "      <td>이명박 전 대통령 출국금지 청원합니다</td>\n",
       "      <td>5.0</td>\n",
       "    </tr>\n",
       "    <tr>\n",
       "      <th>2090</th>\n",
       "      <td>boostcamp-sts-v1-train-2090</td>\n",
       "      <td>petition-sampled</td>\n",
       "      <td>가상화폐 폐지 반대합니다.</td>\n",
       "      <td>가상화폐 폐지 반대합니다.</td>\n",
       "      <td>5.0</td>\n",
       "    </tr>\n",
       "    <tr>\n",
       "      <th>2114</th>\n",
       "      <td>boostcamp-sts-v1-train-2114</td>\n",
       "      <td>petition-sampled</td>\n",
       "      <td>20만 명 넘어야 대통령께 답변들을 수 있습니다</td>\n",
       "      <td>20만 명 넘어야 대통령께 답변들을 수 있습니다</td>\n",
       "      <td>5.0</td>\n",
       "    </tr>\n",
       "    <tr>\n",
       "      <th>2230</th>\n",
       "      <td>boostcamp-sts-v1-train-2230</td>\n",
       "      <td>nsmc-rtt</td>\n",
       "      <td>왜 이런 식으로 만들었을까?</td>\n",
       "      <td>왜 이런 식으로 만들었을까?</td>\n",
       "      <td>4.8</td>\n",
       "    </tr>\n",
       "    <tr>\n",
       "      <th>2232</th>\n",
       "      <td>boostcamp-sts-v1-train-2232</td>\n",
       "      <td>petition-sampled</td>\n",
       "      <td>청소년 보호법 폐지 청원</td>\n",
       "      <td>청소년 보호법 폐지 청원</td>\n",
       "      <td>5.0</td>\n",
       "    </tr>\n",
       "    <tr>\n",
       "      <th>2393</th>\n",
       "      <td>boostcamp-sts-v1-train-2393</td>\n",
       "      <td>petition-rtt</td>\n",
       "      <td>학교 교사의 권위를 세워주세요.</td>\n",
       "      <td>학교 교사의 권위를 세워주세요.</td>\n",
       "      <td>5.0</td>\n",
       "    </tr>\n",
       "    <tr>\n",
       "      <th>2493</th>\n",
       "      <td>boostcamp-sts-v1-train-2493</td>\n",
       "      <td>nsmc-rtt</td>\n",
       "      <td>제발 이러지 마..</td>\n",
       "      <td>제발 이러지 마..</td>\n",
       "      <td>5.0</td>\n",
       "    </tr>\n",
       "    <tr>\n",
       "      <th>3056</th>\n",
       "      <td>boostcamp-sts-v1-train-3056</td>\n",
       "      <td>petition-rtt</td>\n",
       "      <td>아파트 단지 내 흡연</td>\n",
       "      <td>아파트 단지 내 흡연</td>\n",
       "      <td>5.0</td>\n",
       "    </tr>\n",
       "    <tr>\n",
       "      <th>3254</th>\n",
       "      <td>boostcamp-sts-v1-train-3254</td>\n",
       "      <td>petition-sampled</td>\n",
       "      <td>수능 연기 반대합니다</td>\n",
       "      <td>수능 연기 반대합니다</td>\n",
       "      <td>5.0</td>\n",
       "    </tr>\n",
       "    <tr>\n",
       "      <th>3992</th>\n",
       "      <td>boostcamp-sts-v1-train-3992</td>\n",
       "      <td>petition-rtt</td>\n",
       "      <td>대학병원 PA 간호사</td>\n",
       "      <td>대학병원 PA 간호사</td>\n",
       "      <td>5.0</td>\n",
       "    </tr>\n",
       "    <tr>\n",
       "      <th>4469</th>\n",
       "      <td>boostcamp-sts-v1-train-4469</td>\n",
       "      <td>nsmc-sampled</td>\n",
       "      <td>한마디로 쓰레기 영화</td>\n",
       "      <td>한마디로 쓰레기 영화</td>\n",
       "      <td>5.0</td>\n",
       "    </tr>\n",
       "    <tr>\n",
       "      <th>4776</th>\n",
       "      <td>boostcamp-sts-v1-train-4776</td>\n",
       "      <td>petition-sampled</td>\n",
       "      <td>청소년법 폐지해 주세요</td>\n",
       "      <td>청소년법 폐지해 주세요</td>\n",
       "      <td>5.0</td>\n",
       "    </tr>\n",
       "    <tr>\n",
       "      <th>4891</th>\n",
       "      <td>boostcamp-sts-v1-train-4891</td>\n",
       "      <td>petition-sampled</td>\n",
       "      <td>청소년법 폐지 부탁드립니다</td>\n",
       "      <td>청소년법 폐지 부탁드립니다</td>\n",
       "      <td>5.0</td>\n",
       "    </tr>\n",
       "    <tr>\n",
       "      <th>5372</th>\n",
       "      <td>boostcamp-sts-v1-train-5372</td>\n",
       "      <td>petition-sampled</td>\n",
       "      <td>정형식 판사 파면 청원</td>\n",
       "      <td>정형식 판사 파면 청원</td>\n",
       "      <td>5.0</td>\n",
       "    </tr>\n",
       "    <tr>\n",
       "      <th>5457</th>\n",
       "      <td>boostcamp-sts-v1-train-5457</td>\n",
       "      <td>petition-rtt</td>\n",
       "      <td>경산 대부 비행장 허가를 원합니다!</td>\n",
       "      <td>경산 대부 비행장 허가를 원합니다!</td>\n",
       "      <td>5.0</td>\n",
       "    </tr>\n",
       "    <tr>\n",
       "      <th>6083</th>\n",
       "      <td>boostcamp-sts-v1-train-6083</td>\n",
       "      <td>nsmc-rtt</td>\n",
       "      <td>최고의 한국 영화!!</td>\n",
       "      <td>최고의 한국 영화!!</td>\n",
       "      <td>5.0</td>\n",
       "    </tr>\n",
       "    <tr>\n",
       "      <th>6188</th>\n",
       "      <td>boostcamp-sts-v1-train-6188</td>\n",
       "      <td>petition-sampled</td>\n",
       "      <td>이명박 출국 금지!!</td>\n",
       "      <td>이명박 출국 금지!!</td>\n",
       "      <td>5.0</td>\n",
       "    </tr>\n",
       "    <tr>\n",
       "      <th>6455</th>\n",
       "      <td>boostcamp-sts-v1-train-6455</td>\n",
       "      <td>slack-rtt</td>\n",
       "      <td>남은 한주도 잘 마무리하시길 바랍니다.</td>\n",
       "      <td>남은 한주도 잘 마무리하시길 바랍니다.</td>\n",
       "      <td>5.0</td>\n",
       "    </tr>\n",
       "    <tr>\n",
       "      <th>6697</th>\n",
       "      <td>boostcamp-sts-v1-train-6697</td>\n",
       "      <td>petition-sampled</td>\n",
       "      <td>이국종 교수를 도와주세요</td>\n",
       "      <td>이국종 교수를 도와주세요</td>\n",
       "      <td>5.0</td>\n",
       "    </tr>\n",
       "    <tr>\n",
       "      <th>6797</th>\n",
       "      <td>boostcamp-sts-v1-train-6797</td>\n",
       "      <td>petition-rtt</td>\n",
       "      <td>삼성 에어컨 실외기 리콜 청원</td>\n",
       "      <td>삼성 에어컨 실외기 리콜 청원</td>\n",
       "      <td>5.0</td>\n",
       "    </tr>\n",
       "    <tr>\n",
       "      <th>6838</th>\n",
       "      <td>boostcamp-sts-v1-train-6838</td>\n",
       "      <td>petition-sampled</td>\n",
       "      <td>조두순 출소 반대합니다.</td>\n",
       "      <td>조두순 출소 반대합니다.</td>\n",
       "      <td>5.0</td>\n",
       "    </tr>\n",
       "    <tr>\n",
       "      <th>7374</th>\n",
       "      <td>boostcamp-sts-v1-train-7374</td>\n",
       "      <td>petition-sampled</td>\n",
       "      <td>소년법 폐지해 주세요!!</td>\n",
       "      <td>소년법 폐지해 주세요!!</td>\n",
       "      <td>4.8</td>\n",
       "    </tr>\n",
       "    <tr>\n",
       "      <th>8679</th>\n",
       "      <td>boostcamp-sts-v1-train-8679</td>\n",
       "      <td>petition-rtt</td>\n",
       "      <td>4차 산업의 가정용 로봇.</td>\n",
       "      <td>4차 산업의 가정용 로봇.</td>\n",
       "      <td>5.0</td>\n",
       "    </tr>\n",
       "    <tr>\n",
       "      <th>8864</th>\n",
       "      <td>boostcamp-sts-v1-train-8864</td>\n",
       "      <td>petition-rtt</td>\n",
       "      <td>이니 굿즈 많이 만들어주세요</td>\n",
       "      <td>이니 굿즈 많이 만들어주세요</td>\n",
       "      <td>5.0</td>\n",
       "    </tr>\n",
       "    <tr>\n",
       "      <th>9088</th>\n",
       "      <td>boostcamp-sts-v1-train-9088</td>\n",
       "      <td>nsmc-sampled</td>\n",
       "      <td>내 인생 최고의 드라마!!</td>\n",
       "      <td>내 인생 최고의 드라마!!</td>\n",
       "      <td>5.0</td>\n",
       "    </tr>\n",
       "  </tbody>\n",
       "</table>\n",
       "</div>"
      ],
      "text/plain": [
       "                               id            source  \\\n",
       "342    boostcamp-sts-v1-train-342      petition-rtt   \n",
       "499    boostcamp-sts-v1-train-499  petition-sampled   \n",
       "624    boostcamp-sts-v1-train-624          nsmc-rtt   \n",
       "1054  boostcamp-sts-v1-train-1054      petition-rtt   \n",
       "1695  boostcamp-sts-v1-train-1695  petition-sampled   \n",
       "2090  boostcamp-sts-v1-train-2090  petition-sampled   \n",
       "2114  boostcamp-sts-v1-train-2114  petition-sampled   \n",
       "2230  boostcamp-sts-v1-train-2230          nsmc-rtt   \n",
       "2232  boostcamp-sts-v1-train-2232  petition-sampled   \n",
       "2393  boostcamp-sts-v1-train-2393      petition-rtt   \n",
       "2493  boostcamp-sts-v1-train-2493          nsmc-rtt   \n",
       "3056  boostcamp-sts-v1-train-3056      petition-rtt   \n",
       "3254  boostcamp-sts-v1-train-3254  petition-sampled   \n",
       "3992  boostcamp-sts-v1-train-3992      petition-rtt   \n",
       "4469  boostcamp-sts-v1-train-4469      nsmc-sampled   \n",
       "4776  boostcamp-sts-v1-train-4776  petition-sampled   \n",
       "4891  boostcamp-sts-v1-train-4891  petition-sampled   \n",
       "5372  boostcamp-sts-v1-train-5372  petition-sampled   \n",
       "5457  boostcamp-sts-v1-train-5457      petition-rtt   \n",
       "6083  boostcamp-sts-v1-train-6083          nsmc-rtt   \n",
       "6188  boostcamp-sts-v1-train-6188  petition-sampled   \n",
       "6455  boostcamp-sts-v1-train-6455         slack-rtt   \n",
       "6697  boostcamp-sts-v1-train-6697  petition-sampled   \n",
       "6797  boostcamp-sts-v1-train-6797      petition-rtt   \n",
       "6838  boostcamp-sts-v1-train-6838  petition-sampled   \n",
       "7374  boostcamp-sts-v1-train-7374  petition-sampled   \n",
       "8679  boostcamp-sts-v1-train-8679      petition-rtt   \n",
       "8864  boostcamp-sts-v1-train-8864      petition-rtt   \n",
       "9088  boostcamp-sts-v1-train-9088      nsmc-sampled   \n",
       "\n",
       "                      sentence_1                  sentence_2  label  \n",
       "342                 정형식 판사 감사 요청                정형식 판사 감사 요청    5.0  \n",
       "499                  이명박 출국금지 신청                 이명박 출국금지 신청    4.8  \n",
       "624             잔잔한 감동으로 다가온 영화,            잔잔한 감동으로 다가온 영화,    5.0  \n",
       "1054      이수역 폭행 피해자 코스프레 제대로 수사      이수역 폭행 피해자 코스프레 제대로 수사    5.0  \n",
       "1695        이명박 전 대통령 출국금지 청원합니다        이명박 전 대통령 출국금지 청원합니다    5.0  \n",
       "2090              가상화폐 폐지 반대합니다.              가상화폐 폐지 반대합니다.    5.0  \n",
       "2114  20만 명 넘어야 대통령께 답변들을 수 있습니다  20만 명 넘어야 대통령께 답변들을 수 있습니다    5.0  \n",
       "2230             왜 이런 식으로 만들었을까?             왜 이런 식으로 만들었을까?    4.8  \n",
       "2232               청소년 보호법 폐지 청원               청소년 보호법 폐지 청원    5.0  \n",
       "2393           학교 교사의 권위를 세워주세요.           학교 교사의 권위를 세워주세요.    5.0  \n",
       "2493                  제발 이러지 마..                  제발 이러지 마..    5.0  \n",
       "3056                 아파트 단지 내 흡연                 아파트 단지 내 흡연    5.0  \n",
       "3254                 수능 연기 반대합니다                 수능 연기 반대합니다    5.0  \n",
       "3992                 대학병원 PA 간호사                 대학병원 PA 간호사    5.0  \n",
       "4469                 한마디로 쓰레기 영화                 한마디로 쓰레기 영화    5.0  \n",
       "4776                청소년법 폐지해 주세요                청소년법 폐지해 주세요    5.0  \n",
       "4891              청소년법 폐지 부탁드립니다              청소년법 폐지 부탁드립니다    5.0  \n",
       "5372                정형식 판사 파면 청원                정형식 판사 파면 청원    5.0  \n",
       "5457         경산 대부 비행장 허가를 원합니다!         경산 대부 비행장 허가를 원합니다!    5.0  \n",
       "6083                 최고의 한국 영화!!                 최고의 한국 영화!!    5.0  \n",
       "6188                 이명박 출국 금지!!                 이명박 출국 금지!!    5.0  \n",
       "6455       남은 한주도 잘 마무리하시길 바랍니다.       남은 한주도 잘 마무리하시길 바랍니다.    5.0  \n",
       "6697               이국종 교수를 도와주세요               이국종 교수를 도와주세요    5.0  \n",
       "6797            삼성 에어컨 실외기 리콜 청원            삼성 에어컨 실외기 리콜 청원    5.0  \n",
       "6838               조두순 출소 반대합니다.               조두순 출소 반대합니다.    5.0  \n",
       "7374               소년법 폐지해 주세요!!               소년법 폐지해 주세요!!    4.8  \n",
       "8679              4차 산업의 가정용 로봇.              4차 산업의 가정용 로봇.    5.0  \n",
       "8864             이니 굿즈 많이 만들어주세요             이니 굿즈 많이 만들어주세요    5.0  \n",
       "9088              내 인생 최고의 드라마!!              내 인생 최고의 드라마!!    5.0  "
      ]
     },
     "execution_count": 242,
     "metadata": {},
     "output_type": "execute_result"
    }
   ],
   "source": [
    "train[train['sentence_1'] == train['sentence_2']]"
   ]
  },
  {
   "cell_type": "code",
   "execution_count": 243,
   "metadata": {},
   "outputs": [],
   "source": [
    "train.loc[train['sentence_1'] == train['sentence_2'], 'label'] = 5.0\n"
   ]
  },
  {
   "cell_type": "code",
   "execution_count": 251,
   "metadata": {},
   "outputs": [
    {
     "data": {
      "text/html": [
       "<div>\n",
       "<style scoped>\n",
       "    .dataframe tbody tr th:only-of-type {\n",
       "        vertical-align: middle;\n",
       "    }\n",
       "\n",
       "    .dataframe tbody tr th {\n",
       "        vertical-align: top;\n",
       "    }\n",
       "\n",
       "    .dataframe thead th {\n",
       "        text-align: right;\n",
       "    }\n",
       "</style>\n",
       "<table border=\"1\" class=\"dataframe\">\n",
       "  <thead>\n",
       "    <tr style=\"text-align: right;\">\n",
       "      <th></th>\n",
       "      <th>id</th>\n",
       "      <th>source</th>\n",
       "      <th>sentence_1</th>\n",
       "      <th>sentence_2</th>\n",
       "      <th>label</th>\n",
       "    </tr>\n",
       "  </thead>\n",
       "  <tbody>\n",
       "    <tr>\n",
       "      <th>342</th>\n",
       "      <td>boostcamp-sts-v1-train-342</td>\n",
       "      <td>petition-rtt</td>\n",
       "      <td>정형식 판사 감사 요청</td>\n",
       "      <td>정형식 판사 감사 요청</td>\n",
       "      <td>5.0</td>\n",
       "    </tr>\n",
       "    <tr>\n",
       "      <th>499</th>\n",
       "      <td>boostcamp-sts-v1-train-499</td>\n",
       "      <td>petition-sampled</td>\n",
       "      <td>이명박 출국금지 신청</td>\n",
       "      <td>이명박 출국금지 신청</td>\n",
       "      <td>5.0</td>\n",
       "    </tr>\n",
       "    <tr>\n",
       "      <th>624</th>\n",
       "      <td>boostcamp-sts-v1-train-624</td>\n",
       "      <td>nsmc-rtt</td>\n",
       "      <td>잔잔한 감동으로 다가온 영화,</td>\n",
       "      <td>잔잔한 감동으로 다가온 영화,</td>\n",
       "      <td>5.0</td>\n",
       "    </tr>\n",
       "    <tr>\n",
       "      <th>1054</th>\n",
       "      <td>boostcamp-sts-v1-train-1054</td>\n",
       "      <td>petition-rtt</td>\n",
       "      <td>이수역 폭행 피해자 코스프레 제대로 수사</td>\n",
       "      <td>이수역 폭행 피해자 코스프레 제대로 수사</td>\n",
       "      <td>5.0</td>\n",
       "    </tr>\n",
       "    <tr>\n",
       "      <th>1695</th>\n",
       "      <td>boostcamp-sts-v1-train-1695</td>\n",
       "      <td>petition-sampled</td>\n",
       "      <td>이명박 전 대통령 출국금지 청원합니다</td>\n",
       "      <td>이명박 전 대통령 출국금지 청원합니다</td>\n",
       "      <td>5.0</td>\n",
       "    </tr>\n",
       "    <tr>\n",
       "      <th>2090</th>\n",
       "      <td>boostcamp-sts-v1-train-2090</td>\n",
       "      <td>petition-sampled</td>\n",
       "      <td>가상화폐 폐지 반대합니다.</td>\n",
       "      <td>가상화폐 폐지 반대합니다.</td>\n",
       "      <td>5.0</td>\n",
       "    </tr>\n",
       "    <tr>\n",
       "      <th>2114</th>\n",
       "      <td>boostcamp-sts-v1-train-2114</td>\n",
       "      <td>petition-sampled</td>\n",
       "      <td>20만 명 넘어야 대통령께 답변들을 수 있습니다</td>\n",
       "      <td>20만 명 넘어야 대통령께 답변들을 수 있습니다</td>\n",
       "      <td>5.0</td>\n",
       "    </tr>\n",
       "    <tr>\n",
       "      <th>2230</th>\n",
       "      <td>boostcamp-sts-v1-train-2230</td>\n",
       "      <td>nsmc-rtt</td>\n",
       "      <td>왜 이런 식으로 만들었을까?</td>\n",
       "      <td>왜 이런 식으로 만들었을까?</td>\n",
       "      <td>5.0</td>\n",
       "    </tr>\n",
       "    <tr>\n",
       "      <th>2232</th>\n",
       "      <td>boostcamp-sts-v1-train-2232</td>\n",
       "      <td>petition-sampled</td>\n",
       "      <td>청소년 보호법 폐지 청원</td>\n",
       "      <td>청소년 보호법 폐지 청원</td>\n",
       "      <td>5.0</td>\n",
       "    </tr>\n",
       "    <tr>\n",
       "      <th>2393</th>\n",
       "      <td>boostcamp-sts-v1-train-2393</td>\n",
       "      <td>petition-rtt</td>\n",
       "      <td>학교 교사의 권위를 세워주세요.</td>\n",
       "      <td>학교 교사의 권위를 세워주세요.</td>\n",
       "      <td>5.0</td>\n",
       "    </tr>\n",
       "    <tr>\n",
       "      <th>2493</th>\n",
       "      <td>boostcamp-sts-v1-train-2493</td>\n",
       "      <td>nsmc-rtt</td>\n",
       "      <td>제발 이러지 마..</td>\n",
       "      <td>제발 이러지 마..</td>\n",
       "      <td>5.0</td>\n",
       "    </tr>\n",
       "    <tr>\n",
       "      <th>3056</th>\n",
       "      <td>boostcamp-sts-v1-train-3056</td>\n",
       "      <td>petition-rtt</td>\n",
       "      <td>아파트 단지 내 흡연</td>\n",
       "      <td>아파트 단지 내 흡연</td>\n",
       "      <td>5.0</td>\n",
       "    </tr>\n",
       "    <tr>\n",
       "      <th>3254</th>\n",
       "      <td>boostcamp-sts-v1-train-3254</td>\n",
       "      <td>petition-sampled</td>\n",
       "      <td>수능 연기 반대합니다</td>\n",
       "      <td>수능 연기 반대합니다</td>\n",
       "      <td>5.0</td>\n",
       "    </tr>\n",
       "    <tr>\n",
       "      <th>3992</th>\n",
       "      <td>boostcamp-sts-v1-train-3992</td>\n",
       "      <td>petition-rtt</td>\n",
       "      <td>대학병원 PA 간호사</td>\n",
       "      <td>대학병원 PA 간호사</td>\n",
       "      <td>5.0</td>\n",
       "    </tr>\n",
       "    <tr>\n",
       "      <th>4469</th>\n",
       "      <td>boostcamp-sts-v1-train-4469</td>\n",
       "      <td>nsmc-sampled</td>\n",
       "      <td>한마디로 쓰레기 영화</td>\n",
       "      <td>한마디로 쓰레기 영화</td>\n",
       "      <td>5.0</td>\n",
       "    </tr>\n",
       "    <tr>\n",
       "      <th>4776</th>\n",
       "      <td>boostcamp-sts-v1-train-4776</td>\n",
       "      <td>petition-sampled</td>\n",
       "      <td>청소년법 폐지해 주세요</td>\n",
       "      <td>청소년법 폐지해 주세요</td>\n",
       "      <td>5.0</td>\n",
       "    </tr>\n",
       "    <tr>\n",
       "      <th>4891</th>\n",
       "      <td>boostcamp-sts-v1-train-4891</td>\n",
       "      <td>petition-sampled</td>\n",
       "      <td>청소년법 폐지 부탁드립니다</td>\n",
       "      <td>청소년법 폐지 부탁드립니다</td>\n",
       "      <td>5.0</td>\n",
       "    </tr>\n",
       "    <tr>\n",
       "      <th>5372</th>\n",
       "      <td>boostcamp-sts-v1-train-5372</td>\n",
       "      <td>petition-sampled</td>\n",
       "      <td>정형식 판사 파면 청원</td>\n",
       "      <td>정형식 판사 파면 청원</td>\n",
       "      <td>5.0</td>\n",
       "    </tr>\n",
       "    <tr>\n",
       "      <th>5457</th>\n",
       "      <td>boostcamp-sts-v1-train-5457</td>\n",
       "      <td>petition-rtt</td>\n",
       "      <td>경산 대부 비행장 허가를 원합니다!</td>\n",
       "      <td>경산 대부 비행장 허가를 원합니다!</td>\n",
       "      <td>5.0</td>\n",
       "    </tr>\n",
       "    <tr>\n",
       "      <th>6083</th>\n",
       "      <td>boostcamp-sts-v1-train-6083</td>\n",
       "      <td>nsmc-rtt</td>\n",
       "      <td>최고의 한국 영화!!</td>\n",
       "      <td>최고의 한국 영화!!</td>\n",
       "      <td>5.0</td>\n",
       "    </tr>\n",
       "    <tr>\n",
       "      <th>6188</th>\n",
       "      <td>boostcamp-sts-v1-train-6188</td>\n",
       "      <td>petition-sampled</td>\n",
       "      <td>이명박 출국 금지!!</td>\n",
       "      <td>이명박 출국 금지!!</td>\n",
       "      <td>5.0</td>\n",
       "    </tr>\n",
       "    <tr>\n",
       "      <th>6455</th>\n",
       "      <td>boostcamp-sts-v1-train-6455</td>\n",
       "      <td>slack-rtt</td>\n",
       "      <td>남은 한주도 잘 마무리하시길 바랍니다.</td>\n",
       "      <td>남은 한주도 잘 마무리하시길 바랍니다.</td>\n",
       "      <td>5.0</td>\n",
       "    </tr>\n",
       "    <tr>\n",
       "      <th>6697</th>\n",
       "      <td>boostcamp-sts-v1-train-6697</td>\n",
       "      <td>petition-sampled</td>\n",
       "      <td>이국종 교수를 도와주세요</td>\n",
       "      <td>이국종 교수를 도와주세요</td>\n",
       "      <td>5.0</td>\n",
       "    </tr>\n",
       "    <tr>\n",
       "      <th>6797</th>\n",
       "      <td>boostcamp-sts-v1-train-6797</td>\n",
       "      <td>petition-rtt</td>\n",
       "      <td>삼성 에어컨 실외기 리콜 청원</td>\n",
       "      <td>삼성 에어컨 실외기 리콜 청원</td>\n",
       "      <td>5.0</td>\n",
       "    </tr>\n",
       "    <tr>\n",
       "      <th>6838</th>\n",
       "      <td>boostcamp-sts-v1-train-6838</td>\n",
       "      <td>petition-sampled</td>\n",
       "      <td>조두순 출소 반대합니다.</td>\n",
       "      <td>조두순 출소 반대합니다.</td>\n",
       "      <td>5.0</td>\n",
       "    </tr>\n",
       "    <tr>\n",
       "      <th>7374</th>\n",
       "      <td>boostcamp-sts-v1-train-7374</td>\n",
       "      <td>petition-sampled</td>\n",
       "      <td>소년법 폐지해 주세요!!</td>\n",
       "      <td>소년법 폐지해 주세요!!</td>\n",
       "      <td>5.0</td>\n",
       "    </tr>\n",
       "    <tr>\n",
       "      <th>8679</th>\n",
       "      <td>boostcamp-sts-v1-train-8679</td>\n",
       "      <td>petition-rtt</td>\n",
       "      <td>4차 산업의 가정용 로봇.</td>\n",
       "      <td>4차 산업의 가정용 로봇.</td>\n",
       "      <td>5.0</td>\n",
       "    </tr>\n",
       "    <tr>\n",
       "      <th>8864</th>\n",
       "      <td>boostcamp-sts-v1-train-8864</td>\n",
       "      <td>petition-rtt</td>\n",
       "      <td>이니 굿즈 많이 만들어주세요</td>\n",
       "      <td>이니 굿즈 많이 만들어주세요</td>\n",
       "      <td>5.0</td>\n",
       "    </tr>\n",
       "    <tr>\n",
       "      <th>9088</th>\n",
       "      <td>boostcamp-sts-v1-train-9088</td>\n",
       "      <td>nsmc-sampled</td>\n",
       "      <td>내 인생 최고의 드라마!!</td>\n",
       "      <td>내 인생 최고의 드라마!!</td>\n",
       "      <td>5.0</td>\n",
       "    </tr>\n",
       "  </tbody>\n",
       "</table>\n",
       "</div>"
      ],
      "text/plain": [
       "                               id            source  \\\n",
       "342    boostcamp-sts-v1-train-342      petition-rtt   \n",
       "499    boostcamp-sts-v1-train-499  petition-sampled   \n",
       "624    boostcamp-sts-v1-train-624          nsmc-rtt   \n",
       "1054  boostcamp-sts-v1-train-1054      petition-rtt   \n",
       "1695  boostcamp-sts-v1-train-1695  petition-sampled   \n",
       "2090  boostcamp-sts-v1-train-2090  petition-sampled   \n",
       "2114  boostcamp-sts-v1-train-2114  petition-sampled   \n",
       "2230  boostcamp-sts-v1-train-2230          nsmc-rtt   \n",
       "2232  boostcamp-sts-v1-train-2232  petition-sampled   \n",
       "2393  boostcamp-sts-v1-train-2393      petition-rtt   \n",
       "2493  boostcamp-sts-v1-train-2493          nsmc-rtt   \n",
       "3056  boostcamp-sts-v1-train-3056      petition-rtt   \n",
       "3254  boostcamp-sts-v1-train-3254  petition-sampled   \n",
       "3992  boostcamp-sts-v1-train-3992      petition-rtt   \n",
       "4469  boostcamp-sts-v1-train-4469      nsmc-sampled   \n",
       "4776  boostcamp-sts-v1-train-4776  petition-sampled   \n",
       "4891  boostcamp-sts-v1-train-4891  petition-sampled   \n",
       "5372  boostcamp-sts-v1-train-5372  petition-sampled   \n",
       "5457  boostcamp-sts-v1-train-5457      petition-rtt   \n",
       "6083  boostcamp-sts-v1-train-6083          nsmc-rtt   \n",
       "6188  boostcamp-sts-v1-train-6188  petition-sampled   \n",
       "6455  boostcamp-sts-v1-train-6455         slack-rtt   \n",
       "6697  boostcamp-sts-v1-train-6697  petition-sampled   \n",
       "6797  boostcamp-sts-v1-train-6797      petition-rtt   \n",
       "6838  boostcamp-sts-v1-train-6838  petition-sampled   \n",
       "7374  boostcamp-sts-v1-train-7374  petition-sampled   \n",
       "8679  boostcamp-sts-v1-train-8679      petition-rtt   \n",
       "8864  boostcamp-sts-v1-train-8864      petition-rtt   \n",
       "9088  boostcamp-sts-v1-train-9088      nsmc-sampled   \n",
       "\n",
       "                      sentence_1                  sentence_2  label  \n",
       "342                 정형식 판사 감사 요청                정형식 판사 감사 요청    5.0  \n",
       "499                  이명박 출국금지 신청                 이명박 출국금지 신청    5.0  \n",
       "624             잔잔한 감동으로 다가온 영화,            잔잔한 감동으로 다가온 영화,    5.0  \n",
       "1054      이수역 폭행 피해자 코스프레 제대로 수사      이수역 폭행 피해자 코스프레 제대로 수사    5.0  \n",
       "1695        이명박 전 대통령 출국금지 청원합니다        이명박 전 대통령 출국금지 청원합니다    5.0  \n",
       "2090              가상화폐 폐지 반대합니다.              가상화폐 폐지 반대합니다.    5.0  \n",
       "2114  20만 명 넘어야 대통령께 답변들을 수 있습니다  20만 명 넘어야 대통령께 답변들을 수 있습니다    5.0  \n",
       "2230             왜 이런 식으로 만들었을까?             왜 이런 식으로 만들었을까?    5.0  \n",
       "2232               청소년 보호법 폐지 청원               청소년 보호법 폐지 청원    5.0  \n",
       "2393           학교 교사의 권위를 세워주세요.           학교 교사의 권위를 세워주세요.    5.0  \n",
       "2493                  제발 이러지 마..                  제발 이러지 마..    5.0  \n",
       "3056                 아파트 단지 내 흡연                 아파트 단지 내 흡연    5.0  \n",
       "3254                 수능 연기 반대합니다                 수능 연기 반대합니다    5.0  \n",
       "3992                 대학병원 PA 간호사                 대학병원 PA 간호사    5.0  \n",
       "4469                 한마디로 쓰레기 영화                 한마디로 쓰레기 영화    5.0  \n",
       "4776                청소년법 폐지해 주세요                청소년법 폐지해 주세요    5.0  \n",
       "4891              청소년법 폐지 부탁드립니다              청소년법 폐지 부탁드립니다    5.0  \n",
       "5372                정형식 판사 파면 청원                정형식 판사 파면 청원    5.0  \n",
       "5457         경산 대부 비행장 허가를 원합니다!         경산 대부 비행장 허가를 원합니다!    5.0  \n",
       "6083                 최고의 한국 영화!!                 최고의 한국 영화!!    5.0  \n",
       "6188                 이명박 출국 금지!!                 이명박 출국 금지!!    5.0  \n",
       "6455       남은 한주도 잘 마무리하시길 바랍니다.       남은 한주도 잘 마무리하시길 바랍니다.    5.0  \n",
       "6697               이국종 교수를 도와주세요               이국종 교수를 도와주세요    5.0  \n",
       "6797            삼성 에어컨 실외기 리콜 청원            삼성 에어컨 실외기 리콜 청원    5.0  \n",
       "6838               조두순 출소 반대합니다.               조두순 출소 반대합니다.    5.0  \n",
       "7374               소년법 폐지해 주세요!!               소년법 폐지해 주세요!!    5.0  \n",
       "8679              4차 산업의 가정용 로봇.              4차 산업의 가정용 로봇.    5.0  \n",
       "8864             이니 굿즈 많이 만들어주세요             이니 굿즈 많이 만들어주세요    5.0  \n",
       "9088              내 인생 최고의 드라마!!              내 인생 최고의 드라마!!    5.0  "
      ]
     },
     "execution_count": 251,
     "metadata": {},
     "output_type": "execute_result"
    }
   ],
   "source": [
    "train[train['sentence_1'] == train['sentence_2']]"
   ]
  },
  {
   "cell_type": "code",
   "execution_count": 252,
   "metadata": {},
   "outputs": [
    {
     "name": "stdout",
     "output_type": "stream",
     "text": [
      "label\n",
      "0.0    2119\n",
      "4.0     516\n",
      "0.4     482\n",
      "3.8     452\n",
      "4.2     426\n",
      "3.6     400\n",
      "0.6     372\n",
      "0.8     358\n",
      "0.2     345\n",
      "1.0     342\n",
      "1.2     332\n",
      "3.0     283\n",
      "3.4     279\n",
      "3.2     270\n",
      "2.8     267\n",
      "1.4     254\n",
      "1.8     246\n",
      "2.0     236\n",
      "2.6     235\n",
      "4.4     209\n",
      "2.2     190\n",
      "2.4     187\n",
      "1.6     172\n",
      "5.0      94\n",
      "4.6      81\n",
      "4.8      56\n",
      "0.5      35\n",
      "3.5      31\n",
      "2.5      22\n",
      "1.5      22\n",
      "4.5      11\n",
      "Name: count, dtype: int64\n"
     ]
    }
   ],
   "source": [
    "# count the number of 0 values in 'label' column\n",
    "print(train['label'].value_counts())"
   ]
  },
  {
   "cell_type": "code",
   "execution_count": 253,
   "metadata": {},
   "outputs": [
    {
     "data": {
      "text/plain": [
       "label\n",
       "0.0    1619\n",
       "Name: count, dtype: int64"
      ]
     },
     "execution_count": 253,
     "metadata": {},
     "output_type": "execute_result"
    }
   ],
   "source": [
    "# sample 500 rows with 'label' values between 0 and 0.2 and drop the rest\n",
    "# first, pick 500 rows with 'label' values between 0 and 0.2\n",
    "sample = train[train['label'] == 0.0].sample(1619, random_state=42)\n",
    "sample['label'].value_counts()"
   ]
  },
  {
   "cell_type": "code",
   "execution_count": 254,
   "metadata": {},
   "outputs": [
    {
     "name": "stdout",
     "output_type": "stream",
     "text": [
      "label\n",
      "0.0    500\n",
      "0.2    345\n",
      "0.4    482\n",
      "0.5     35\n",
      "0.6    372\n",
      "0.8    358\n",
      "1.0    342\n",
      "1.2    332\n",
      "1.4    254\n",
      "1.5     22\n",
      "1.6    172\n",
      "1.8    246\n",
      "2.0    236\n",
      "2.2    190\n",
      "2.4    187\n",
      "2.5     22\n",
      "2.6    235\n",
      "2.8    267\n",
      "3.0    283\n",
      "3.2    270\n",
      "3.4    279\n",
      "3.5     31\n",
      "3.6    400\n",
      "3.8    452\n",
      "4.0    516\n",
      "4.2    426\n",
      "4.4    209\n",
      "4.5     11\n",
      "4.6     81\n",
      "4.8     56\n",
      "5.0     94\n",
      "Name: count, dtype: int64\n"
     ]
    }
   ],
   "source": [
    "# then, drop 'sample' rows from 'train' and assign to 'train_0_dropped'\n",
    "train_0_500 = train.drop(sample.index)\n",
    "# value_count with label increasing order\n",
    "print(train_0_500['label'].value_counts().sort_index())\n"
   ]
  },
  {
   "cell_type": "code",
   "execution_count": 256,
   "metadata": {},
   "outputs": [
    {
     "data": {
      "text/plain": [
       "label\n",
       "5.0    1619\n",
       "Name: count, dtype: int64"
      ]
     },
     "execution_count": 256,
     "metadata": {},
     "output_type": "execute_result"
    }
   ],
   "source": [
    "sample['sentence_2'] = sample['sentence_1']\n",
    "sample['label'] = 5.0\n",
    "sample['label'].value_counts()"
   ]
  },
  {
   "cell_type": "code",
   "execution_count": 258,
   "metadata": {},
   "outputs": [
    {
     "name": "stdout",
     "output_type": "stream",
     "text": [
      "label\n",
      "0.0    500\n",
      "0.2    345\n",
      "0.4    482\n",
      "0.5     35\n",
      "0.6    372\n",
      "0.8    358\n",
      "1.0    342\n",
      "1.2    332\n",
      "1.4    254\n",
      "1.5     22\n",
      "1.6    172\n",
      "1.8    246\n",
      "2.0    236\n",
      "2.2    190\n",
      "2.4    187\n",
      "2.5     22\n",
      "2.6    235\n",
      "2.8    267\n",
      "3.0    283\n",
      "3.2    270\n",
      "3.4    279\n",
      "3.5     31\n",
      "3.6    400\n",
      "3.8    452\n",
      "4.0    516\n",
      "4.2    426\n",
      "4.4    209\n",
      "4.5     11\n",
      "4.6     81\n",
      "4.8     56\n",
      "5.0    500\n",
      "Name: count, dtype: int64\n"
     ]
    }
   ],
   "source": [
    "# from sample, pick 400 rows randomly and assign to 'sample_5_500'\n",
    "sample_5_500 = sample.sample(406, random_state=42)\n",
    "\n",
    "# add 'sample_5_500' to 'train_0_500'\n",
    "train_0_5_500 = pd.concat([train_0_500, sample_5_500])\n",
    "\n",
    "# make picture bigger and need x.ticks by 0.1\n",
    "print(train_0_5_500['label'].value_counts().sort_index())\n"
   ]
  },
  {
   "cell_type": "code",
   "execution_count": 259,
   "metadata": {},
   "outputs": [
    {
     "data": {
      "text/plain": [
       "(435, 5)"
      ]
     },
     "execution_count": 259,
     "metadata": {},
     "output_type": "execute_result"
    }
   ],
   "source": [
    "train_0_5_500[train_0_5_500['sentence_1'] == train_0_5_500['sentence_2']].shape"
   ]
  },
  {
   "cell_type": "code",
   "execution_count": 260,
   "metadata": {},
   "outputs": [
    {
     "data": {
      "image/png": "[encoded data removed]",
      "text/plain": [
       "<Figure size 1500x800 with 1 Axes>"
      ]
     },
     "metadata": {},
     "output_type": "display_data"
    }
   ],
   "source": [
    "import matplotlib.pyplot as plt\n",
    "import numpy as np\n",
    "\n",
    "# 히스토그램 그리기\n",
    "train_0_5_500.hist(bins=np.arange(0, 5.1, 0.1), figsize=(15, 8), edgecolor='black')  # 0.1 단위의 bin 설정\n",
    "\n",
    "# x 눈금을 0.1 단위로 설정\n",
    "x_ticks = np.arange(0, 5.1, 0.1)  # 0부터 5까지 0.1 간격으로 눈금 설정\n",
    "plt.xticks(x_ticks, fontsize=10, rotation=45)\n",
    "plt.xlim(0, 5.1)  # x축 범위 설정\n",
    "\n",
    "# 그래프 보여주기\n",
    "plt.tight_layout()  # 화면 비율에 맞추기\n",
    "plt.show()\n"
   ]
  },
  {
   "cell_type": "code",
   "execution_count": 261,
   "metadata": {},
   "outputs": [
    {
     "name": "stdout",
     "output_type": "stream",
     "text": [
      "2434 1604 1420 2231 1393\n"
     ]
    }
   ],
   "source": [
    "# split 0-1, 1-2, 2-3, 3-4, 4-5 and check the number of samples in each bin\n",
    "# 4-5 includes 5.0\n",
    "train_0_1 = train_0_500[train_0_500['label'].between(0, 1)]\n",
    "train_1_2 = train_0_500[train_0_500['label'].between(1, 2)]\n",
    "train_2_3 = train_0_500[train_0_500['label'].between(2, 3)]\n",
    "train_3_4 = train_0_500[train_0_500['label'].between(3, 4)]\n",
    "train_4_5 = train_0_500[train_0_500['label'].between(4, 5.1)]\n",
    "\n",
    "print(train_0_1.shape[0], train_1_2.shape[0], train_2_3.shape[0], train_3_4.shape[0], train_4_5.shape[0])"
   ]
  },
  {
   "cell_type": "code",
   "execution_count": 262,
   "metadata": {},
   "outputs": [
    {
     "name": "stdout",
     "output_type": "stream",
     "text": [
      "{0.0: 500, 0.1: 0, 0.2: 345, 0.3: 0, 0.4: 482, 0.5: 35, 0.6: 372, 0.7: 0, 0.8: 358, 0.9: 0, 1.0: 342, 1.1: 0, 1.2: 332, 1.3: 0, 1.4: 254, 1.5: 22, 1.6: 172, 1.7: 0, 1.8: 246, 1.9: 0, 2.0: 236, 2.1: 0, 2.2: 190, 2.3: 0, 2.4: 187, 2.5: 22, 2.6: 235, 2.7: 0, 2.8: 267, 2.9: 0, 3.0: 283, 3.1: 0, 3.2: 270, 3.3: 0, 3.4: 279, 3.5: 31, 3.6: 400, 3.7: 0, 3.8: 452, 3.9: 0, 4.0: 516, 4.1: 0, 4.2: 426, 4.3: 0, 4.4: 209, 4.5: 11, 4.6: 81, 4.7: 0, 4.8: 56, 4.9: 0, 5.0: 500}\n",
      "516\n"
     ]
    }
   ],
   "source": [
    "# 0.1 구간 별로 train_0_5_500이 몇개의 데이터를 가지고 있는지 확인\n",
    "nums = {}\n",
    "for i in range(0, 51):\n",
    "    nums[i/10] = train_0_5_500[train_0_5_500['label'] == i/10].shape[0]\n",
    "    \n",
    "print(nums)\n",
    "# print maximum and minimum number of samples\n",
    "print(max(nums.values()))\n"
   ]
  },
  {
   "cell_type": "code",
   "execution_count": 263,
   "metadata": {},
   "outputs": [
    {
     "name": "stderr",
     "output_type": "stream",
     "text": [
      "/tmp/ipykernel_1240598/1441160179.py:14: SettingWithCopyWarning: \n",
      "A value is trying to be set on a copy of a slice from a DataFrame.\n",
      "Try using .loc[row_indexer,col_indexer] = value instead\n",
      "\n",
      "See the caveats in the documentation: https://pandas.pydata.org/pandas-docs/stable/user_guide/indexing.html#returning-a-view-versus-a-copy\n",
      "  temp['sentence_1'] = temp_var_2\n",
      "/tmp/ipykernel_1240598/1441160179.py:15: SettingWithCopyWarning: \n",
      "A value is trying to be set on a copy of a slice from a DataFrame.\n",
      "Try using .loc[row_indexer,col_indexer] = value instead\n",
      "\n",
      "See the caveats in the documentation: https://pandas.pydata.org/pandas-docs/stable/user_guide/indexing.html#returning-a-view-versus-a-copy\n",
      "  temp['sentence_2'] = temp_var_1\n"
     ]
    },
    {
     "data": {
      "text/plain": [
       "label\n",
       "0.0    500\n",
       "0.2    500\n",
       "0.4    500\n",
       "0.5     70\n",
       "0.6    500\n",
       "0.8    500\n",
       "1.0    500\n",
       "1.2    500\n",
       "1.4    500\n",
       "1.5     44\n",
       "1.6    344\n",
       "1.8    492\n",
       "2.0    472\n",
       "2.2    380\n",
       "2.4    374\n",
       "2.5     44\n",
       "2.6    470\n",
       "2.8    500\n",
       "3.0    500\n",
       "3.2    500\n",
       "3.4    500\n",
       "3.5     62\n",
       "3.6    500\n",
       "3.8    500\n",
       "4.0    516\n",
       "4.2    500\n",
       "4.4    418\n",
       "4.5     22\n",
       "4.6    162\n",
       "4.8    112\n",
       "5.0    500\n",
       "Name: count, dtype: int64"
      ]
     },
     "execution_count": 263,
     "metadata": {},
     "output_type": "execute_result"
    }
   ],
   "source": [
    "# pick samples to be added for each bin\n",
    "# copy train_0_5_500 -> train_even\n",
    "\n",
    "train_even = train_0_5_500.copy()\n",
    "\n",
    "for key, value in nums.items():\n",
    "    if value > 0 and value < 500:\n",
    "        # concatenate the samples to be added to 'train_0_5_500'\n",
    "        if value < 250:\n",
    "            temp = train_0_5_500[train_0_5_500['label'] == key]\n",
    "            # swap 'sentence_1' and 'sentence_2'\n",
    "            temp_var_1 = temp['sentence_1'].copy()\n",
    "            temp_var_2 = temp['sentence_2'].copy()\n",
    "            temp['sentence_1'] = temp_var_2\n",
    "            temp['sentence_2'] = temp_var_1            \n",
    "            train_even = pd.concat([train_even, temp])\n",
    "        else:\n",
    "            temp = train_0_5_500[train_0_5_500['label'] == key].sample(500-value, random_state=42)\n",
    "            # swap 'sentence_1' and 'sentence_2'\n",
    "            temp_var_1 = temp['sentence_1'].copy()\n",
    "            temp_var_2 = temp['sentence_2'].copy()\n",
    "            temp['sentence_1'] = temp_var_2\n",
    "            temp['sentence_2'] = temp_var_1      \n",
    "            train_even = pd.concat([train_even, temp])\n",
    "        \n",
    "train_even['label'].value_counts().sort_index()\n",
    "        "
   ]
  },
  {
   "cell_type": "code",
   "execution_count": 264,
   "metadata": {},
   "outputs": [
    {
     "data": {
      "image/png": "[encoded data removed]",
      "text/plain": [
       "<Figure size 1500x800 with 1 Axes>"
      ]
     },
     "metadata": {},
     "output_type": "display_data"
    }
   ],
   "source": [
    "train_even.hist(bins=np.arange(0, 5.1, 0.1), figsize=(15, 8), edgecolor='black')  # 0.1 단위의 bin 설정\n",
    "x_ticks = np.arange(0, 5.1, 0.1)  # 0부터 5까지 0.1 간격으로 눈금 설정\n",
    "plt.xticks(x_ticks, fontsize=10, rotation=45)\n",
    "plt.xlim(0, 5.1)  # x축 범위 설정\n",
    "plt.tight_layout()  # 화면 비율에 맞추기\n",
    "plt.show()"
   ]
  },
  {
   "cell_type": "code",
   "execution_count": 266,
   "metadata": {},
   "outputs": [
    {
     "name": "stdout",
     "output_type": "stream",
     "text": [
      "0\n"
     ]
    }
   ],
   "source": [
    "# check duplicated rows\n",
    "print(train_even.duplicated().sum())"
   ]
  },
  {
   "cell_type": "code",
   "execution_count": 267,
   "metadata": {},
   "outputs": [
    {
     "name": "stdout",
     "output_type": "stream",
     "text": [
      "435\n"
     ]
    },
    {
     "data": {
      "text/html": [
       "<div>\n",
       "<style scoped>\n",
       "    .dataframe tbody tr th:only-of-type {\n",
       "        vertical-align: middle;\n",
       "    }\n",
       "\n",
       "    .dataframe tbody tr th {\n",
       "        vertical-align: top;\n",
       "    }\n",
       "\n",
       "    .dataframe thead th {\n",
       "        text-align: right;\n",
       "    }\n",
       "</style>\n",
       "<table border=\"1\" class=\"dataframe\">\n",
       "  <thead>\n",
       "    <tr style=\"text-align: right;\">\n",
       "      <th></th>\n",
       "      <th>id</th>\n",
       "      <th>source</th>\n",
       "      <th>sentence_1</th>\n",
       "      <th>sentence_2</th>\n",
       "      <th>label</th>\n",
       "    </tr>\n",
       "  </thead>\n",
       "  <tbody>\n",
       "    <tr>\n",
       "      <th>342</th>\n",
       "      <td>boostcamp-sts-v1-train-342</td>\n",
       "      <td>petition-rtt</td>\n",
       "      <td>정형식 판사 감사 요청</td>\n",
       "      <td>정형식 판사 감사 요청</td>\n",
       "      <td>5.0</td>\n",
       "    </tr>\n",
       "    <tr>\n",
       "      <th>499</th>\n",
       "      <td>boostcamp-sts-v1-train-499</td>\n",
       "      <td>petition-sampled</td>\n",
       "      <td>이명박 출국금지 신청</td>\n",
       "      <td>이명박 출국금지 신청</td>\n",
       "      <td>5.0</td>\n",
       "    </tr>\n",
       "    <tr>\n",
       "      <th>624</th>\n",
       "      <td>boostcamp-sts-v1-train-624</td>\n",
       "      <td>nsmc-rtt</td>\n",
       "      <td>잔잔한 감동으로 다가온 영화,</td>\n",
       "      <td>잔잔한 감동으로 다가온 영화,</td>\n",
       "      <td>5.0</td>\n",
       "    </tr>\n",
       "    <tr>\n",
       "      <th>1054</th>\n",
       "      <td>boostcamp-sts-v1-train-1054</td>\n",
       "      <td>petition-rtt</td>\n",
       "      <td>이수역 폭행 피해자 코스프레 제대로 수사</td>\n",
       "      <td>이수역 폭행 피해자 코스프레 제대로 수사</td>\n",
       "      <td>5.0</td>\n",
       "    </tr>\n",
       "    <tr>\n",
       "      <th>1695</th>\n",
       "      <td>boostcamp-sts-v1-train-1695</td>\n",
       "      <td>petition-sampled</td>\n",
       "      <td>이명박 전 대통령 출국금지 청원합니다</td>\n",
       "      <td>이명박 전 대통령 출국금지 청원합니다</td>\n",
       "      <td>5.0</td>\n",
       "    </tr>\n",
       "    <tr>\n",
       "      <th>...</th>\n",
       "      <td>...</td>\n",
       "      <td>...</td>\n",
       "      <td>...</td>\n",
       "      <td>...</td>\n",
       "      <td>...</td>\n",
       "    </tr>\n",
       "    <tr>\n",
       "      <th>3319</th>\n",
       "      <td>boostcamp-sts-v1-train-3319</td>\n",
       "      <td>nsmc-sampled</td>\n",
       "      <td>달달하고 재미있어요^^~~~</td>\n",
       "      <td>달달하고 재미있어요^^~~~</td>\n",
       "      <td>5.0</td>\n",
       "    </tr>\n",
       "    <tr>\n",
       "      <th>3753</th>\n",
       "      <td>boostcamp-sts-v1-train-3753</td>\n",
       "      <td>petition-sampled</td>\n",
       "      <td>일회용 플라스틱이 진정 문제인가요?</td>\n",
       "      <td>일회용 플라스틱이 진정 문제인가요?</td>\n",
       "      <td>5.0</td>\n",
       "    </tr>\n",
       "    <tr>\n",
       "      <th>3445</th>\n",
       "      <td>boostcamp-sts-v1-train-3445</td>\n",
       "      <td>slack-sampled</td>\n",
       "      <td>아이스 코나 라테 맛 집요.</td>\n",
       "      <td>아이스 코나 라테 맛 집요.</td>\n",
       "      <td>5.0</td>\n",
       "    </tr>\n",
       "    <tr>\n",
       "      <th>7891</th>\n",
       "      <td>boostcamp-sts-v1-train-7891</td>\n",
       "      <td>slack-sampled</td>\n",
       "      <td>아하 그럴 수 있겠네요!</td>\n",
       "      <td>아하 그럴 수 있겠네요!</td>\n",
       "      <td>5.0</td>\n",
       "    </tr>\n",
       "    <tr>\n",
       "      <th>2975</th>\n",
       "      <td>boostcamp-sts-v1-train-2975</td>\n",
       "      <td>nsmc-sampled</td>\n",
       "      <td>안타깝게도 처음부터 끝까지 전혀 이해할 수 없는 내용의 연속..</td>\n",
       "      <td>안타깝게도 처음부터 끝까지 전혀 이해할 수 없는 내용의 연속..</td>\n",
       "      <td>5.0</td>\n",
       "    </tr>\n",
       "  </tbody>\n",
       "</table>\n",
       "<p>435 rows × 5 columns</p>\n",
       "</div>"
      ],
      "text/plain": [
       "                               id            source  \\\n",
       "342    boostcamp-sts-v1-train-342      petition-rtt   \n",
       "499    boostcamp-sts-v1-train-499  petition-sampled   \n",
       "624    boostcamp-sts-v1-train-624          nsmc-rtt   \n",
       "1054  boostcamp-sts-v1-train-1054      petition-rtt   \n",
       "1695  boostcamp-sts-v1-train-1695  petition-sampled   \n",
       "...                           ...               ...   \n",
       "3319  boostcamp-sts-v1-train-3319      nsmc-sampled   \n",
       "3753  boostcamp-sts-v1-train-3753  petition-sampled   \n",
       "3445  boostcamp-sts-v1-train-3445     slack-sampled   \n",
       "7891  boostcamp-sts-v1-train-7891     slack-sampled   \n",
       "2975  boostcamp-sts-v1-train-2975      nsmc-sampled   \n",
       "\n",
       "                               sentence_1  \\\n",
       "342                          정형식 판사 감사 요청   \n",
       "499                           이명박 출국금지 신청   \n",
       "624                      잔잔한 감동으로 다가온 영화,   \n",
       "1054               이수역 폭행 피해자 코스프레 제대로 수사   \n",
       "1695                 이명박 전 대통령 출국금지 청원합니다   \n",
       "...                                   ...   \n",
       "3319                      달달하고 재미있어요^^~~~   \n",
       "3753                  일회용 플라스틱이 진정 문제인가요?   \n",
       "3445                      아이스 코나 라테 맛 집요.   \n",
       "7891                        아하 그럴 수 있겠네요!   \n",
       "2975  안타깝게도 처음부터 끝까지 전혀 이해할 수 없는 내용의 연속..   \n",
       "\n",
       "                               sentence_2  label  \n",
       "342                          정형식 판사 감사 요청    5.0  \n",
       "499                           이명박 출국금지 신청    5.0  \n",
       "624                      잔잔한 감동으로 다가온 영화,    5.0  \n",
       "1054               이수역 폭행 피해자 코스프레 제대로 수사    5.0  \n",
       "1695                 이명박 전 대통령 출국금지 청원합니다    5.0  \n",
       "...                                   ...    ...  \n",
       "3319                      달달하고 재미있어요^^~~~    5.0  \n",
       "3753                  일회용 플라스틱이 진정 문제인가요?    5.0  \n",
       "3445                      아이스 코나 라테 맛 집요.    5.0  \n",
       "7891                        아하 그럴 수 있겠네요!    5.0  \n",
       "2975  안타깝게도 처음부터 끝까지 전혀 이해할 수 없는 내용의 연속..    5.0  \n",
       "\n",
       "[435 rows x 5 columns]"
      ]
     },
     "execution_count": 267,
     "metadata": {},
     "output_type": "execute_result"
    }
   ],
   "source": [
    "# check value of sentence_1 is same as sentence_2\n",
    "print((train_even['sentence_1'] == train_even['sentence_2']).sum())\n",
    "\n",
    "# watch value of sentence_1 is same as sentence_2\n",
    "train_even[train_even['sentence_1'] == train_even['sentence_2']]"
   ]
  },
  {
   "cell_type": "code",
   "execution_count": 268,
   "metadata": {},
   "outputs": [
    {
     "data": {
      "text/plain": [
       "(11982, 5)"
      ]
     },
     "execution_count": 268,
     "metadata": {},
     "output_type": "execute_result"
    }
   ],
   "source": [
    "train_even.shape"
   ]
  },
  {
   "cell_type": "code",
   "execution_count": 269,
   "metadata": {},
   "outputs": [],
   "source": [
    "# save\n",
    "# train_even.to_csv('train_preprop_v2_undersampled.csv', index=False)"
   ]
  },
  {
   "cell_type": "code",
   "execution_count": 273,
   "metadata": {},
   "outputs": [
    {
     "data": {
      "text/plain": [
       "(9324, 5)"
      ]
     },
     "execution_count": 273,
     "metadata": {},
     "output_type": "execute_result"
    }
   ],
   "source": [
    "train.shape"
   ]
  },
  {
   "cell_type": "code",
   "execution_count": 278,
   "metadata": {},
   "outputs": [
    {
     "data": {
      "text/plain": [
       "(2119, 5)"
      ]
     },
     "execution_count": 278,
     "metadata": {},
     "output_type": "execute_result"
    }
   ],
   "source": [
    "train[train['label'] == 0.0].shape"
   ]
  },
  {
   "cell_type": "code",
   "execution_count": 279,
   "metadata": {},
   "outputs": [
    {
     "data": {
      "text/plain": [
       "(7205, 5)"
      ]
     },
     "execution_count": 279,
     "metadata": {},
     "output_type": "execute_result"
    }
   ],
   "source": [
    "train[train['label'] != 0.0].shape"
   ]
  },
  {
   "cell_type": "code",
   "execution_count": 282,
   "metadata": {},
   "outputs": [
    {
     "data": {
      "text/plain": [
       "label\n",
       "0.2    345\n",
       "0.4    482\n",
       "0.5     35\n",
       "0.6    372\n",
       "0.8    358\n",
       "1.0    342\n",
       "1.2    332\n",
       "1.4    254\n",
       "1.5     22\n",
       "1.6    172\n",
       "1.8    246\n",
       "2.0    236\n",
       "2.2    190\n",
       "2.4    187\n",
       "2.5     22\n",
       "2.6    235\n",
       "2.8    267\n",
       "3.0    283\n",
       "3.2    270\n",
       "3.4    279\n",
       "3.5     31\n",
       "3.6    400\n",
       "3.8    452\n",
       "4.0    516\n",
       "4.2    426\n",
       "4.4    209\n",
       "4.5     11\n",
       "4.6     81\n",
       "4.8     56\n",
       "5.0     94\n",
       "Name: count, dtype: int64"
      ]
     },
     "execution_count": 282,
     "metadata": {},
     "output_type": "execute_result"
    }
   ],
   "source": [
    "train_reversed = train[train['label'] != 0.0].copy()\n",
    "train_reversed['label'].value_counts().sort_index()"
   ]
  },
  {
   "cell_type": "code",
   "execution_count": 281,
   "metadata": {},
   "outputs": [
    {
     "data": {
      "text/plain": [
       "16529"
      ]
     },
     "execution_count": 281,
     "metadata": {},
     "output_type": "execute_result"
    }
   ],
   "source": [
    "train.shape[0] + train_reversed.shape[0]"
   ]
  },
  {
   "cell_type": "code",
   "execution_count": 283,
   "metadata": {},
   "outputs": [
    {
     "data": {
      "text/plain": [
       "label\n",
       "0.0    2119\n",
       "0.2     690\n",
       "0.4     964\n",
       "0.5      70\n",
       "0.6     744\n",
       "0.8     716\n",
       "1.0     684\n",
       "1.2     664\n",
       "1.4     508\n",
       "1.5      44\n",
       "1.6     344\n",
       "1.8     492\n",
       "2.0     472\n",
       "2.2     380\n",
       "2.4     374\n",
       "2.5      44\n",
       "2.6     470\n",
       "2.8     534\n",
       "3.0     566\n",
       "3.2     540\n",
       "3.4     558\n",
       "3.5      62\n",
       "3.6     800\n",
       "3.8     904\n",
       "4.0    1032\n",
       "4.2     852\n",
       "4.4     418\n",
       "4.5      22\n",
       "4.6     162\n",
       "4.8     112\n",
       "5.0     188\n",
       "Name: count, dtype: int64"
      ]
     },
     "execution_count": 283,
     "metadata": {},
     "output_type": "execute_result"
    }
   ],
   "source": [
    "# train_reversed: swap 'sentence_1' and 'sentence_2' of 'train'\n",
    "train_reversed = train[train['label'] != 0.0].copy()\n",
    "temp_var_1 = train_reversed['sentence_1'].copy()\n",
    "temp_var_2 = train_reversed['sentence_2'].copy()\n",
    "train_reversed['sentence_1'] = temp_var_2\n",
    "train_reversed['sentence_2'] = temp_var_1\n",
    "\n",
    "# add 'train_reversed' to 'train'\n",
    "train_full = pd.concat([train, train_reversed])\n",
    "train_full['label'].value_counts().sort_index()\n"
   ]
  },
  {
   "cell_type": "code",
   "execution_count": 277,
   "metadata": {},
   "outputs": [
    {
     "data": {
      "text/plain": [
       "array([[<Axes: title={'center': 'label'}>]], dtype=object)"
      ]
     },
     "execution_count": 277,
     "metadata": {},
     "output_type": "execute_result"
    },
    {
     "data": {
      "image/png": "[encoded data removed]",
      "text/plain": [
       "<Figure size 1500x800 with 1 Axes>"
      ]
     },
     "metadata": {},
     "output_type": "display_data"
    }
   ],
   "source": [
    "train_full.hist(bins=np.arange(0, 5.1, 0.1), figsize=(15, 8), edgecolor='black')  # 0.1 단위의 bin 설정"
   ]
  },
  {
   "cell_type": "code",
   "execution_count": 286,
   "metadata": {},
   "outputs": [
    {
     "data": {
      "text/plain": [
       "label\n",
       "0.0    1119\n",
       "0.2     690\n",
       "0.4     964\n",
       "0.5      70\n",
       "0.6     744\n",
       "0.8     716\n",
       "1.0     684\n",
       "1.2     664\n",
       "1.4     508\n",
       "1.5      44\n",
       "1.6     344\n",
       "1.8     492\n",
       "2.0     472\n",
       "2.2     380\n",
       "2.4     374\n",
       "2.5      44\n",
       "2.6     470\n",
       "2.8     534\n",
       "3.0     566\n",
       "3.2     540\n",
       "3.4     558\n",
       "3.5      62\n",
       "3.6     800\n",
       "3.8     904\n",
       "4.0    1032\n",
       "4.2     852\n",
       "4.4     418\n",
       "4.5      22\n",
       "4.6     162\n",
       "4.8     112\n",
       "5.0     188\n",
       "Name: count, dtype: int64"
      ]
     },
     "execution_count": 286,
     "metadata": {},
     "output_type": "execute_result"
    }
   ],
   "source": [
    "train_full[train_full['label'] == 0.0].shape\n",
    "\n",
    "# sample 1000 rows with label 0.0 and drop the rest\n",
    "sample = train_full[train_full['label'] == 0.0].sample(1000, random_state=42)\n",
    "train_full_drop0 = train_full.drop(sample.index)\n",
    "train_full_drop0['label'].value_counts().sort_index()"
   ]
  },
  {
   "cell_type": "code",
   "execution_count": 288,
   "metadata": {},
   "outputs": [
    {
     "data": {
      "text/plain": [
       "label\n",
       "5.0    1000\n",
       "Name: count, dtype: int64"
      ]
     },
     "execution_count": 288,
     "metadata": {},
     "output_type": "execute_result"
    }
   ],
   "source": [
    "# copy sample['sentence_1'] to sample['sentence_2']\n",
    "sample['sentence_2'] = sample['sentence_1']\n",
    "sample['label'] = 5.0\n",
    "sample['label'].value_counts()"
   ]
  },
  {
   "cell_type": "code",
   "execution_count": 289,
   "metadata": {},
   "outputs": [
    {
     "data": {
      "text/plain": [
       "label\n",
       "0.0    1119\n",
       "0.2     690\n",
       "0.4     964\n",
       "0.5      70\n",
       "0.6     744\n",
       "0.8     716\n",
       "1.0     684\n",
       "1.2     664\n",
       "1.4     508\n",
       "1.5      44\n",
       "1.6     344\n",
       "1.8     492\n",
       "2.0     472\n",
       "2.2     380\n",
       "2.4     374\n",
       "2.5      44\n",
       "2.6     470\n",
       "2.8     534\n",
       "3.0     566\n",
       "3.2     540\n",
       "3.4     558\n",
       "3.5      62\n",
       "3.6     800\n",
       "3.8     904\n",
       "4.0    1032\n",
       "4.2     852\n",
       "4.4     418\n",
       "4.5      22\n",
       "4.6     162\n",
       "4.8     112\n",
       "5.0    1188\n",
       "Name: count, dtype: int64"
      ]
     },
     "execution_count": 289,
     "metadata": {},
     "output_type": "execute_result"
    }
   ],
   "source": [
    "# concatenate sample to train_full_drop0\n",
    "train_full_5 = pd.concat([train_full_drop0, sample])\n",
    "train_full_5['label'].value_counts().sort_index()"
   ]
  },
  {
   "cell_type": "code",
   "execution_count": 290,
   "metadata": {},
   "outputs": [
    {
     "data": {
      "text/plain": [
       "array([[<Axes: title={'center': 'label'}>]], dtype=object)"
      ]
     },
     "execution_count": 290,
     "metadata": {},
     "output_type": "execute_result"
    },
    {
     "data": {
      "image/png": "[encoded data removed]",
      "text/plain": [
       "<Figure size 1500x800 with 1 Axes>"
      ]
     },
     "metadata": {},
     "output_type": "display_data"
    }
   ],
   "source": [
    "train_full_5.hist(bins=np.arange(0, 5.1, 0.1), figsize=(15, 8), edgecolor='black')  # 0.1 단위의 bin 설정"
   ]
  },
  {
   "cell_type": "code",
   "execution_count": 294,
   "metadata": {},
   "outputs": [
    {
     "data": {
      "text/plain": [
       "(16529, 5)"
      ]
     },
     "execution_count": 294,
     "metadata": {},
     "output_type": "execute_result"
    }
   ],
   "source": [
    "train_full_5.shape"
   ]
  },
  {
   "cell_type": "code",
   "execution_count": 292,
   "metadata": {},
   "outputs": [],
   "source": [
    "train_full_5.to_csv('train_preprop_v2_oversampled.csv', index=False)"
   ]
  },
  {
   "cell_type": "code",
   "execution_count": 295,
   "metadata": {},
   "outputs": [
    {
     "data": {
      "text/html": [
       "<div>\n",
       "<style scoped>\n",
       "    .dataframe tbody tr th:only-of-type {\n",
       "        vertical-align: middle;\n",
       "    }\n",
       "\n",
       "    .dataframe tbody tr th {\n",
       "        vertical-align: top;\n",
       "    }\n",
       "\n",
       "    .dataframe thead th {\n",
       "        text-align: right;\n",
       "    }\n",
       "</style>\n",
       "<table border=\"1\" class=\"dataframe\">\n",
       "  <thead>\n",
       "    <tr style=\"text-align: right;\">\n",
       "      <th></th>\n",
       "      <th>id</th>\n",
       "      <th>source</th>\n",
       "      <th>sentence_1</th>\n",
       "      <th>sentence_2</th>\n",
       "      <th>label</th>\n",
       "    </tr>\n",
       "  </thead>\n",
       "  <tbody>\n",
       "    <tr>\n",
       "      <th>0</th>\n",
       "      <td>boostcamp-sts-v1-train-000</td>\n",
       "      <td>nsmc-sampled</td>\n",
       "      <td>스릴도 있고 반전도 있고 여느 한국 영화 쓰레기들하고는 차원이 다르네요~</td>\n",
       "      <td>반전도 있고, 사랑도 있고 재미도 있네요.</td>\n",
       "      <td>2.2</td>\n",
       "    </tr>\n",
       "    <tr>\n",
       "      <th>1</th>\n",
       "      <td>boostcamp-sts-v1-train-001</td>\n",
       "      <td>slack-rtt</td>\n",
       "      <td>앗 제가 접근 권한이 없다고 뜹니다;;</td>\n",
       "      <td>오, 액세스 권한이 없다고 합니다.</td>\n",
       "      <td>4.2</td>\n",
       "    </tr>\n",
       "    <tr>\n",
       "      <th>2</th>\n",
       "      <td>boostcamp-sts-v1-train-002</td>\n",
       "      <td>petition-sampled</td>\n",
       "      <td>주택청약조건 변경해 주세요.</td>\n",
       "      <td>주택청약 무주택 기준 변경해 주세요.</td>\n",
       "      <td>2.4</td>\n",
       "    </tr>\n",
       "    <tr>\n",
       "      <th>3</th>\n",
       "      <td>boostcamp-sts-v1-train-003</td>\n",
       "      <td>slack-sampled</td>\n",
       "      <td>입사 후 처음 대면으로 만나 반가웠습니다.</td>\n",
       "      <td>화상으로만 보다가 리얼로 만나니 정말 반가웠습니다.</td>\n",
       "      <td>3.0</td>\n",
       "    </tr>\n",
       "    <tr>\n",
       "      <th>4</th>\n",
       "      <td>boostcamp-sts-v1-train-004</td>\n",
       "      <td>slack-sampled</td>\n",
       "      <td>뿌듯 뿌듯하네요!!</td>\n",
       "      <td>꼬옥 실제로 한번 뵈어요 뿌 뿌 푸~!~!</td>\n",
       "      <td>0.0</td>\n",
       "    </tr>\n",
       "    <tr>\n",
       "      <th>...</th>\n",
       "      <td>...</td>\n",
       "      <td>...</td>\n",
       "      <td>...</td>\n",
       "      <td>...</td>\n",
       "      <td>...</td>\n",
       "    </tr>\n",
       "    <tr>\n",
       "      <th>9308</th>\n",
       "      <td>boostcamp-sts-v1-train-9308</td>\n",
       "      <td>slack-sampled</td>\n",
       "      <td>베이비 필터 끼우고 찍어봤습니다.</td>\n",
       "      <td>베이비 필터 끼우고 찍어봤습니다.</td>\n",
       "      <td>5.0</td>\n",
       "    </tr>\n",
       "    <tr>\n",
       "      <th>644</th>\n",
       "      <td>boostcamp-sts-v1-train-644</td>\n",
       "      <td>petition-sampled</td>\n",
       "      <td>억울한 제 남자친구분</td>\n",
       "      <td>억울한 제 남자친구분</td>\n",
       "      <td>5.0</td>\n",
       "    </tr>\n",
       "    <tr>\n",
       "      <th>6948</th>\n",
       "      <td>boostcamp-sts-v1-train-6948</td>\n",
       "      <td>slack-sampled</td>\n",
       "      <td>타고 싶은데 너무 비싸요 ㅎㅎ</td>\n",
       "      <td>타고 싶은데 너무 비싸요 ㅎㅎ</td>\n",
       "      <td>5.0</td>\n",
       "    </tr>\n",
       "    <tr>\n",
       "      <th>6484</th>\n",
       "      <td>boostcamp-sts-v1-train-6484</td>\n",
       "      <td>slack-sampled</td>\n",
       "      <td>방 구하는 대로 DM 방 오픈해 보겠습니다!!</td>\n",
       "      <td>방 구하는 대로 DM 방 오픈해 보겠습니다!!</td>\n",
       "      <td>5.0</td>\n",
       "    </tr>\n",
       "    <tr>\n",
       "      <th>5112</th>\n",
       "      <td>boostcamp-sts-v1-train-5112</td>\n",
       "      <td>nsmc-sampled</td>\n",
       "      <td>유튜브로 봤습니다..</td>\n",
       "      <td>유튜브로 봤습니다..</td>\n",
       "      <td>5.0</td>\n",
       "    </tr>\n",
       "  </tbody>\n",
       "</table>\n",
       "<p>16529 rows × 5 columns</p>\n",
       "</div>"
      ],
      "text/plain": [
       "                               id            source  \\\n",
       "0      boostcamp-sts-v1-train-000      nsmc-sampled   \n",
       "1      boostcamp-sts-v1-train-001         slack-rtt   \n",
       "2      boostcamp-sts-v1-train-002  petition-sampled   \n",
       "3      boostcamp-sts-v1-train-003     slack-sampled   \n",
       "4      boostcamp-sts-v1-train-004     slack-sampled   \n",
       "...                           ...               ...   \n",
       "9308  boostcamp-sts-v1-train-9308     slack-sampled   \n",
       "644    boostcamp-sts-v1-train-644  petition-sampled   \n",
       "6948  boostcamp-sts-v1-train-6948     slack-sampled   \n",
       "6484  boostcamp-sts-v1-train-6484     slack-sampled   \n",
       "5112  boostcamp-sts-v1-train-5112      nsmc-sampled   \n",
       "\n",
       "                                    sentence_1                    sentence_2  \\\n",
       "0     스릴도 있고 반전도 있고 여느 한국 영화 쓰레기들하고는 차원이 다르네요~       반전도 있고, 사랑도 있고 재미도 있네요.   \n",
       "1                        앗 제가 접근 권한이 없다고 뜹니다;;           오, 액세스 권한이 없다고 합니다.   \n",
       "2                              주택청약조건 변경해 주세요.          주택청약 무주택 기준 변경해 주세요.   \n",
       "3                      입사 후 처음 대면으로 만나 반가웠습니다.  화상으로만 보다가 리얼로 만나니 정말 반가웠습니다.   \n",
       "4                                   뿌듯 뿌듯하네요!!       꼬옥 실제로 한번 뵈어요 뿌 뿌 푸~!~!   \n",
       "...                                        ...                           ...   \n",
       "9308                        베이비 필터 끼우고 찍어봤습니다.            베이비 필터 끼우고 찍어봤습니다.   \n",
       "644                                억울한 제 남자친구분                   억울한 제 남자친구분   \n",
       "6948                          타고 싶은데 너무 비싸요 ㅎㅎ              타고 싶은데 너무 비싸요 ㅎㅎ   \n",
       "6484                 방 구하는 대로 DM 방 오픈해 보겠습니다!!     방 구하는 대로 DM 방 오픈해 보겠습니다!!   \n",
       "5112                               유튜브로 봤습니다..                   유튜브로 봤습니다..   \n",
       "\n",
       "      label  \n",
       "0       2.2  \n",
       "1       4.2  \n",
       "2       2.4  \n",
       "3       3.0  \n",
       "4       0.0  \n",
       "...     ...  \n",
       "9308    5.0  \n",
       "644     5.0  \n",
       "6948    5.0  \n",
       "6484    5.0  \n",
       "5112    5.0  \n",
       "\n",
       "[16529 rows x 5 columns]"
      ]
     },
     "execution_count": 295,
     "metadata": {},
     "output_type": "execute_result"
    }
   ],
   "source": [
    "train_len = train_full_5.copy()\n",
    "train_len"
   ]
  },
  {
   "cell_type": "code",
   "execution_count": 296,
   "metadata": {},
   "outputs": [
    {
     "data": {
      "text/plain": [
       "<Axes: >"
      ]
     },
     "execution_count": 296,
     "metadata": {},
     "output_type": "execute_result"
    },
    {
     "data": {
      "image/png": "[encoded data removed]",
      "text/plain": [
       "<Figure size 640x480 with 1 Axes>"
      ]
     },
     "metadata": {},
     "output_type": "display_data"
    }
   ],
   "source": [
    "train_len['len_diff'] = train_len['sentence_1'].apply(lambda x: len(x.split())) - train_len['sentence_2'].apply(lambda x: len(x.split()))\n",
    "train_len['len_diff'].hist(bins=100)"
   ]
  },
  {
   "cell_type": "code",
   "execution_count": 297,
   "metadata": {},
   "outputs": [
    {
     "data": {
      "text/plain": [
       "count    16529.000000\n",
       "mean         0.014883\n",
       "std          2.252410\n",
       "min        -16.000000\n",
       "25%         -1.000000\n",
       "50%          0.000000\n",
       "75%          1.000000\n",
       "max         17.000000\n",
       "Name: len_diff, dtype: float64"
      ]
     },
     "execution_count": 297,
     "metadata": {},
     "output_type": "execute_result"
    }
   ],
   "source": [
    "# check thrain_len['len_diff'] is like normal distribution\n",
    "train_len['len_diff'].describe()"
   ]
  }
 ],
 "metadata": {
  "kernelspec": {
   "display_name": "Python 3",
   "language": "python",
   "name": "python3"
  },
  "language_info": {
   "codemirror_mode": {
    "name": "ipython",
    "version": 3
   },
   "file_extension": ".py",
   "mimetype": "text/x-python",
   "name": "python",
   "nbconvert_exporter": "python",
   "pygments_lexer": "ipython3",
   "version": "3.9.19"
  }
 },
 "nbformat": 4,
 "nbformat_minor": 2
}
