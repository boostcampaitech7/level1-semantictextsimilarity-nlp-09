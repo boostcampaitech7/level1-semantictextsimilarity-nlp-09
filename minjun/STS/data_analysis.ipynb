{
 "cells": [
  {
   "cell_type": "code",
   "execution_count": 1,
   "id": "6e76a566-3253-4118-a6c4-1466f1ec4336",
   "metadata": {},
   "outputs": [],
   "source": [
    "import pandas as pd\n",
    "import seaborn as sns\n",
    "import matplotlib.pyplot as plt\n",
    "import numpy as np"
   ]
  },
  {
   "cell_type": "code",
   "execution_count": 2,
   "id": "5b081d08-8c29-40ef-925b-f1a3bd0ce534",
   "metadata": {
    "scrolled": true
   },
   "outputs": [
    {
     "data": {
      "text/html": [
       "<div>\n",
       "<style scoped>\n",
       "    .dataframe tbody tr th:only-of-type {\n",
       "        vertical-align: middle;\n",
       "    }\n",
       "\n",
       "    .dataframe tbody tr th {\n",
       "        vertical-align: top;\n",
       "    }\n",
       "\n",
       "    .dataframe thead th {\n",
       "        text-align: right;\n",
       "    }\n",
       "</style>\n",
       "<table border=\"1\" class=\"dataframe\">\n",
       "  <thead>\n",
       "    <tr style=\"text-align: right;\">\n",
       "      <th></th>\n",
       "      <th>id</th>\n",
       "      <th>source</th>\n",
       "      <th>sentence_1</th>\n",
       "      <th>sentence_2</th>\n",
       "      <th>label</th>\n",
       "      <th>binary-label</th>\n",
       "    </tr>\n",
       "  </thead>\n",
       "  <tbody>\n",
       "    <tr>\n",
       "      <th>0</th>\n",
       "      <td>boostcamp-sts-v1-train-000</td>\n",
       "      <td>nsmc-sampled</td>\n",
       "      <td>스릴도있고 반전도 있고 여느 한국영화 쓰레기들하고는 차원이 다르네요~</td>\n",
       "      <td>반전도 있고,사랑도 있고재미도있네요.</td>\n",
       "      <td>2.2</td>\n",
       "      <td>0.0</td>\n",
       "    </tr>\n",
       "    <tr>\n",
       "      <th>1</th>\n",
       "      <td>boostcamp-sts-v1-train-001</td>\n",
       "      <td>slack-rtt</td>\n",
       "      <td>앗 제가 접근권한이 없다고 뜹니다;;</td>\n",
       "      <td>오, 액세스 권한이 없다고 합니다.</td>\n",
       "      <td>4.2</td>\n",
       "      <td>1.0</td>\n",
       "    </tr>\n",
       "    <tr>\n",
       "      <th>2</th>\n",
       "      <td>boostcamp-sts-v1-train-002</td>\n",
       "      <td>petition-sampled</td>\n",
       "      <td>주택청약조건 변경해주세요.</td>\n",
       "      <td>주택청약 무주택기준 변경해주세요.</td>\n",
       "      <td>2.4</td>\n",
       "      <td>0.0</td>\n",
       "    </tr>\n",
       "    <tr>\n",
       "      <th>3</th>\n",
       "      <td>boostcamp-sts-v1-train-003</td>\n",
       "      <td>slack-sampled</td>\n",
       "      <td>입사후 처음 대면으로 만나 반가웠습니다.</td>\n",
       "      <td>화상으로만 보다가 리얼로 만나니 정말 반가웠습니다.</td>\n",
       "      <td>3.0</td>\n",
       "      <td>1.0</td>\n",
       "    </tr>\n",
       "    <tr>\n",
       "      <th>4</th>\n",
       "      <td>boostcamp-sts-v1-train-004</td>\n",
       "      <td>slack-sampled</td>\n",
       "      <td>뿌듯뿌듯 하네요!!</td>\n",
       "      <td>꼬옥 실제로 한번 뵈어요 뿌뿌뿌~!~!</td>\n",
       "      <td>0.0</td>\n",
       "      <td>0.0</td>\n",
       "    </tr>\n",
       "  </tbody>\n",
       "</table>\n",
       "</div>"
      ],
      "text/plain": [
       "                           id            source  \\\n",
       "0  boostcamp-sts-v1-train-000      nsmc-sampled   \n",
       "1  boostcamp-sts-v1-train-001         slack-rtt   \n",
       "2  boostcamp-sts-v1-train-002  petition-sampled   \n",
       "3  boostcamp-sts-v1-train-003     slack-sampled   \n",
       "4  boostcamp-sts-v1-train-004     slack-sampled   \n",
       "\n",
       "                               sentence_1                    sentence_2  \\\n",
       "0  스릴도있고 반전도 있고 여느 한국영화 쓰레기들하고는 차원이 다르네요~          반전도 있고,사랑도 있고재미도있네요.   \n",
       "1                    앗 제가 접근권한이 없다고 뜹니다;;           오, 액세스 권한이 없다고 합니다.   \n",
       "2                          주택청약조건 변경해주세요.            주택청약 무주택기준 변경해주세요.   \n",
       "3                  입사후 처음 대면으로 만나 반가웠습니다.  화상으로만 보다가 리얼로 만나니 정말 반가웠습니다.   \n",
       "4                              뿌듯뿌듯 하네요!!         꼬옥 실제로 한번 뵈어요 뿌뿌뿌~!~!   \n",
       "\n",
       "   label  binary-label  \n",
       "0    2.2           0.0  \n",
       "1    4.2           1.0  \n",
       "2    2.4           0.0  \n",
       "3    3.0           1.0  \n",
       "4    0.0           0.0  "
      ]
     },
     "execution_count": 2,
     "metadata": {},
     "output_type": "execute_result"
    }
   ],
   "source": [
    "train_df = pd.read_csv(\"train.csv\")\n",
    "train_df.head()"
   ]
  },
  {
   "cell_type": "code",
   "execution_count": 302,
   "id": "747368ba-dbc2-46b5-a766-1264020e8248",
   "metadata": {},
   "outputs": [
    {
     "data": {
      "text/plain": [
       "(9324, 6)"
      ]
     },
     "execution_count": 302,
     "metadata": {},
     "output_type": "execute_result"
    }
   ],
   "source": [
    "train_df.shape"
   ]
  },
  {
   "cell_type": "code",
   "execution_count": 303,
   "id": "d2dc085a-3ada-4313-9a53-92dd204322b4",
   "metadata": {},
   "outputs": [
    {
     "name": "stdout",
     "output_type": "stream",
     "text": [
      "<class 'pandas.core.frame.DataFrame'>\n",
      "RangeIndex: 9324 entries, 0 to 9323\n",
      "Data columns (total 6 columns):\n",
      " #   Column        Non-Null Count  Dtype  \n",
      "---  ------        --------------  -----  \n",
      " 0   id            9324 non-null   object \n",
      " 1   source        9324 non-null   object \n",
      " 2   sentence_1    9324 non-null   object \n",
      " 3   sentence_2    9324 non-null   object \n",
      " 4   label         9324 non-null   float64\n",
      " 5   binary-label  9324 non-null   float64\n",
      "dtypes: float64(2), object(4)\n",
      "memory usage: 437.2+ KB\n"
     ]
    }
   ],
   "source": [
    "train_df.info()"
   ]
  },
  {
   "cell_type": "code",
   "execution_count": 304,
   "id": "dfb07c45-1855-4ddf-88d5-fe616938ca27",
   "metadata": {},
   "outputs": [
    {
     "data": {
      "text/plain": [
       "id              0\n",
       "source          0\n",
       "sentence_1      0\n",
       "sentence_2      0\n",
       "label           0\n",
       "binary-label    0\n",
       "dtype: int64"
      ]
     },
     "execution_count": 304,
     "metadata": {},
     "output_type": "execute_result"
    }
   ],
   "source": [
    "train_df.isnull().sum()"
   ]
  },
  {
   "cell_type": "code",
   "execution_count": 305,
   "id": "1e997474-6cac-4d6e-9945-f16d2825b8e3",
   "metadata": {},
   "outputs": [
    {
     "data": {
      "text/html": [
       "<div>\n",
       "<style scoped>\n",
       "    .dataframe tbody tr th:only-of-type {\n",
       "        vertical-align: middle;\n",
       "    }\n",
       "\n",
       "    .dataframe tbody tr th {\n",
       "        vertical-align: top;\n",
       "    }\n",
       "\n",
       "    .dataframe thead th {\n",
       "        text-align: right;\n",
       "    }\n",
       "</style>\n",
       "<table border=\"1\" class=\"dataframe\">\n",
       "  <thead>\n",
       "    <tr style=\"text-align: right;\">\n",
       "      <th></th>\n",
       "      <th>label</th>\n",
       "      <th>binary-label</th>\n",
       "    </tr>\n",
       "  </thead>\n",
       "  <tbody>\n",
       "    <tr>\n",
       "      <th>count</th>\n",
       "      <td>9324.000000</td>\n",
       "      <td>9324.000000</td>\n",
       "    </tr>\n",
       "    <tr>\n",
       "      <th>mean</th>\n",
       "      <td>1.849968</td>\n",
       "      <td>0.389532</td>\n",
       "    </tr>\n",
       "    <tr>\n",
       "      <th>std</th>\n",
       "      <td>1.602212</td>\n",
       "      <td>0.487670</td>\n",
       "    </tr>\n",
       "    <tr>\n",
       "      <th>min</th>\n",
       "      <td>0.000000</td>\n",
       "      <td>0.000000</td>\n",
       "    </tr>\n",
       "    <tr>\n",
       "      <th>25%</th>\n",
       "      <td>0.200000</td>\n",
       "      <td>0.000000</td>\n",
       "    </tr>\n",
       "    <tr>\n",
       "      <th>50%</th>\n",
       "      <td>1.600000</td>\n",
       "      <td>0.000000</td>\n",
       "    </tr>\n",
       "    <tr>\n",
       "      <th>75%</th>\n",
       "      <td>3.400000</td>\n",
       "      <td>1.000000</td>\n",
       "    </tr>\n",
       "    <tr>\n",
       "      <th>max</th>\n",
       "      <td>5.000000</td>\n",
       "      <td>1.000000</td>\n",
       "    </tr>\n",
       "  </tbody>\n",
       "</table>\n",
       "</div>"
      ],
      "text/plain": [
       "             label  binary-label\n",
       "count  9324.000000   9324.000000\n",
       "mean      1.849968      0.389532\n",
       "std       1.602212      0.487670\n",
       "min       0.000000      0.000000\n",
       "25%       0.200000      0.000000\n",
       "50%       1.600000      0.000000\n",
       "75%       3.400000      1.000000\n",
       "max       5.000000      1.000000"
      ]
     },
     "execution_count": 305,
     "metadata": {},
     "output_type": "execute_result"
    }
   ],
   "source": [
    "train_df.describe()"
   ]
  },
  {
   "cell_type": "code",
   "execution_count": 306,
   "id": "55bbf0a2-d555-4dc9-b9d7-e4a3d22b1127",
   "metadata": {},
   "outputs": [
    {
     "name": "stderr",
     "output_type": "stream",
     "text": [
      "C:\\Users\\user\\miniconda3\\Lib\\site-packages\\seaborn\\_oldcore.py:1119: FutureWarning: use_inf_as_na option is deprecated and will be removed in a future version. Convert inf values to NaN before operating instead.\n",
      "  with pd.option_context('mode.use_inf_as_na', True):\n"
     ]
    },
    {
     "data": {
      "image/png": "[encoded data removed]",
      "text/plain": [
       "<Figure size 800x400 with 1 Axes>"
      ]
     },
     "metadata": {},
     "output_type": "display_data"
    }
   ],
   "source": [
    "plt.figure(figsize=(8, 4))\n",
    "sns.histplot(train_df['label'], bins=30)\n",
    "plt.title('Distribution of Similarity Scores')\n",
    "plt.xlabel('Label')\n",
    "plt.ylabel('Frequency')\n",
    "plt.show()"
   ]
  },
  {
   "cell_type": "code",
   "execution_count": 307,
   "id": "da7658ab-3704-4ee3-ad92-21c67d1a83c0",
   "metadata": {
    "scrolled": true
   },
   "outputs": [
    {
     "data": {
      "image/png": "[encoded data removed]",
      "text/plain": [
       "<Figure size 600x400 with 1 Axes>"
      ]
     },
     "metadata": {},
     "output_type": "display_data"
    }
   ],
   "source": [
    "plt.figure(figsize=(6, 4))\n",
    "sns.countplot(x='binary-label', data=train_df)\n",
    "plt.title('Distribution of Binary Labels')\n",
    "plt.xlabel('Binary Label')\n",
    "plt.ylabel('Count')\n",
    "plt.show()"
   ]
  },
  {
   "cell_type": "code",
   "execution_count": 308,
   "id": "6ec9fc14-76a8-4abd-b32b-1326b29ca241",
   "metadata": {},
   "outputs": [
    {
     "data": {
      "text/html": [
       "<div>\n",
       "<style scoped>\n",
       "    .dataframe tbody tr th:only-of-type {\n",
       "        vertical-align: middle;\n",
       "    }\n",
       "\n",
       "    .dataframe tbody tr th {\n",
       "        vertical-align: top;\n",
       "    }\n",
       "\n",
       "    .dataframe thead th {\n",
       "        text-align: right;\n",
       "    }\n",
       "</style>\n",
       "<table border=\"1\" class=\"dataframe\">\n",
       "  <thead>\n",
       "    <tr style=\"text-align: right;\">\n",
       "      <th></th>\n",
       "      <th>id</th>\n",
       "      <th>source</th>\n",
       "      <th>sentence_1</th>\n",
       "      <th>sentence_2</th>\n",
       "      <th>label</th>\n",
       "      <th>binary-label</th>\n",
       "    </tr>\n",
       "  </thead>\n",
       "  <tbody>\n",
       "  </tbody>\n",
       "</table>\n",
       "</div>"
      ],
      "text/plain": [
       "Empty DataFrame\n",
       "Columns: [id, source, sentence_1, sentence_2, label, binary-label]\n",
       "Index: []"
      ]
     },
     "execution_count": 308,
     "metadata": {},
     "output_type": "execute_result"
    }
   ],
   "source": [
    "train_df[train_df.duplicated(\"sentence_1\", keep = False)]"
   ]
  },
  {
   "cell_type": "code",
   "execution_count": 309,
   "id": "f85a9258-ce06-4090-8fb8-12aff69f16a7",
   "metadata": {},
   "outputs": [
    {
     "data": {
      "text/html": [
       "<div>\n",
       "<style scoped>\n",
       "    .dataframe tbody tr th:only-of-type {\n",
       "        vertical-align: middle;\n",
       "    }\n",
       "\n",
       "    .dataframe tbody tr th {\n",
       "        vertical-align: top;\n",
       "    }\n",
       "\n",
       "    .dataframe thead th {\n",
       "        text-align: right;\n",
       "    }\n",
       "</style>\n",
       "<table border=\"1\" class=\"dataframe\">\n",
       "  <thead>\n",
       "    <tr style=\"text-align: right;\">\n",
       "      <th></th>\n",
       "      <th>id</th>\n",
       "      <th>source</th>\n",
       "      <th>sentence_1</th>\n",
       "      <th>sentence_2</th>\n",
       "      <th>label</th>\n",
       "      <th>binary-label</th>\n",
       "    </tr>\n",
       "  </thead>\n",
       "  <tbody>\n",
       "    <tr>\n",
       "      <th>173</th>\n",
       "      <td>boostcamp-sts-v1-train-173</td>\n",
       "      <td>slack-rtt</td>\n",
       "      <td>다음에 다시 재밌는 이야기해요!</td>\n",
       "      <td>다음에 또 즐겁게 이야기합시다!</td>\n",
       "      <td>3.6</td>\n",
       "      <td>1.0</td>\n",
       "    </tr>\n",
       "    <tr>\n",
       "      <th>601</th>\n",
       "      <td>boostcamp-sts-v1-train-601</td>\n",
       "      <td>slack-rtt</td>\n",
       "      <td>다음에 또 뵈어요!</td>\n",
       "      <td>다음에 만나요!</td>\n",
       "      <td>4.0</td>\n",
       "      <td>1.0</td>\n",
       "    </tr>\n",
       "    <tr>\n",
       "      <th>4523</th>\n",
       "      <td>boostcamp-sts-v1-train-4523</td>\n",
       "      <td>petition-rtt</td>\n",
       "      <td>청소년보호법 폐지요</td>\n",
       "      <td>청소년보호법 폐지해주세요</td>\n",
       "      <td>4.0</td>\n",
       "      <td>1.0</td>\n",
       "    </tr>\n",
       "    <tr>\n",
       "      <th>4706</th>\n",
       "      <td>boostcamp-sts-v1-train-4706</td>\n",
       "      <td>petition-rtt</td>\n",
       "      <td>청소년 보호법 폐지 부탁드립니다</td>\n",
       "      <td>청소년보호법 폐지해주세요</td>\n",
       "      <td>4.2</td>\n",
       "      <td>1.0</td>\n",
       "    </tr>\n",
       "    <tr>\n",
       "      <th>6540</th>\n",
       "      <td>boostcamp-sts-v1-train-6540</td>\n",
       "      <td>slack-rtt</td>\n",
       "      <td>다음에 또 즐겁게 이야기 나누어요!</td>\n",
       "      <td>다음에 또 즐겁게 이야기합시다!</td>\n",
       "      <td>4.4</td>\n",
       "      <td>1.0</td>\n",
       "    </tr>\n",
       "    <tr>\n",
       "      <th>8520</th>\n",
       "      <td>boostcamp-sts-v1-train-8520</td>\n",
       "      <td>slack-rtt</td>\n",
       "      <td>다음에 꼭 뵈어요!</td>\n",
       "      <td>다음에 만나요!</td>\n",
       "      <td>3.4</td>\n",
       "      <td>1.0</td>\n",
       "    </tr>\n",
       "  </tbody>\n",
       "</table>\n",
       "</div>"
      ],
      "text/plain": [
       "                               id        source           sentence_1  \\\n",
       "173    boostcamp-sts-v1-train-173     slack-rtt    다음에 다시 재밌는 이야기해요!   \n",
       "601    boostcamp-sts-v1-train-601     slack-rtt           다음에 또 뵈어요!   \n",
       "4523  boostcamp-sts-v1-train-4523  petition-rtt           청소년보호법 폐지요   \n",
       "4706  boostcamp-sts-v1-train-4706  petition-rtt    청소년 보호법 폐지 부탁드립니다   \n",
       "6540  boostcamp-sts-v1-train-6540     slack-rtt  다음에 또 즐겁게 이야기 나누어요!   \n",
       "8520  boostcamp-sts-v1-train-8520     slack-rtt           다음에 꼭 뵈어요!   \n",
       "\n",
       "             sentence_2  label  binary-label  \n",
       "173   다음에 또 즐겁게 이야기합시다!    3.6           1.0  \n",
       "601            다음에 만나요!    4.0           1.0  \n",
       "4523      청소년보호법 폐지해주세요    4.0           1.0  \n",
       "4706      청소년보호법 폐지해주세요    4.2           1.0  \n",
       "6540  다음에 또 즐겁게 이야기합시다!    4.4           1.0  \n",
       "8520           다음에 만나요!    3.4           1.0  "
      ]
     },
     "execution_count": 309,
     "metadata": {},
     "output_type": "execute_result"
    }
   ],
   "source": [
    "train_df[train_df.duplicated(\"sentence_2\", keep = False)]"
   ]
  },
  {
   "cell_type": "code",
   "execution_count": 310,
   "id": "e4fd439a-a3c1-4fed-9257-77cd1ddca45c",
   "metadata": {},
   "outputs": [
    {
     "data": {
      "text/html": [
       "<div>\n",
       "<style scoped>\n",
       "    .dataframe tbody tr th:only-of-type {\n",
       "        vertical-align: middle;\n",
       "    }\n",
       "\n",
       "    .dataframe tbody tr th {\n",
       "        vertical-align: top;\n",
       "    }\n",
       "\n",
       "    .dataframe thead th {\n",
       "        text-align: right;\n",
       "    }\n",
       "</style>\n",
       "<table border=\"1\" class=\"dataframe\">\n",
       "  <thead>\n",
       "    <tr style=\"text-align: right;\">\n",
       "      <th></th>\n",
       "      <th>id</th>\n",
       "      <th>source</th>\n",
       "      <th>sentence_1</th>\n",
       "      <th>sentence_2</th>\n",
       "      <th>label</th>\n",
       "      <th>binary-label</th>\n",
       "    </tr>\n",
       "  </thead>\n",
       "  <tbody>\n",
       "  </tbody>\n",
       "</table>\n",
       "</div>"
      ],
      "text/plain": [
       "Empty DataFrame\n",
       "Columns: [id, source, sentence_1, sentence_2, label, binary-label]\n",
       "Index: []"
      ]
     },
     "execution_count": 310,
     "metadata": {},
     "output_type": "execute_result"
    }
   ],
   "source": [
    "train_df[train_df.duplicated([\"sentence_1\", \"sentence_2\"], keep = False)]"
   ]
  },
  {
   "cell_type": "code",
   "execution_count": 314,
   "id": "20685011-6237-4386-954e-5dd2cbcc0d90",
   "metadata": {},
   "outputs": [
    {
     "data": {
      "text/plain": [
       "array(['nsmc-sampled', 'slack-rtt', 'petition-sampled', 'slack-sampled',\n",
       "       'nsmc-rtt', 'petition-rtt'], dtype=object)"
      ]
     },
     "execution_count": 314,
     "metadata": {},
     "output_type": "execute_result"
    }
   ],
   "source": [
    "train_df[\"source\"].unique()"
   ]
  },
  {
   "cell_type": "code",
   "execution_count": 315,
   "id": "4c85698d-9fd0-43b5-aba6-9af2c1ca9eb8",
   "metadata": {},
   "outputs": [
    {
     "data": {
      "text/html": [
       "<div>\n",
       "<style scoped>\n",
       "    .dataframe tbody tr th:only-of-type {\n",
       "        vertical-align: middle;\n",
       "    }\n",
       "\n",
       "    .dataframe tbody tr th {\n",
       "        vertical-align: top;\n",
       "    }\n",
       "\n",
       "    .dataframe thead th {\n",
       "        text-align: right;\n",
       "    }\n",
       "</style>\n",
       "<table border=\"1\" class=\"dataframe\">\n",
       "  <thead>\n",
       "    <tr style=\"text-align: right;\">\n",
       "      <th></th>\n",
       "      <th>id</th>\n",
       "      <th>source</th>\n",
       "      <th>sentence_1</th>\n",
       "      <th>sentence_2</th>\n",
       "      <th>label</th>\n",
       "      <th>binary-label</th>\n",
       "      <th>abs_len_diff</th>\n",
       "      <th>len_diff</th>\n",
       "    </tr>\n",
       "  </thead>\n",
       "  <tbody>\n",
       "    <tr>\n",
       "      <th>0</th>\n",
       "      <td>boostcamp-sts-v1-train-000</td>\n",
       "      <td>nsmc-sampled</td>\n",
       "      <td>스릴도있고 반전도 있고 여느 한국영화 쓰레기들하고는 차원이 다르네요~</td>\n",
       "      <td>반전도 있고,사랑도 있고재미도있네요.</td>\n",
       "      <td>2.2</td>\n",
       "      <td>0.0</td>\n",
       "      <td>18</td>\n",
       "      <td>18</td>\n",
       "    </tr>\n",
       "    <tr>\n",
       "      <th>7</th>\n",
       "      <td>boostcamp-sts-v1-train-007</td>\n",
       "      <td>nsmc-sampled</td>\n",
       "      <td>이렇게 귀여운 쥐들은 처음이네요.ㅎㅎㅎ</td>\n",
       "      <td>이렇게 지겨운 공포영화는 처음..</td>\n",
       "      <td>0.6</td>\n",
       "      <td>0.0</td>\n",
       "      <td>3</td>\n",
       "      <td>3</td>\n",
       "    </tr>\n",
       "    <tr>\n",
       "      <th>11</th>\n",
       "      <td>boostcamp-sts-v1-train-011</td>\n",
       "      <td>nsmc-sampled</td>\n",
       "      <td>극의전개가너무느릿하여답답합니다</td>\n",
       "      <td>전개가 너무 느려서 속터진다</td>\n",
       "      <td>3.8</td>\n",
       "      <td>1.0</td>\n",
       "      <td>1</td>\n",
       "      <td>1</td>\n",
       "    </tr>\n",
       "    <tr>\n",
       "      <th>13</th>\n",
       "      <td>boostcamp-sts-v1-train-013</td>\n",
       "      <td>nsmc-sampled</td>\n",
       "      <td>글쎄.. 특색도 없고 별로였던 걸로 기억하는데..</td>\n",
       "      <td>큰 반전 없던걸로 기억하는데...</td>\n",
       "      <td>1.8</td>\n",
       "      <td>0.0</td>\n",
       "      <td>9</td>\n",
       "      <td>9</td>\n",
       "    </tr>\n",
       "    <tr>\n",
       "      <th>23</th>\n",
       "      <td>boostcamp-sts-v1-train-023</td>\n",
       "      <td>nsmc-sampled</td>\n",
       "      <td>노래와 잘 어우러지는 영상 덕분인지 짧지만 강한 인상이 남네요..</td>\n",
       "      <td>조금유치하지만 가볍게 볼수는 있는영화네요!</td>\n",
       "      <td>0.0</td>\n",
       "      <td>0.0</td>\n",
       "      <td>13</td>\n",
       "      <td>13</td>\n",
       "    </tr>\n",
       "  </tbody>\n",
       "</table>\n",
       "</div>"
      ],
      "text/plain": [
       "                            id        source  \\\n",
       "0   boostcamp-sts-v1-train-000  nsmc-sampled   \n",
       "7   boostcamp-sts-v1-train-007  nsmc-sampled   \n",
       "11  boostcamp-sts-v1-train-011  nsmc-sampled   \n",
       "13  boostcamp-sts-v1-train-013  nsmc-sampled   \n",
       "23  boostcamp-sts-v1-train-023  nsmc-sampled   \n",
       "\n",
       "                                sentence_1               sentence_2  label  \\\n",
       "0   스릴도있고 반전도 있고 여느 한국영화 쓰레기들하고는 차원이 다르네요~     반전도 있고,사랑도 있고재미도있네요.    2.2   \n",
       "7                    이렇게 귀여운 쥐들은 처음이네요.ㅎㅎㅎ       이렇게 지겨운 공포영화는 처음..    0.6   \n",
       "11                        극의전개가너무느릿하여답답합니다          전개가 너무 느려서 속터진다    3.8   \n",
       "13             글쎄.. 특색도 없고 별로였던 걸로 기억하는데..       큰 반전 없던걸로 기억하는데...    1.8   \n",
       "23    노래와 잘 어우러지는 영상 덕분인지 짧지만 강한 인상이 남네요..  조금유치하지만 가볍게 볼수는 있는영화네요!    0.0   \n",
       "\n",
       "    binary-label  abs_len_diff  len_diff  \n",
       "0            0.0            18        18  \n",
       "7            0.0             3         3  \n",
       "11           1.0             1         1  \n",
       "13           0.0             9         9  \n",
       "23           0.0            13        13  "
      ]
     },
     "execution_count": 315,
     "metadata": {},
     "output_type": "execute_result"
    }
   ],
   "source": [
    "nsmc_sampled_df = train_df[train_df[\"source\"] == \"nsmc-sampled\"]\n",
    "nsmc_sampled_df.head()"
   ]
  },
  {
   "cell_type": "code",
   "execution_count": 316,
   "id": "afba7fd1-f520-4988-a6a0-c60460e6e25c",
   "metadata": {},
   "outputs": [
    {
     "data": {
      "text/html": [
       "<div>\n",
       "<style scoped>\n",
       "    .dataframe tbody tr th:only-of-type {\n",
       "        vertical-align: middle;\n",
       "    }\n",
       "\n",
       "    .dataframe tbody tr th {\n",
       "        vertical-align: top;\n",
       "    }\n",
       "\n",
       "    .dataframe thead th {\n",
       "        text-align: right;\n",
       "    }\n",
       "</style>\n",
       "<table border=\"1\" class=\"dataframe\">\n",
       "  <thead>\n",
       "    <tr style=\"text-align: right;\">\n",
       "      <th></th>\n",
       "      <th>id</th>\n",
       "      <th>source</th>\n",
       "      <th>sentence_1</th>\n",
       "      <th>sentence_2</th>\n",
       "      <th>label</th>\n",
       "      <th>binary-label</th>\n",
       "      <th>abs_len_diff</th>\n",
       "      <th>len_diff</th>\n",
       "    </tr>\n",
       "  </thead>\n",
       "  <tbody>\n",
       "    <tr>\n",
       "      <th>1</th>\n",
       "      <td>boostcamp-sts-v1-train-001</td>\n",
       "      <td>slack-rtt</td>\n",
       "      <td>앗 제가 접근권한이 없다고 뜹니다;;</td>\n",
       "      <td>오, 액세스 권한이 없다고 합니다.</td>\n",
       "      <td>4.2</td>\n",
       "      <td>1.0</td>\n",
       "      <td>1</td>\n",
       "      <td>1</td>\n",
       "    </tr>\n",
       "    <tr>\n",
       "      <th>6</th>\n",
       "      <td>boostcamp-sts-v1-train-006</td>\n",
       "      <td>slack-rtt</td>\n",
       "      <td>전 암만 찍어도 까만 하늘.. ㅠㅠ</td>\n",
       "      <td>암만 찍어도 하늘은 까맣다.. ㅠㅠ</td>\n",
       "      <td>3.6</td>\n",
       "      <td>1.0</td>\n",
       "      <td>0</td>\n",
       "      <td>0</td>\n",
       "    </tr>\n",
       "    <tr>\n",
       "      <th>10</th>\n",
       "      <td>boostcamp-sts-v1-train-010</td>\n",
       "      <td>slack-rtt</td>\n",
       "      <td>그 책부터 언능 꺼내봐야 겠어요!</td>\n",
       "      <td>책에서 꺼내야겠어요!</td>\n",
       "      <td>2.4</td>\n",
       "      <td>0.0</td>\n",
       "      <td>7</td>\n",
       "      <td>7</td>\n",
       "    </tr>\n",
       "    <tr>\n",
       "      <th>27</th>\n",
       "      <td>boostcamp-sts-v1-train-027</td>\n",
       "      <td>slack-rtt</td>\n",
       "      <td>마지막으로 리모트 근무의 장점에 대해 이야기했는데, 시간을 효율적으로 사용할 수 있...</td>\n",
       "      <td>마지막으로 재택근무의 장점에 대해 이야기를 나누었고, 시간을 효율적으로 사용할 수 ...</td>\n",
       "      <td>4.2</td>\n",
       "      <td>1.0</td>\n",
       "      <td>6</td>\n",
       "      <td>6</td>\n",
       "    </tr>\n",
       "    <tr>\n",
       "      <th>28</th>\n",
       "      <td>boostcamp-sts-v1-train-028</td>\n",
       "      <td>slack-rtt</td>\n",
       "      <td>겨울산이 예쁘지만 산을 잘 못타서 대리만족 중입니당</td>\n",
       "      <td>겨울산은 예쁜데 제가 등산을 잘 못해서 대만족입니다.</td>\n",
       "      <td>3.2</td>\n",
       "      <td>1.0</td>\n",
       "      <td>1</td>\n",
       "      <td>-1</td>\n",
       "    </tr>\n",
       "  </tbody>\n",
       "</table>\n",
       "</div>"
      ],
      "text/plain": [
       "                            id     source  \\\n",
       "1   boostcamp-sts-v1-train-001  slack-rtt   \n",
       "6   boostcamp-sts-v1-train-006  slack-rtt   \n",
       "10  boostcamp-sts-v1-train-010  slack-rtt   \n",
       "27  boostcamp-sts-v1-train-027  slack-rtt   \n",
       "28  boostcamp-sts-v1-train-028  slack-rtt   \n",
       "\n",
       "                                           sentence_1  \\\n",
       "1                                앗 제가 접근권한이 없다고 뜹니다;;   \n",
       "6                                 전 암만 찍어도 까만 하늘.. ㅠㅠ   \n",
       "10                                 그 책부터 언능 꺼내봐야 겠어요!   \n",
       "27  마지막으로 리모트 근무의 장점에 대해 이야기했는데, 시간을 효율적으로 사용할 수 있...   \n",
       "28                       겨울산이 예쁘지만 산을 잘 못타서 대리만족 중입니당   \n",
       "\n",
       "                                           sentence_2  label  binary-label  \\\n",
       "1                                 오, 액세스 권한이 없다고 합니다.    4.2           1.0   \n",
       "6                                 암만 찍어도 하늘은 까맣다.. ㅠㅠ    3.6           1.0   \n",
       "10                                        책에서 꺼내야겠어요!    2.4           0.0   \n",
       "27  마지막으로 재택근무의 장점에 대해 이야기를 나누었고, 시간을 효율적으로 사용할 수 ...    4.2           1.0   \n",
       "28                      겨울산은 예쁜데 제가 등산을 잘 못해서 대만족입니다.    3.2           1.0   \n",
       "\n",
       "    abs_len_diff  len_diff  \n",
       "1              1         1  \n",
       "6              0         0  \n",
       "10             7         7  \n",
       "27             6         6  \n",
       "28             1        -1  "
      ]
     },
     "execution_count": 316,
     "metadata": {},
     "output_type": "execute_result"
    }
   ],
   "source": [
    "slack_rtt_df = train_df[train_df[\"source\"] == \"slack-rtt\"]\n",
    "slack_rtt_df.head()"
   ]
  },
  {
   "cell_type": "code",
   "execution_count": 317,
   "id": "2ced5021-7a9f-4068-b0d5-2a3c660f6adf",
   "metadata": {},
   "outputs": [
    {
     "data": {
      "text/html": [
       "<div>\n",
       "<style scoped>\n",
       "    .dataframe tbody tr th:only-of-type {\n",
       "        vertical-align: middle;\n",
       "    }\n",
       "\n",
       "    .dataframe tbody tr th {\n",
       "        vertical-align: top;\n",
       "    }\n",
       "\n",
       "    .dataframe thead th {\n",
       "        text-align: right;\n",
       "    }\n",
       "</style>\n",
       "<table border=\"1\" class=\"dataframe\">\n",
       "  <thead>\n",
       "    <tr style=\"text-align: right;\">\n",
       "      <th></th>\n",
       "      <th>id</th>\n",
       "      <th>source</th>\n",
       "      <th>sentence_1</th>\n",
       "      <th>sentence_2</th>\n",
       "      <th>label</th>\n",
       "      <th>binary-label</th>\n",
       "      <th>abs_len_diff</th>\n",
       "      <th>len_diff</th>\n",
       "    </tr>\n",
       "  </thead>\n",
       "  <tbody>\n",
       "    <tr>\n",
       "      <th>2</th>\n",
       "      <td>boostcamp-sts-v1-train-002</td>\n",
       "      <td>petition-sampled</td>\n",
       "      <td>주택청약조건 변경해주세요.</td>\n",
       "      <td>주택청약 무주택기준 변경해주세요.</td>\n",
       "      <td>2.4</td>\n",
       "      <td>0.0</td>\n",
       "      <td>4</td>\n",
       "      <td>-4</td>\n",
       "    </tr>\n",
       "    <tr>\n",
       "      <th>8</th>\n",
       "      <td>boostcamp-sts-v1-train-008</td>\n",
       "      <td>petition-sampled</td>\n",
       "      <td>미세먼지 해결이 가장 시급한 문제입니다!</td>\n",
       "      <td>가장 시급한 것이 신생아실 관리입니다!!!</td>\n",
       "      <td>0.4</td>\n",
       "      <td>0.0</td>\n",
       "      <td>1</td>\n",
       "      <td>-1</td>\n",
       "    </tr>\n",
       "    <tr>\n",
       "      <th>9</th>\n",
       "      <td>boostcamp-sts-v1-train-009</td>\n",
       "      <td>petition-sampled</td>\n",
       "      <td>크림하우스 환불조치해주세요.</td>\n",
       "      <td>크림하우스 환불조치할 수 있도록해주세여</td>\n",
       "      <td>4.2</td>\n",
       "      <td>1.0</td>\n",
       "      <td>6</td>\n",
       "      <td>-6</td>\n",
       "    </tr>\n",
       "    <tr>\n",
       "      <th>15</th>\n",
       "      <td>boostcamp-sts-v1-train-015</td>\n",
       "      <td>petition-sampled</td>\n",
       "      <td>LG전자 스마트폰 생산 중단 청원</td>\n",
       "      <td>LG전자서비스의 노조 와해를 조사해주세요.</td>\n",
       "      <td>0.4</td>\n",
       "      <td>0.0</td>\n",
       "      <td>5</td>\n",
       "      <td>-5</td>\n",
       "    </tr>\n",
       "    <tr>\n",
       "      <th>19</th>\n",
       "      <td>boostcamp-sts-v1-train-019</td>\n",
       "      <td>petition-sampled</td>\n",
       "      <td>내년 러시아월드컵 자진포기 청원드립니다.</td>\n",
       "      <td>2023 아시안컵 유치에 공동개최를 반대 합니다.</td>\n",
       "      <td>0.0</td>\n",
       "      <td>0.0</td>\n",
       "      <td>5</td>\n",
       "      <td>-5</td>\n",
       "    </tr>\n",
       "  </tbody>\n",
       "</table>\n",
       "</div>"
      ],
      "text/plain": [
       "                            id            source              sentence_1  \\\n",
       "2   boostcamp-sts-v1-train-002  petition-sampled          주택청약조건 변경해주세요.   \n",
       "8   boostcamp-sts-v1-train-008  petition-sampled  미세먼지 해결이 가장 시급한 문제입니다!   \n",
       "9   boostcamp-sts-v1-train-009  petition-sampled         크림하우스 환불조치해주세요.   \n",
       "15  boostcamp-sts-v1-train-015  petition-sampled      LG전자 스마트폰 생산 중단 청원   \n",
       "19  boostcamp-sts-v1-train-019  petition-sampled  내년 러시아월드컵 자진포기 청원드립니다.   \n",
       "\n",
       "                     sentence_2  label  binary-label  abs_len_diff  len_diff  \n",
       "2            주택청약 무주택기준 변경해주세요.    2.4           0.0             4        -4  \n",
       "8       가장 시급한 것이 신생아실 관리입니다!!!    0.4           0.0             1        -1  \n",
       "9         크림하우스 환불조치할 수 있도록해주세여    4.2           1.0             6        -6  \n",
       "15      LG전자서비스의 노조 와해를 조사해주세요.    0.4           0.0             5        -5  \n",
       "19  2023 아시안컵 유치에 공동개최를 반대 합니다.    0.0           0.0             5        -5  "
      ]
     },
     "execution_count": 317,
     "metadata": {},
     "output_type": "execute_result"
    }
   ],
   "source": [
    "petition_sampled_df = train_df[train_df[\"source\"] == \"petition-sampled\"]\n",
    "petition_sampled_df.head()"
   ]
  },
  {
   "cell_type": "code",
   "execution_count": 318,
   "id": "a3f50bf2-69b4-43ce-a4fc-59b9e46cfdcb",
   "metadata": {},
   "outputs": [
    {
     "data": {
      "text/html": [
       "<div>\n",
       "<style scoped>\n",
       "    .dataframe tbody tr th:only-of-type {\n",
       "        vertical-align: middle;\n",
       "    }\n",
       "\n",
       "    .dataframe tbody tr th {\n",
       "        vertical-align: top;\n",
       "    }\n",
       "\n",
       "    .dataframe thead th {\n",
       "        text-align: right;\n",
       "    }\n",
       "</style>\n",
       "<table border=\"1\" class=\"dataframe\">\n",
       "  <thead>\n",
       "    <tr style=\"text-align: right;\">\n",
       "      <th></th>\n",
       "      <th>id</th>\n",
       "      <th>source</th>\n",
       "      <th>sentence_1</th>\n",
       "      <th>sentence_2</th>\n",
       "      <th>label</th>\n",
       "      <th>binary-label</th>\n",
       "      <th>abs_len_diff</th>\n",
       "      <th>len_diff</th>\n",
       "    </tr>\n",
       "  </thead>\n",
       "  <tbody>\n",
       "    <tr>\n",
       "      <th>3</th>\n",
       "      <td>boostcamp-sts-v1-train-003</td>\n",
       "      <td>slack-sampled</td>\n",
       "      <td>입사후 처음 대면으로 만나 반가웠습니다.</td>\n",
       "      <td>화상으로만 보다가 리얼로 만나니 정말 반가웠습니다.</td>\n",
       "      <td>3.0</td>\n",
       "      <td>1.0</td>\n",
       "      <td>6</td>\n",
       "      <td>-6</td>\n",
       "    </tr>\n",
       "    <tr>\n",
       "      <th>4</th>\n",
       "      <td>boostcamp-sts-v1-train-004</td>\n",
       "      <td>slack-sampled</td>\n",
       "      <td>뿌듯뿌듯 하네요!!</td>\n",
       "      <td>꼬옥 실제로 한번 뵈어요 뿌뿌뿌~!~!</td>\n",
       "      <td>0.0</td>\n",
       "      <td>0.0</td>\n",
       "      <td>11</td>\n",
       "      <td>-11</td>\n",
       "    </tr>\n",
       "    <tr>\n",
       "      <th>14</th>\n",
       "      <td>boostcamp-sts-v1-train-014</td>\n",
       "      <td>slack-sampled</td>\n",
       "      <td>아래는 게임 내에서 함께 팀을 맺고 캡쳐한 이미지입니다.</td>\n",
       "      <td>여러분들간의 다양한 아이디어를 제안하고 나누는 채널입니다.</td>\n",
       "      <td>0.0</td>\n",
       "      <td>0.0</td>\n",
       "      <td>1</td>\n",
       "      <td>-1</td>\n",
       "    </tr>\n",
       "    <tr>\n",
       "      <th>16</th>\n",
       "      <td>boostcamp-sts-v1-train-016</td>\n",
       "      <td>slack-sampled</td>\n",
       "      <td>환갑이면? ㅎㅎㅎ 이런 재미난 얘기하느라 시간이 금방 가더라고요.</td>\n",
       "      <td>넘넘 즐거운 이야기를 하고나니 시간이 금방 가버렸네요.</td>\n",
       "      <td>3.0</td>\n",
       "      <td>1.0</td>\n",
       "      <td>6</td>\n",
       "      <td>6</td>\n",
       "    </tr>\n",
       "    <tr>\n",
       "      <th>20</th>\n",
       "      <td>boostcamp-sts-v1-train-020</td>\n",
       "      <td>slack-sampled</td>\n",
       "      <td>앞머리 새로 하셨습니다. ^^</td>\n",
       "      <td>가방에 넣어 다니면서 조금씩 먹습니다. ^^</td>\n",
       "      <td>0.0</td>\n",
       "      <td>0.0</td>\n",
       "      <td>8</td>\n",
       "      <td>-8</td>\n",
       "    </tr>\n",
       "  </tbody>\n",
       "</table>\n",
       "</div>"
      ],
      "text/plain": [
       "                            id         source  \\\n",
       "3   boostcamp-sts-v1-train-003  slack-sampled   \n",
       "4   boostcamp-sts-v1-train-004  slack-sampled   \n",
       "14  boostcamp-sts-v1-train-014  slack-sampled   \n",
       "16  boostcamp-sts-v1-train-016  slack-sampled   \n",
       "20  boostcamp-sts-v1-train-020  slack-sampled   \n",
       "\n",
       "                              sentence_1                        sentence_2  \\\n",
       "3                 입사후 처음 대면으로 만나 반가웠습니다.      화상으로만 보다가 리얼로 만나니 정말 반가웠습니다.   \n",
       "4                             뿌듯뿌듯 하네요!!             꼬옥 실제로 한번 뵈어요 뿌뿌뿌~!~!   \n",
       "14       아래는 게임 내에서 함께 팀을 맺고 캡쳐한 이미지입니다.  여러분들간의 다양한 아이디어를 제안하고 나누는 채널입니다.   \n",
       "16  환갑이면? ㅎㅎㅎ 이런 재미난 얘기하느라 시간이 금방 가더라고요.    넘넘 즐거운 이야기를 하고나니 시간이 금방 가버렸네요.   \n",
       "20                      앞머리 새로 하셨습니다. ^^          가방에 넣어 다니면서 조금씩 먹습니다. ^^   \n",
       "\n",
       "    label  binary-label  abs_len_diff  len_diff  \n",
       "3     3.0           1.0             6        -6  \n",
       "4     0.0           0.0            11       -11  \n",
       "14    0.0           0.0             1        -1  \n",
       "16    3.0           1.0             6         6  \n",
       "20    0.0           0.0             8        -8  "
      ]
     },
     "execution_count": 318,
     "metadata": {},
     "output_type": "execute_result"
    }
   ],
   "source": [
    "slack_sampled_df = train_df[train_df[\"source\"] == \"slack-sampled\"]\n",
    "slack_sampled_df.head()"
   ]
  },
  {
   "cell_type": "code",
   "execution_count": 319,
   "id": "5e6c2926-4650-4865-9504-13e5f0fd448c",
   "metadata": {},
   "outputs": [
    {
     "data": {
      "text/html": [
       "<div>\n",
       "<style scoped>\n",
       "    .dataframe tbody tr th:only-of-type {\n",
       "        vertical-align: middle;\n",
       "    }\n",
       "\n",
       "    .dataframe tbody tr th {\n",
       "        vertical-align: top;\n",
       "    }\n",
       "\n",
       "    .dataframe thead th {\n",
       "        text-align: right;\n",
       "    }\n",
       "</style>\n",
       "<table border=\"1\" class=\"dataframe\">\n",
       "  <thead>\n",
       "    <tr style=\"text-align: right;\">\n",
       "      <th></th>\n",
       "      <th>id</th>\n",
       "      <th>source</th>\n",
       "      <th>sentence_1</th>\n",
       "      <th>sentence_2</th>\n",
       "      <th>label</th>\n",
       "      <th>binary-label</th>\n",
       "      <th>abs_len_diff</th>\n",
       "      <th>len_diff</th>\n",
       "    </tr>\n",
       "  </thead>\n",
       "  <tbody>\n",
       "    <tr>\n",
       "      <th>5</th>\n",
       "      <td>boostcamp-sts-v1-train-005</td>\n",
       "      <td>nsmc-rtt</td>\n",
       "      <td>오마이가뜨지져스크롸이스트휏</td>\n",
       "      <td>오 마이 갓 지저스 스크론 이스트 팬</td>\n",
       "      <td>2.6</td>\n",
       "      <td>1.0</td>\n",
       "      <td>6</td>\n",
       "      <td>-6</td>\n",
       "    </tr>\n",
       "    <tr>\n",
       "      <th>12</th>\n",
       "      <td>boostcamp-sts-v1-train-012</td>\n",
       "      <td>nsmc-rtt</td>\n",
       "      <td>오랫만에 존쿠삭의 연기보니 좋네요 Good~~!!</td>\n",
       "      <td>오랜만에 존 쿠삭의 연기를 보니 반갑다. 좋아요~~!!</td>\n",
       "      <td>3.8</td>\n",
       "      <td>1.0</td>\n",
       "      <td>3</td>\n",
       "      <td>-3</td>\n",
       "    </tr>\n",
       "    <tr>\n",
       "      <th>24</th>\n",
       "      <td>boostcamp-sts-v1-train-024</td>\n",
       "      <td>nsmc-rtt</td>\n",
       "      <td>군대가기전에 봤었는데 진짜 윈터스같은 사람이 상관이면 목숨걸고 싸워도 후회는 없지 ...</td>\n",
       "      <td>입대하기 전에 봤는데 윈터스 같은 사람이 진심으로 아껴준다면 목숨을 걸고 싸워도 후...</td>\n",
       "      <td>4.2</td>\n",
       "      <td>1.0</td>\n",
       "      <td>2</td>\n",
       "      <td>-2</td>\n",
       "    </tr>\n",
       "    <tr>\n",
       "      <th>29</th>\n",
       "      <td>boostcamp-sts-v1-train-029</td>\n",
       "      <td>nsmc-rtt</td>\n",
       "      <td>한사람의 파멸을 적나라하게 드러내 준 영화</td>\n",
       "      <td>한 사람의 파멸을 드러내는 영화</td>\n",
       "      <td>3.6</td>\n",
       "      <td>1.0</td>\n",
       "      <td>6</td>\n",
       "      <td>6</td>\n",
       "    </tr>\n",
       "    <tr>\n",
       "      <th>34</th>\n",
       "      <td>boostcamp-sts-v1-train-034</td>\n",
       "      <td>nsmc-rtt</td>\n",
       "      <td>전설따라 삼천리(삼만리인가?)에 의하면 이 영화가 꽤 괜찮다고 할뿐 아니라 내가 좋...</td>\n",
       "      <td>전설에 따르면 삼천리(삼천리?)에 따르면 이 영화는 꽤 괜찮을 뿐만 아니라 내가 제...</td>\n",
       "      <td>4.0</td>\n",
       "      <td>1.0</td>\n",
       "      <td>1</td>\n",
       "      <td>-1</td>\n",
       "    </tr>\n",
       "  </tbody>\n",
       "</table>\n",
       "</div>"
      ],
      "text/plain": [
       "                            id    source  \\\n",
       "5   boostcamp-sts-v1-train-005  nsmc-rtt   \n",
       "12  boostcamp-sts-v1-train-012  nsmc-rtt   \n",
       "24  boostcamp-sts-v1-train-024  nsmc-rtt   \n",
       "29  boostcamp-sts-v1-train-029  nsmc-rtt   \n",
       "34  boostcamp-sts-v1-train-034  nsmc-rtt   \n",
       "\n",
       "                                           sentence_1  \\\n",
       "5                                      오마이가뜨지져스크롸이스트휏   \n",
       "12                        오랫만에 존쿠삭의 연기보니 좋네요 Good~~!!   \n",
       "24  군대가기전에 봤었는데 진짜 윈터스같은 사람이 상관이면 목숨걸고 싸워도 후회는 없지 ...   \n",
       "29                            한사람의 파멸을 적나라하게 드러내 준 영화   \n",
       "34  전설따라 삼천리(삼만리인가?)에 의하면 이 영화가 꽤 괜찮다고 할뿐 아니라 내가 좋...   \n",
       "\n",
       "                                           sentence_2  label  binary-label  \\\n",
       "5                                오 마이 갓 지저스 스크론 이스트 팬    2.6           1.0   \n",
       "12                     오랜만에 존 쿠삭의 연기를 보니 반갑다. 좋아요~~!!    3.8           1.0   \n",
       "24  입대하기 전에 봤는데 윈터스 같은 사람이 진심으로 아껴준다면 목숨을 걸고 싸워도 후...    4.2           1.0   \n",
       "29                                  한 사람의 파멸을 드러내는 영화    3.6           1.0   \n",
       "34  전설에 따르면 삼천리(삼천리?)에 따르면 이 영화는 꽤 괜찮을 뿐만 아니라 내가 제...    4.0           1.0   \n",
       "\n",
       "    abs_len_diff  len_diff  \n",
       "5              6        -6  \n",
       "12             3        -3  \n",
       "24             2        -2  \n",
       "29             6         6  \n",
       "34             1        -1  "
      ]
     },
     "execution_count": 319,
     "metadata": {},
     "output_type": "execute_result"
    }
   ],
   "source": [
    "nsmc_rtt_df = train_df[train_df[\"source\"] == \"nsmc-rtt\"]\n",
    "nsmc_rtt_df.head()"
   ]
  },
  {
   "cell_type": "code",
   "execution_count": 320,
   "id": "49b28da9-4413-42db-bdf6-00d45e47db77",
   "metadata": {},
   "outputs": [
    {
     "data": {
      "text/html": [
       "<div>\n",
       "<style scoped>\n",
       "    .dataframe tbody tr th:only-of-type {\n",
       "        vertical-align: middle;\n",
       "    }\n",
       "\n",
       "    .dataframe tbody tr th {\n",
       "        vertical-align: top;\n",
       "    }\n",
       "\n",
       "    .dataframe thead th {\n",
       "        text-align: right;\n",
       "    }\n",
       "</style>\n",
       "<table border=\"1\" class=\"dataframe\">\n",
       "  <thead>\n",
       "    <tr style=\"text-align: right;\">\n",
       "      <th></th>\n",
       "      <th>id</th>\n",
       "      <th>source</th>\n",
       "      <th>sentence_1</th>\n",
       "      <th>sentence_2</th>\n",
       "      <th>label</th>\n",
       "      <th>binary-label</th>\n",
       "      <th>abs_len_diff</th>\n",
       "      <th>len_diff</th>\n",
       "    </tr>\n",
       "  </thead>\n",
       "  <tbody>\n",
       "    <tr>\n",
       "      <th>17</th>\n",
       "      <td>boostcamp-sts-v1-train-017</td>\n",
       "      <td>petition-rtt</td>\n",
       "      <td>최종구 금융위원장을 파면하라!</td>\n",
       "      <td>최종구 금융위원장 해고!</td>\n",
       "      <td>3.8</td>\n",
       "      <td>1.0</td>\n",
       "      <td>3</td>\n",
       "      <td>3</td>\n",
       "    </tr>\n",
       "    <tr>\n",
       "      <th>18</th>\n",
       "      <td>boostcamp-sts-v1-train-018</td>\n",
       "      <td>petition-rtt</td>\n",
       "      <td>정말 간절히 정부의 도움이 필요합니다.</td>\n",
       "      <td>정부의 도움이 절실히 필요합니다.</td>\n",
       "      <td>4.0</td>\n",
       "      <td>1.0</td>\n",
       "      <td>3</td>\n",
       "      <td>3</td>\n",
       "    </tr>\n",
       "    <tr>\n",
       "      <th>21</th>\n",
       "      <td>boostcamp-sts-v1-train-021</td>\n",
       "      <td>petition-rtt</td>\n",
       "      <td>김기덕 조재현 성폭행 철저히 수사해주세요!</td>\n",
       "      <td>김기덕·조재현 성폭행 의혹 철저히 수사하라!</td>\n",
       "      <td>4.2</td>\n",
       "      <td>1.0</td>\n",
       "      <td>1</td>\n",
       "      <td>-1</td>\n",
       "    </tr>\n",
       "    <tr>\n",
       "      <th>25</th>\n",
       "      <td>boostcamp-sts-v1-train-025</td>\n",
       "      <td>petition-rtt</td>\n",
       "      <td>국민청원에 올린글 삭제하는 청와대뉴미디어정책실은 억울한 피해자를 죽이고 경찰에게 증...</td>\n",
       "      <td>국민청원 글을 삭제하는 청와대 뉴미디어정책실은 부당한 피해자를 살해하고, 경찰에 증...</td>\n",
       "      <td>4.0</td>\n",
       "      <td>1.0</td>\n",
       "      <td>6</td>\n",
       "      <td>-6</td>\n",
       "    </tr>\n",
       "    <tr>\n",
       "      <th>30</th>\n",
       "      <td>boostcamp-sts-v1-train-030</td>\n",
       "      <td>petition-rtt</td>\n",
       "      <td>금융워원회의 공모주 개인 배정 축소(폐지)를 막아주세요</td>\n",
       "      <td>금융감독원의 공모주 개인배분 축소(폐지)를 막아주세요.</td>\n",
       "      <td>4.4</td>\n",
       "      <td>1.0</td>\n",
       "      <td>0</td>\n",
       "      <td>0</td>\n",
       "    </tr>\n",
       "  </tbody>\n",
       "</table>\n",
       "</div>"
      ],
      "text/plain": [
       "                            id        source  \\\n",
       "17  boostcamp-sts-v1-train-017  petition-rtt   \n",
       "18  boostcamp-sts-v1-train-018  petition-rtt   \n",
       "21  boostcamp-sts-v1-train-021  petition-rtt   \n",
       "25  boostcamp-sts-v1-train-025  petition-rtt   \n",
       "30  boostcamp-sts-v1-train-030  petition-rtt   \n",
       "\n",
       "                                           sentence_1  \\\n",
       "17                                   최종구 금융위원장을 파면하라!   \n",
       "18                              정말 간절히 정부의 도움이 필요합니다.   \n",
       "21                            김기덕 조재현 성폭행 철저히 수사해주세요!   \n",
       "25  국민청원에 올린글 삭제하는 청와대뉴미디어정책실은 억울한 피해자를 죽이고 경찰에게 증...   \n",
       "30                     금융워원회의 공모주 개인 배정 축소(폐지)를 막아주세요   \n",
       "\n",
       "                                           sentence_2  label  binary-label  \\\n",
       "17                                      최종구 금융위원장 해고!    3.8           1.0   \n",
       "18                                 정부의 도움이 절실히 필요합니다.    4.0           1.0   \n",
       "21                           김기덕·조재현 성폭행 의혹 철저히 수사하라!    4.2           1.0   \n",
       "25  국민청원 글을 삭제하는 청와대 뉴미디어정책실은 부당한 피해자를 살해하고, 경찰에 증...    4.0           1.0   \n",
       "30                     금융감독원의 공모주 개인배분 축소(폐지)를 막아주세요.    4.4           1.0   \n",
       "\n",
       "    abs_len_diff  len_diff  \n",
       "17             3         3  \n",
       "18             3         3  \n",
       "21             1        -1  \n",
       "25             6        -6  \n",
       "30             0         0  "
      ]
     },
     "execution_count": 320,
     "metadata": {},
     "output_type": "execute_result"
    }
   ],
   "source": [
    "petition_rtt_df = train_df[train_df[\"source\"] == \"petition-rtt\"]\n",
    "petition_rtt_df.head()"
   ]
  },
  {
   "cell_type": "code",
   "execution_count": 321,
   "id": "efc85159-8229-4ec9-b751-9203a1b8b38e",
   "metadata": {},
   "outputs": [
    {
     "data": {
      "text/plain": [
       "source\n",
       "petition-sampled    2352\n",
       "nsmc-sampled        2296\n",
       "slack-sampled       2024\n",
       "slack-rtt           1047\n",
       "petition-rtt         817\n",
       "nsmc-rtt             788\n",
       "Name: count, dtype: int64"
      ]
     },
     "execution_count": 321,
     "metadata": {},
     "output_type": "execute_result"
    }
   ],
   "source": [
    "train_df['source'].value_counts()"
   ]
  },
  {
   "cell_type": "code",
   "execution_count": 322,
   "id": "ab375314-b0ef-497e-9d71-fbb7a9d94f6f",
   "metadata": {},
   "outputs": [
    {
     "data": {
      "image/png": "[encoded data removed]",
      "text/plain": [
       "<Figure size 600x400 with 1 Axes>"
      ]
     },
     "metadata": {},
     "output_type": "display_data"
    }
   ],
   "source": [
    "plt.figure(figsize=(6, 4))\n",
    "sns.countplot(x='source', data=train_df)\n",
    "plt.title('Distribution of Sentence Sources')\n",
    "plt.xlabel('Source')\n",
    "plt.ylabel('Count')\n",
    "plt.show()"
   ]
  },
  {
   "cell_type": "code",
   "execution_count": 323,
   "id": "606b78d3-2fde-4b72-aa78-11835a43e375",
   "metadata": {},
   "outputs": [
    {
     "name": "stderr",
     "output_type": "stream",
     "text": [
      "C:\\Users\\user\\miniconda3\\Lib\\site-packages\\seaborn\\_oldcore.py:1119: FutureWarning: use_inf_as_na option is deprecated and will be removed in a future version. Convert inf values to NaN before operating instead.\n",
      "  with pd.option_context('mode.use_inf_as_na', True):\n"
     ]
    },
    {
     "data": {
      "image/png": "[encoded data removed]",
      "text/plain": [
       "<Figure size 800x400 with 1 Axes>"
      ]
     },
     "metadata": {},
     "output_type": "display_data"
    }
   ],
   "source": [
    "plt.figure(figsize=(8, 4))\n",
    "sns.histplot(train_df[train_df[\"source\"]==\"nsmc-rtt\"][\"label\"], bins=10)\n",
    "plt.title('Distribution of Similarity Scores of nsmc-rtt data')\n",
    "plt.xlabel('Label')\n",
    "plt.ylabel('Frequency')\n",
    "plt.show()"
   ]
  },
  {
   "cell_type": "code",
   "execution_count": 324,
   "id": "0235f5c0-81cc-498a-aff7-16b3362715e0",
   "metadata": {
    "scrolled": true
   },
   "outputs": [
    {
     "name": "stderr",
     "output_type": "stream",
     "text": [
      "C:\\Users\\user\\miniconda3\\Lib\\site-packages\\seaborn\\_oldcore.py:1119: FutureWarning: use_inf_as_na option is deprecated and will be removed in a future version. Convert inf values to NaN before operating instead.\n",
      "  with pd.option_context('mode.use_inf_as_na', True):\n"
     ]
    },
    {
     "data": {
      "image/png": "[encoded data removed]",
      "text/plain": [
       "<Figure size 800x400 with 1 Axes>"
      ]
     },
     "metadata": {},
     "output_type": "display_data"
    }
   ],
   "source": [
    "plt.figure(figsize=(8, 4))\n",
    "sns.histplot(train_df[train_df[\"source\"]==\"nsmc-sampled\"][\"label\"], bins=10)\n",
    "plt.title('Distribution of Similarity Scores of nsmc-sampled data')\n",
    "plt.xlabel('Label')\n",
    "plt.ylabel('Frequency')\n",
    "plt.show()"
   ]
  },
  {
   "cell_type": "code",
   "execution_count": 325,
   "id": "6cb332ca-cf67-4364-b231-fac96ad91afe",
   "metadata": {},
   "outputs": [
    {
     "name": "stderr",
     "output_type": "stream",
     "text": [
      "C:\\Users\\user\\miniconda3\\Lib\\site-packages\\seaborn\\_oldcore.py:1119: FutureWarning: use_inf_as_na option is deprecated and will be removed in a future version. Convert inf values to NaN before operating instead.\n",
      "  with pd.option_context('mode.use_inf_as_na', True):\n"
     ]
    },
    {
     "data": {
      "image/png": "[encoded data removed]",
      "text/plain": [
       "<Figure size 800x400 with 1 Axes>"
      ]
     },
     "metadata": {},
     "output_type": "display_data"
    }
   ],
   "source": [
    "plt.figure(figsize=(8, 4))\n",
    "sns.histplot(train_df[train_df[\"source\"]==\"petition-rtt\"][\"label\"], bins=10)\n",
    "plt.title('Distribution of Similarity Scores of petition-rtt data')\n",
    "plt.xlabel('Label')\n",
    "plt.ylabel('Frequency')\n",
    "plt.show()"
   ]
  },
  {
   "cell_type": "code",
   "execution_count": 326,
   "id": "a125f9d3-3ebc-45a9-93e5-22407435cbc8",
   "metadata": {},
   "outputs": [
    {
     "name": "stderr",
     "output_type": "stream",
     "text": [
      "C:\\Users\\user\\miniconda3\\Lib\\site-packages\\seaborn\\_oldcore.py:1119: FutureWarning: use_inf_as_na option is deprecated and will be removed in a future version. Convert inf values to NaN before operating instead.\n",
      "  with pd.option_context('mode.use_inf_as_na', True):\n"
     ]
    },
    {
     "data": {
      "image/png": "[encoded data removed]",
      "text/plain": [
       "<Figure size 800x400 with 1 Axes>"
      ]
     },
     "metadata": {},
     "output_type": "display_data"
    }
   ],
   "source": [
    "plt.figure(figsize=(8, 4))\n",
    "sns.histplot(train_df[train_df[\"source\"]==\"petition-sampled\"][\"label\"], bins=10)\n",
    "plt.title('Distribution of Similarity Scores of petition-sampled data')\n",
    "plt.xlabel('Label')\n",
    "plt.ylabel('Frequency')\n",
    "plt.show()"
   ]
  },
  {
   "cell_type": "code",
   "execution_count": 327,
   "id": "9425d4b4-6f51-4476-a7ac-2872b601c8f9",
   "metadata": {},
   "outputs": [
    {
     "name": "stderr",
     "output_type": "stream",
     "text": [
      "C:\\Users\\user\\miniconda3\\Lib\\site-packages\\seaborn\\_oldcore.py:1119: FutureWarning: use_inf_as_na option is deprecated and will be removed in a future version. Convert inf values to NaN before operating instead.\n",
      "  with pd.option_context('mode.use_inf_as_na', True):\n"
     ]
    },
    {
     "data": {
      "image/png": "[encoded data removed]",
      "text/plain": [
       "<Figure size 800x400 with 1 Axes>"
      ]
     },
     "metadata": {},
     "output_type": "display_data"
    }
   ],
   "source": [
    "plt.figure(figsize=(8, 4))\n",
    "sns.histplot(train_df[train_df[\"source\"]==\"slack-rtt\"][\"label\"], bins=10)\n",
    "plt.title('Distribution of Similarity Scores of slack-rtt data')\n",
    "plt.xlabel('Label')\n",
    "plt.ylabel('Frequency')\n",
    "plt.show()"
   ]
  },
  {
   "cell_type": "code",
   "execution_count": 328,
   "id": "dc02fb69-b192-49a3-9e2c-d39817bb72b7",
   "metadata": {},
   "outputs": [
    {
     "name": "stderr",
     "output_type": "stream",
     "text": [
      "C:\\Users\\user\\miniconda3\\Lib\\site-packages\\seaborn\\_oldcore.py:1119: FutureWarning: use_inf_as_na option is deprecated and will be removed in a future version. Convert inf values to NaN before operating instead.\n",
      "  with pd.option_context('mode.use_inf_as_na', True):\n"
     ]
    },
    {
     "data": {
      "image/png": "[encoded data removed]",
      "text/plain": [
       "<Figure size 800x400 with 1 Axes>"
      ]
     },
     "metadata": {},
     "output_type": "display_data"
    }
   ],
   "source": [
    "plt.figure(figsize=(8, 4))\n",
    "sns.histplot(train_df[train_df[\"source\"]==\"slack-sampled\"][\"label\"], bins=10)\n",
    "plt.title('Distribution of Similarity Scores of slack-sampled data')\n",
    "plt.xlabel('Label')\n",
    "plt.ylabel('Frequency')\n",
    "plt.show()"
   ]
  },
  {
   "cell_type": "code",
   "execution_count": 329,
   "id": "e9dfd47b-25fe-4b1a-a177-abe2ff7514c8",
   "metadata": {},
   "outputs": [
    {
     "data": {
      "text/html": [
       "<div>\n",
       "<style scoped>\n",
       "    .dataframe tbody tr th:only-of-type {\n",
       "        vertical-align: middle;\n",
       "    }\n",
       "\n",
       "    .dataframe tbody tr th {\n",
       "        vertical-align: top;\n",
       "    }\n",
       "\n",
       "    .dataframe thead th {\n",
       "        text-align: right;\n",
       "    }\n",
       "</style>\n",
       "<table border=\"1\" class=\"dataframe\">\n",
       "  <thead>\n",
       "    <tr style=\"text-align: right;\">\n",
       "      <th></th>\n",
       "      <th>id</th>\n",
       "      <th>source</th>\n",
       "      <th>sentence_1</th>\n",
       "      <th>sentence_2</th>\n",
       "      <th>label</th>\n",
       "      <th>binary-label</th>\n",
       "    </tr>\n",
       "  </thead>\n",
       "  <tbody>\n",
       "    <tr>\n",
       "      <th>0</th>\n",
       "      <td>boostcamp-sts-v1-dev-000</td>\n",
       "      <td>nsmc-sampled</td>\n",
       "      <td>액션은개뿔 총몇번쏘고 끝입니다</td>\n",
       "      <td>액션은 흉내만 내고 그마저도 후반부에는 슬로우모션 처리</td>\n",
       "      <td>2.0</td>\n",
       "      <td>0.0</td>\n",
       "    </tr>\n",
       "    <tr>\n",
       "      <th>1</th>\n",
       "      <td>boostcamp-sts-v1-dev-001</td>\n",
       "      <td>slack-rtt</td>\n",
       "      <td>감격스러워 입막으심?</td>\n",
       "      <td>너무 감동해서 입 다물어?</td>\n",
       "      <td>3.4</td>\n",
       "      <td>1.0</td>\n",
       "    </tr>\n",
       "    <tr>\n",
       "      <th>2</th>\n",
       "      <td>boostcamp-sts-v1-dev-002</td>\n",
       "      <td>nsmc-rtt</td>\n",
       "      <td>이번 년도에 본 영화 중 가장 최악의 영화......</td>\n",
       "      <td>올해 본 영화 중 최악...</td>\n",
       "      <td>4.0</td>\n",
       "      <td>1.0</td>\n",
       "    </tr>\n",
       "    <tr>\n",
       "      <th>3</th>\n",
       "      <td>boostcamp-sts-v1-dev-003</td>\n",
       "      <td>slack-rtt</td>\n",
       "      <td>특히 평소 뮤직채널에 많은 영감을 불어넣어주시는!</td>\n",
       "      <td>특히, 당신은 항상 많은 음악 채널에 영감을 줍니다!</td>\n",
       "      <td>3.4</td>\n",
       "      <td>1.0</td>\n",
       "    </tr>\n",
       "    <tr>\n",
       "      <th>4</th>\n",
       "      <td>boostcamp-sts-v1-dev-004</td>\n",
       "      <td>slack-sampled</td>\n",
       "      <td>다음 밥스테이지가 기대됩니다~ ㅎ</td>\n",
       "      <td>다음 후기도 기대됩니다~~</td>\n",
       "      <td>1.4</td>\n",
       "      <td>0.0</td>\n",
       "    </tr>\n",
       "  </tbody>\n",
       "</table>\n",
       "</div>"
      ],
      "text/plain": [
       "                         id         source                     sentence_1  \\\n",
       "0  boostcamp-sts-v1-dev-000   nsmc-sampled               액션은개뿔 총몇번쏘고 끝입니다   \n",
       "1  boostcamp-sts-v1-dev-001      slack-rtt                    감격스러워 입막으심?   \n",
       "2  boostcamp-sts-v1-dev-002       nsmc-rtt  이번 년도에 본 영화 중 가장 최악의 영화......   \n",
       "3  boostcamp-sts-v1-dev-003      slack-rtt    특히 평소 뮤직채널에 많은 영감을 불어넣어주시는!   \n",
       "4  boostcamp-sts-v1-dev-004  slack-sampled             다음 밥스테이지가 기대됩니다~ ㅎ   \n",
       "\n",
       "                       sentence_2  label  binary-label  \n",
       "0  액션은 흉내만 내고 그마저도 후반부에는 슬로우모션 처리    2.0           0.0  \n",
       "1                  너무 감동해서 입 다물어?    3.4           1.0  \n",
       "2                 올해 본 영화 중 최악...    4.0           1.0  \n",
       "3   특히, 당신은 항상 많은 음악 채널에 영감을 줍니다!    3.4           1.0  \n",
       "4                  다음 후기도 기대됩니다~~    1.4           0.0  "
      ]
     },
     "execution_count": 329,
     "metadata": {},
     "output_type": "execute_result"
    }
   ],
   "source": [
    "dev_df = pd.read_csv(\"dev.csv\")\n",
    "dev_df.head()"
   ]
  },
  {
   "cell_type": "code",
   "execution_count": 330,
   "id": "4137e859-c35a-40d4-b845-d5d384396d71",
   "metadata": {},
   "outputs": [
    {
     "data": {
      "text/plain": [
       "(550, 6)"
      ]
     },
     "execution_count": 330,
     "metadata": {},
     "output_type": "execute_result"
    }
   ],
   "source": [
    "dev_df.shape"
   ]
  },
  {
   "cell_type": "code",
   "execution_count": 331,
   "id": "0fdd1df2-5650-484a-bc2f-08fc36365221",
   "metadata": {},
   "outputs": [
    {
     "name": "stdout",
     "output_type": "stream",
     "text": [
      "<class 'pandas.core.frame.DataFrame'>\n",
      "RangeIndex: 550 entries, 0 to 549\n",
      "Data columns (total 6 columns):\n",
      " #   Column        Non-Null Count  Dtype  \n",
      "---  ------        --------------  -----  \n",
      " 0   id            550 non-null    object \n",
      " 1   source        550 non-null    object \n",
      " 2   sentence_1    550 non-null    object \n",
      " 3   sentence_2    550 non-null    object \n",
      " 4   label         550 non-null    float64\n",
      " 5   binary-label  550 non-null    float64\n",
      "dtypes: float64(2), object(4)\n",
      "memory usage: 25.9+ KB\n"
     ]
    }
   ],
   "source": [
    "dev_df.info()"
   ]
  },
  {
   "cell_type": "code",
   "execution_count": 332,
   "id": "eff4d869-d6dd-43cf-93f1-e67b2435feb8",
   "metadata": {},
   "outputs": [
    {
     "data": {
      "text/plain": [
       "id              0\n",
       "source          0\n",
       "sentence_1      0\n",
       "sentence_2      0\n",
       "label           0\n",
       "binary-label    0\n",
       "dtype: int64"
      ]
     },
     "execution_count": 332,
     "metadata": {},
     "output_type": "execute_result"
    }
   ],
   "source": [
    "dev_df.isnull().sum()"
   ]
  },
  {
   "cell_type": "code",
   "execution_count": 333,
   "id": "70bc2a80-7340-441c-980e-f458cc39e907",
   "metadata": {},
   "outputs": [
    {
     "data": {
      "text/html": [
       "<div>\n",
       "<style scoped>\n",
       "    .dataframe tbody tr th:only-of-type {\n",
       "        vertical-align: middle;\n",
       "    }\n",
       "\n",
       "    .dataframe tbody tr th {\n",
       "        vertical-align: top;\n",
       "    }\n",
       "\n",
       "    .dataframe thead th {\n",
       "        text-align: right;\n",
       "    }\n",
       "</style>\n",
       "<table border=\"1\" class=\"dataframe\">\n",
       "  <thead>\n",
       "    <tr style=\"text-align: right;\">\n",
       "      <th></th>\n",
       "      <th>label</th>\n",
       "      <th>binary-label</th>\n",
       "    </tr>\n",
       "  </thead>\n",
       "  <tbody>\n",
       "    <tr>\n",
       "      <th>count</th>\n",
       "      <td>550.000000</td>\n",
       "      <td>550.000000</td>\n",
       "    </tr>\n",
       "    <tr>\n",
       "      <th>mean</th>\n",
       "      <td>2.584000</td>\n",
       "      <td>0.520000</td>\n",
       "    </tr>\n",
       "    <tr>\n",
       "      <th>std</th>\n",
       "      <td>1.459483</td>\n",
       "      <td>0.500055</td>\n",
       "    </tr>\n",
       "    <tr>\n",
       "      <th>min</th>\n",
       "      <td>0.000000</td>\n",
       "      <td>0.000000</td>\n",
       "    </tr>\n",
       "    <tr>\n",
       "      <th>25%</th>\n",
       "      <td>1.400000</td>\n",
       "      <td>0.000000</td>\n",
       "    </tr>\n",
       "    <tr>\n",
       "      <th>50%</th>\n",
       "      <td>2.600000</td>\n",
       "      <td>1.000000</td>\n",
       "    </tr>\n",
       "    <tr>\n",
       "      <th>75%</th>\n",
       "      <td>3.800000</td>\n",
       "      <td>1.000000</td>\n",
       "    </tr>\n",
       "    <tr>\n",
       "      <th>max</th>\n",
       "      <td>5.000000</td>\n",
       "      <td>1.000000</td>\n",
       "    </tr>\n",
       "  </tbody>\n",
       "</table>\n",
       "</div>"
      ],
      "text/plain": [
       "            label  binary-label\n",
       "count  550.000000    550.000000\n",
       "mean     2.584000      0.520000\n",
       "std      1.459483      0.500055\n",
       "min      0.000000      0.000000\n",
       "25%      1.400000      0.000000\n",
       "50%      2.600000      1.000000\n",
       "75%      3.800000      1.000000\n",
       "max      5.000000      1.000000"
      ]
     },
     "execution_count": 333,
     "metadata": {},
     "output_type": "execute_result"
    }
   ],
   "source": [
    "dev_df.describe()"
   ]
  },
  {
   "cell_type": "code",
   "execution_count": 334,
   "id": "091873ae-4084-4c67-804b-91527b1ec01b",
   "metadata": {},
   "outputs": [
    {
     "name": "stderr",
     "output_type": "stream",
     "text": [
      "C:\\Users\\user\\miniconda3\\Lib\\site-packages\\seaborn\\_oldcore.py:1119: FutureWarning: use_inf_as_na option is deprecated and will be removed in a future version. Convert inf values to NaN before operating instead.\n",
      "  with pd.option_context('mode.use_inf_as_na', True):\n"
     ]
    },
    {
     "data": {
      "image/png": "[encoded data removed]",
      "text/plain": [
       "<Figure size 800x400 with 1 Axes>"
      ]
     },
     "metadata": {},
     "output_type": "display_data"
    }
   ],
   "source": [
    "plt.figure(figsize=(8, 4))\n",
    "sns.histplot(dev_df['label'], bins=10)\n",
    "plt.title('Distribution of Similarity Scores')\n",
    "plt.xlabel('Label')\n",
    "plt.ylabel('Frequency')\n",
    "plt.show()"
   ]
  },
  {
   "cell_type": "code",
   "execution_count": 335,
   "id": "079edc66-54a0-49bc-91fe-a91e63ec18cf",
   "metadata": {},
   "outputs": [
    {
     "data": {
      "image/png": "[encoded data removed]",
      "text/plain": [
       "<Figure size 600x400 with 1 Axes>"
      ]
     },
     "metadata": {},
     "output_type": "display_data"
    }
   ],
   "source": [
    "plt.figure(figsize=(6, 4))\n",
    "sns.countplot(x='binary-label', data=dev_df)\n",
    "plt.title('Distribution of Binary Labels')\n",
    "plt.xlabel('Binary Label')\n",
    "plt.ylabel('Count')\n",
    "plt.show()"
   ]
  },
  {
   "cell_type": "code",
   "execution_count": 336,
   "id": "4f2e6fd1-4d0b-44b8-9c8d-5a122a46a338",
   "metadata": {},
   "outputs": [
    {
     "data": {
      "text/plain": [
       "source\n",
       "nsmc-sampled        127\n",
       "petition-sampled    127\n",
       "slack-sampled        99\n",
       "slack-rtt            84\n",
       "petition-rtt         65\n",
       "nsmc-rtt             48\n",
       "Name: count, dtype: int64"
      ]
     },
     "execution_count": 336,
     "metadata": {},
     "output_type": "execute_result"
    }
   ],
   "source": [
    "dev_df['source'].value_counts()"
   ]
  },
  {
   "cell_type": "code",
   "execution_count": 337,
   "id": "fa78aaa9-4f6f-401a-b1f4-e91e1f45f45f",
   "metadata": {},
   "outputs": [
    {
     "data": {
      "text/html": [
       "<div>\n",
       "<style scoped>\n",
       "    .dataframe tbody tr th:only-of-type {\n",
       "        vertical-align: middle;\n",
       "    }\n",
       "\n",
       "    .dataframe tbody tr th {\n",
       "        vertical-align: top;\n",
       "    }\n",
       "\n",
       "    .dataframe thead th {\n",
       "        text-align: right;\n",
       "    }\n",
       "</style>\n",
       "<table border=\"1\" class=\"dataframe\">\n",
       "  <thead>\n",
       "    <tr style=\"text-align: right;\">\n",
       "      <th></th>\n",
       "      <th>id</th>\n",
       "      <th>source</th>\n",
       "      <th>sentence_1</th>\n",
       "      <th>sentence_2</th>\n",
       "      <th>label</th>\n",
       "      <th>binary-label</th>\n",
       "    </tr>\n",
       "  </thead>\n",
       "  <tbody>\n",
       "  </tbody>\n",
       "</table>\n",
       "</div>"
      ],
      "text/plain": [
       "Empty DataFrame\n",
       "Columns: [id, source, sentence_1, sentence_2, label, binary-label]\n",
       "Index: []"
      ]
     },
     "execution_count": 337,
     "metadata": {},
     "output_type": "execute_result"
    }
   ],
   "source": [
    "dev_df[dev_df.duplicated([\"sentence_1\", \"sentence_2\"], keep = False)]"
   ]
  },
  {
   "cell_type": "code",
   "execution_count": 338,
   "id": "237c6ccb-7c9f-47c9-a599-eb4bf78be8bf",
   "metadata": {},
   "outputs": [
    {
     "data": {
      "text/html": [
       "<div>\n",
       "<style scoped>\n",
       "    .dataframe tbody tr th:only-of-type {\n",
       "        vertical-align: middle;\n",
       "    }\n",
       "\n",
       "    .dataframe tbody tr th {\n",
       "        vertical-align: top;\n",
       "    }\n",
       "\n",
       "    .dataframe thead th {\n",
       "        text-align: right;\n",
       "    }\n",
       "</style>\n",
       "<table border=\"1\" class=\"dataframe\">\n",
       "  <thead>\n",
       "    <tr style=\"text-align: right;\">\n",
       "      <th></th>\n",
       "      <th>id</th>\n",
       "      <th>source</th>\n",
       "      <th>sentence_1</th>\n",
       "      <th>sentence_2</th>\n",
       "      <th>label</th>\n",
       "      <th>binary-label</th>\n",
       "      <th>abs_len_diff</th>\n",
       "      <th>len_diff</th>\n",
       "    </tr>\n",
       "  </thead>\n",
       "  <tbody>\n",
       "    <tr>\n",
       "      <th>0</th>\n",
       "      <td>boostcamp-sts-v1-train-000</td>\n",
       "      <td>nsmc-sampled</td>\n",
       "      <td>스릴도있고 반전도 있고 여느 한국영화 쓰레기들하고는 차원이 다르네요~</td>\n",
       "      <td>반전도 있고,사랑도 있고재미도있네요.</td>\n",
       "      <td>2.2</td>\n",
       "      <td>0.0</td>\n",
       "      <td>18.0</td>\n",
       "      <td>18.0</td>\n",
       "    </tr>\n",
       "    <tr>\n",
       "      <th>1</th>\n",
       "      <td>boostcamp-sts-v1-train-001</td>\n",
       "      <td>slack-rtt</td>\n",
       "      <td>앗 제가 접근권한이 없다고 뜹니다;;</td>\n",
       "      <td>오, 액세스 권한이 없다고 합니다.</td>\n",
       "      <td>4.2</td>\n",
       "      <td>1.0</td>\n",
       "      <td>1.0</td>\n",
       "      <td>1.0</td>\n",
       "    </tr>\n",
       "    <tr>\n",
       "      <th>2</th>\n",
       "      <td>boostcamp-sts-v1-train-002</td>\n",
       "      <td>petition-sampled</td>\n",
       "      <td>주택청약조건 변경해주세요.</td>\n",
       "      <td>주택청약 무주택기준 변경해주세요.</td>\n",
       "      <td>2.4</td>\n",
       "      <td>0.0</td>\n",
       "      <td>4.0</td>\n",
       "      <td>-4.0</td>\n",
       "    </tr>\n",
       "    <tr>\n",
       "      <th>3</th>\n",
       "      <td>boostcamp-sts-v1-train-003</td>\n",
       "      <td>slack-sampled</td>\n",
       "      <td>입사후 처음 대면으로 만나 반가웠습니다.</td>\n",
       "      <td>화상으로만 보다가 리얼로 만나니 정말 반가웠습니다.</td>\n",
       "      <td>3.0</td>\n",
       "      <td>1.0</td>\n",
       "      <td>6.0</td>\n",
       "      <td>-6.0</td>\n",
       "    </tr>\n",
       "    <tr>\n",
       "      <th>4</th>\n",
       "      <td>boostcamp-sts-v1-train-004</td>\n",
       "      <td>slack-sampled</td>\n",
       "      <td>뿌듯뿌듯 하네요!!</td>\n",
       "      <td>꼬옥 실제로 한번 뵈어요 뿌뿌뿌~!~!</td>\n",
       "      <td>0.0</td>\n",
       "      <td>0.0</td>\n",
       "      <td>11.0</td>\n",
       "      <td>-11.0</td>\n",
       "    </tr>\n",
       "  </tbody>\n",
       "</table>\n",
       "</div>"
      ],
      "text/plain": [
       "                           id            source  \\\n",
       "0  boostcamp-sts-v1-train-000      nsmc-sampled   \n",
       "1  boostcamp-sts-v1-train-001         slack-rtt   \n",
       "2  boostcamp-sts-v1-train-002  petition-sampled   \n",
       "3  boostcamp-sts-v1-train-003     slack-sampled   \n",
       "4  boostcamp-sts-v1-train-004     slack-sampled   \n",
       "\n",
       "                               sentence_1                    sentence_2  \\\n",
       "0  스릴도있고 반전도 있고 여느 한국영화 쓰레기들하고는 차원이 다르네요~          반전도 있고,사랑도 있고재미도있네요.   \n",
       "1                    앗 제가 접근권한이 없다고 뜹니다;;           오, 액세스 권한이 없다고 합니다.   \n",
       "2                          주택청약조건 변경해주세요.            주택청약 무주택기준 변경해주세요.   \n",
       "3                  입사후 처음 대면으로 만나 반가웠습니다.  화상으로만 보다가 리얼로 만나니 정말 반가웠습니다.   \n",
       "4                              뿌듯뿌듯 하네요!!         꼬옥 실제로 한번 뵈어요 뿌뿌뿌~!~!   \n",
       "\n",
       "   label  binary-label  abs_len_diff  len_diff  \n",
       "0    2.2           0.0          18.0      18.0  \n",
       "1    4.2           1.0           1.0       1.0  \n",
       "2    2.4           0.0           4.0      -4.0  \n",
       "3    3.0           1.0           6.0      -6.0  \n",
       "4    0.0           0.0          11.0     -11.0  "
      ]
     },
     "execution_count": 338,
     "metadata": {},
     "output_type": "execute_result"
    }
   ],
   "source": [
    "train_dev_df = pd.concat([train_df, dev_df], ignore_index=True)\n",
    "train_dev_df.head()"
   ]
  },
  {
   "cell_type": "code",
   "execution_count": 339,
   "id": "2d4dff1b-b5d6-4cac-a3fa-91019aeac9a5",
   "metadata": {},
   "outputs": [
    {
     "name": "stderr",
     "output_type": "stream",
     "text": [
      "C:\\Users\\user\\miniconda3\\Lib\\site-packages\\seaborn\\_oldcore.py:1119: FutureWarning: use_inf_as_na option is deprecated and will be removed in a future version. Convert inf values to NaN before operating instead.\n",
      "  with pd.option_context('mode.use_inf_as_na', True):\n"
     ]
    },
    {
     "data": {
      "image/png": "[encoded data removed]",
      "text/plain": [
       "<Figure size 800x400 with 1 Axes>"
      ]
     },
     "metadata": {},
     "output_type": "display_data"
    }
   ],
   "source": [
    "plt.figure(figsize=(8, 4))\n",
    "sns.histplot(train_dev_df['label'], bins=30)\n",
    "plt.title('Distribution of Similarity Scores')\n",
    "plt.xlabel('Label')\n",
    "plt.ylabel('Frequency')\n",
    "plt.show()"
   ]
  },
  {
   "cell_type": "code",
   "execution_count": 340,
   "id": "daf846da-28e9-4b96-89d5-9fcfba16c16f",
   "metadata": {},
   "outputs": [
    {
     "data": {
      "text/html": [
       "<div>\n",
       "<style scoped>\n",
       "    .dataframe tbody tr th:only-of-type {\n",
       "        vertical-align: middle;\n",
       "    }\n",
       "\n",
       "    .dataframe tbody tr th {\n",
       "        vertical-align: top;\n",
       "    }\n",
       "\n",
       "    .dataframe thead th {\n",
       "        text-align: right;\n",
       "    }\n",
       "</style>\n",
       "<table border=\"1\" class=\"dataframe\">\n",
       "  <thead>\n",
       "    <tr style=\"text-align: right;\">\n",
       "      <th></th>\n",
       "      <th>id</th>\n",
       "      <th>source</th>\n",
       "      <th>sentence_1</th>\n",
       "      <th>sentence_2</th>\n",
       "      <th>label</th>\n",
       "      <th>binary-label</th>\n",
       "      <th>abs_len_diff</th>\n",
       "      <th>len_diff</th>\n",
       "    </tr>\n",
       "  </thead>\n",
       "  <tbody>\n",
       "  </tbody>\n",
       "</table>\n",
       "</div>"
      ],
      "text/plain": [
       "Empty DataFrame\n",
       "Columns: [id, source, sentence_1, sentence_2, label, binary-label, abs_len_diff, len_diff]\n",
       "Index: []"
      ]
     },
     "execution_count": 340,
     "metadata": {},
     "output_type": "execute_result"
    }
   ],
   "source": [
    "train_dev_df[train_dev_df.duplicated([\"sentence_1\", \"sentence_2\"], keep = False)]"
   ]
  },
  {
   "cell_type": "code",
   "execution_count": 341,
   "id": "e59e9ac3-57d1-4942-a5d9-da8dfad081fb",
   "metadata": {},
   "outputs": [
    {
     "data": {
      "text/plain": [
       "2990"
      ]
     },
     "execution_count": 341,
     "metadata": {},
     "output_type": "execute_result"
    }
   ],
   "source": [
    "train_dev_df[(train_dev_df['label'] >= 0.0) & (train_dev_df['label'] < 0.5)].shape[0]"
   ]
  },
  {
   "cell_type": "code",
   "execution_count": 342,
   "id": "5fcd1541-a826-4138-bff7-03c3e5d6018c",
   "metadata": {},
   "outputs": [
    {
     "data": {
      "text/plain": [
       "809"
      ]
     },
     "execution_count": 342,
     "metadata": {},
     "output_type": "execute_result"
    }
   ],
   "source": [
    "train_dev_df[(train_dev_df['label'] >= 0.5) & (train_dev_df['label'] < 1.0)].shape[0]"
   ]
  },
  {
   "cell_type": "code",
   "execution_count": 343,
   "id": "9c35ff80-9959-486a-b91b-4794380af1ad",
   "metadata": {},
   "outputs": [
    {
     "data": {
      "text/plain": [
       "994"
      ]
     },
     "execution_count": 343,
     "metadata": {},
     "output_type": "execute_result"
    }
   ],
   "source": [
    "train_dev_df[(train_dev_df['label'] >= 1.0) & (train_dev_df['label'] < 1.5)].shape[0]"
   ]
  },
  {
   "cell_type": "code",
   "execution_count": 344,
   "id": "c71bfc3b-7f9f-4e86-a476-4917026ae790",
   "metadata": {},
   "outputs": [
    {
     "data": {
      "text/plain": [
       "484"
      ]
     },
     "execution_count": 344,
     "metadata": {},
     "output_type": "execute_result"
    }
   ],
   "source": [
    "train_dev_df[(train_dev_df['label'] >= 1.5) & (train_dev_df['label'] < 2.0)].shape[0]"
   ]
  },
  {
   "cell_type": "code",
   "execution_count": 345,
   "id": "f6f47f6b-34ef-401d-aeca-1bde9a918b7e",
   "metadata": {},
   "outputs": [
    {
     "data": {
      "text/plain": [
       "679"
      ]
     },
     "execution_count": 345,
     "metadata": {},
     "output_type": "execute_result"
    }
   ],
   "source": [
    "train_dev_df[(train_dev_df['label'] >= 2.0) & (train_dev_df['label'] < 2.5)].shape[0]"
   ]
  },
  {
   "cell_type": "code",
   "execution_count": 346,
   "id": "18d135d8-7f8f-4938-9989-a03ccaf0c6e6",
   "metadata": {},
   "outputs": [
    {
     "data": {
      "text/plain": [
       "568"
      ]
     },
     "execution_count": 346,
     "metadata": {},
     "output_type": "execute_result"
    }
   ],
   "source": [
    "train_dev_df[(train_dev_df['label'] >= 2.5) & (train_dev_df['label'] < 3.0)].shape[0]"
   ]
  },
  {
   "cell_type": "code",
   "execution_count": 347,
   "id": "fbe4a472-8077-4529-8453-ba188a8b0155",
   "metadata": {},
   "outputs": [
    {
     "data": {
      "text/plain": [
       "898"
      ]
     },
     "execution_count": 347,
     "metadata": {},
     "output_type": "execute_result"
    }
   ],
   "source": [
    "train_dev_df[(train_dev_df['label'] >= 3.0) & (train_dev_df['label'] < 3.5)].shape[0]"
   ]
  },
  {
   "cell_type": "code",
   "execution_count": 348,
   "id": "3bd24d3d-04cb-4f84-bef0-f17062fabfdf",
   "metadata": {},
   "outputs": [
    {
     "data": {
      "text/plain": [
       "927"
      ]
     },
     "execution_count": 348,
     "metadata": {},
     "output_type": "execute_result"
    }
   ],
   "source": [
    "train_dev_df[(train_dev_df['label'] >= 3.5) & (train_dev_df['label'] < 4.0)].shape[0]"
   ]
  },
  {
   "cell_type": "code",
   "execution_count": 349,
   "id": "17e4ac54-6901-4513-b16e-2937cfed8c93",
   "metadata": {},
   "outputs": [
    {
     "data": {
      "text/plain": [
       "1217"
      ]
     },
     "execution_count": 349,
     "metadata": {},
     "output_type": "execute_result"
    }
   ],
   "source": [
    "train_dev_df[(train_dev_df['label'] >= 4.0) & (train_dev_df['label'] < 4.5)].shape[0]"
   ]
  },
  {
   "cell_type": "code",
   "execution_count": 350,
   "id": "8e2040d5-6516-4564-a793-c5b8bd062667",
   "metadata": {},
   "outputs": [
    {
     "data": {
      "text/plain": [
       "308"
      ]
     },
     "execution_count": 350,
     "metadata": {},
     "output_type": "execute_result"
    }
   ],
   "source": [
    "train_dev_df[(train_dev_df['label'] >= 4.5)].shape[0]"
   ]
  },
  {
   "cell_type": "code",
   "execution_count": 351,
   "id": "3b88811e-38b7-4f1f-a0e7-1ebf430ed175",
   "metadata": {},
   "outputs": [
    {
     "data": {
      "text/plain": [
       "2140"
      ]
     },
     "execution_count": 351,
     "metadata": {},
     "output_type": "execute_result"
    }
   ],
   "source": [
    "train_dev_df[(train_dev_df['label'] == 0)].shape[0]"
   ]
  },
  {
   "cell_type": "code",
   "execution_count": 352,
   "id": "28d6c32e-3629-4384-83cf-d451c5a1bc97",
   "metadata": {},
   "outputs": [
    {
     "data": {
      "text/plain": [
       "364"
      ]
     },
     "execution_count": 352,
     "metadata": {},
     "output_type": "execute_result"
    }
   ],
   "source": [
    "train_dev_df[(train_dev_df['label'] == 1)].shape[0]"
   ]
  },
  {
   "cell_type": "code",
   "execution_count": 353,
   "id": "71215cd4-3094-4509-984c-7afa6a97555f",
   "metadata": {},
   "outputs": [
    {
     "data": {
      "text/plain": [
       "258"
      ]
     },
     "execution_count": 353,
     "metadata": {},
     "output_type": "execute_result"
    }
   ],
   "source": [
    "train_dev_df[(train_dev_df['label'] == 2)].shape[0]"
   ]
  },
  {
   "cell_type": "code",
   "execution_count": 354,
   "id": "169554c7-49a8-42d4-8164-b4be47793f6d",
   "metadata": {},
   "outputs": [
    {
     "data": {
      "text/plain": [
       "305"
      ]
     },
     "execution_count": 354,
     "metadata": {},
     "output_type": "execute_result"
    }
   ],
   "source": [
    "train_dev_df[(train_dev_df['label'] == 3)].shape[0]"
   ]
  },
  {
   "cell_type": "code",
   "execution_count": 355,
   "id": "0f252d82-3f19-4cfd-8c88-db559ca6449e",
   "metadata": {},
   "outputs": [
    {
     "data": {
      "text/plain": [
       "538"
      ]
     },
     "execution_count": 355,
     "metadata": {},
     "output_type": "execute_result"
    }
   ],
   "source": [
    "train_dev_df[(train_dev_df['label'] == 4)].shape[0]"
   ]
  },
  {
   "cell_type": "code",
   "execution_count": 356,
   "id": "e0c4896d-86a6-409d-8af2-fe1a928a1b53",
   "metadata": {},
   "outputs": [
    {
     "data": {
      "text/plain": [
       "113"
      ]
     },
     "execution_count": 356,
     "metadata": {},
     "output_type": "execute_result"
    }
   ],
   "source": [
    "train_dev_df[(train_dev_df['label'] == 5)].shape[0]"
   ]
  },
  {
   "cell_type": "code",
   "execution_count": 6,
   "id": "cc6927eb-83b9-464e-9cbf-525f80b538bc",
   "metadata": {},
   "outputs": [],
   "source": [
    "label5_df = train_df[train_df[\"label\"] == 5.0]"
   ]
  },
  {
   "cell_type": "code",
   "execution_count": 7,
   "id": "5da99ae1-c089-4aed-9804-cb820f8332b6",
   "metadata": {},
   "outputs": [],
   "source": [
    "label5_df.to_csv(\"label5.csv\", index=False)"
   ]
  },
  {
   "cell_type": "code",
   "execution_count": null,
   "id": "28404360-fe4c-4297-b7ab-75d07e358bd9",
   "metadata": {},
   "outputs": [],
   "source": []
  }
 ],
 "metadata": {
  "kernelspec": {
   "display_name": "Python 3 (ipykernel)",
   "language": "python",
   "name": "python3"
  },
  "language_info": {
   "codemirror_mode": {
    "name": "ipython",
    "version": 3
   },
   "file_extension": ".py",
   "mimetype": "text/x-python",
   "name": "python",
   "nbconvert_exporter": "python",
   "pygments_lexer": "ipython3",
   "version": "3.11.5"
  }
 },
 "nbformat": 4,
 "nbformat_minor": 5
}
