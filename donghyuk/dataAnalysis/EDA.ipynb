{
 "cells": [
  {
   "cell_type": "markdown",
   "metadata": {},
   "source": [
    "# 순서\n",
    "1. 데이터 로드\n",
    "2. 데이터 탐색\n",
    "3. 데이터 분석\n",
    "4. 데이토 인사이트 정리"
   ]
  },
  {
   "cell_type": "markdown",
   "metadata": {},
   "source": [
    "## 1.데이터 로드\n"
   ]
  },
  {
   "cell_type": "code",
   "execution_count": 2,
   "metadata": {},
   "outputs": [],
   "source": [
    "import pandas as pd\n",
    "import os"
   ]
  },
  {
   "cell_type": "code",
   "execution_count": 3,
   "metadata": {},
   "outputs": [],
   "source": [
    "common_path = \"/data/ephemeral/home/donghyuk/data\"\n",
    "\n",
    "#경로내 모든 파일 이름 가져오기 : 리스트\n",
    "files  = os.listdir(common_path)\n",
    "\n",
    "\n"
   ]
  },
  {
   "cell_type": "code",
   "execution_count": 4,
   "metadata": {},
   "outputs": [
    {
     "name": "stdout",
     "output_type": "stream",
     "text": [
      "['._train.csv', 'dev.csv', 'sample_submission_550.csv', 'train2.csv', 'SR_train_2.csv', 'sample_submission.csv', 'test.csv', '._dev.csv', 'train14.csv', 'valid_dropped_label.csv', '._test.csv', '._sample_submission.csv', 'train.csv', 'downRaw.py', 'train3.csv', 'train_even.csv']\n"
     ]
    }
   ],
   "source": [
    "print(files)"
   ]
  },
  {
   "cell_type": "code",
   "execution_count": 5,
   "metadata": {},
   "outputs": [],
   "source": [
    "#데이터 준비\n",
    "all_raw_pd_list = ['train_pd', 'dev_pd', 'test_pd', 'sample_submission_pd'] \n",
    "\n",
    "train_pd = pd.read_csv(common_path + '/train.csv')\n",
    "dev_pd = pd.read_csv(common_path + '/dev.csv')\n",
    "test_pd = pd.read_csv(common_path + '/test.csv')\n",
    "sample_submission_pd = pd.read_csv(common_path + '/sample_submission.csv')"
   ]
  },
  {
   "cell_type": "markdown",
   "metadata": {},
   "source": [
    "## 2. 데이터 탐색"
   ]
  },
  {
   "cell_type": "markdown",
   "metadata": {},
   "source": [
    "2.1 데이터 품질 (결측치, 구조파악 ,중복데이터)\n",
    "    \n",
    "    * 결측치 : 모든 파일 없음\n",
    "   \n",
    "    * 중복(행) : train, dev, test 전부 없음\n",
    "    "
   ]
  },
  {
   "cell_type": "code",
   "execution_count": 6,
   "metadata": {},
   "outputs": [
    {
     "name": "stdout",
     "output_type": "stream",
     "text": [
      "train_pd :  id              0\n",
      "source          0\n",
      "sentence_1      0\n",
      "sentence_2      0\n",
      "label           0\n",
      "binary-label    0\n",
      "dtype: int64\n",
      "\n",
      "dev_pd :  id              0\n",
      "source          0\n",
      "sentence_1      0\n",
      "sentence_2      0\n",
      "label           0\n",
      "binary-label    0\n",
      "dtype: int64\n",
      "\n",
      "test_pd :  id            0\n",
      "source        0\n",
      "sentence_1    0\n",
      "sentence_2    0\n",
      "dtype: int64\n",
      "\n",
      "sample_submission_pd :  id        0\n",
      "target    0\n",
      "dtype: int64\n",
      "\n"
     ]
    }
   ],
   "source": [
    "#결측치 확인\n",
    "for pd in all_raw_pd_list :\n",
    "    print(f\"{pd} : \", globals()[pd].isna().sum())\n",
    "    print(\"\")"
   ]
  },
  {
   "cell_type": "code",
   "execution_count": 7,
   "metadata": {},
   "outputs": [
    {
     "name": "stdout",
     "output_type": "stream",
     "text": [
      "<class 'pandas.core.frame.DataFrame'>\n",
      "RangeIndex: 9324 entries, 0 to 9323\n",
      "Data columns (total 6 columns):\n",
      " #   Column        Non-Null Count  Dtype  \n",
      "---  ------        --------------  -----  \n",
      " 0   id            9324 non-null   object \n",
      " 1   source        9324 non-null   object \n",
      " 2   sentence_1    9324 non-null   object \n",
      " 3   sentence_2    9324 non-null   object \n",
      " 4   label         9324 non-null   float64\n",
      " 5   binary-label  9324 non-null   float64\n",
      "dtypes: float64(2), object(4)\n",
      "memory usage: 437.2+ KB\n",
      "None\n",
      "\n",
      "<class 'pandas.core.frame.DataFrame'>\n",
      "RangeIndex: 550 entries, 0 to 549\n",
      "Data columns (total 6 columns):\n",
      " #   Column        Non-Null Count  Dtype  \n",
      "---  ------        --------------  -----  \n",
      " 0   id            550 non-null    object \n",
      " 1   source        550 non-null    object \n",
      " 2   sentence_1    550 non-null    object \n",
      " 3   sentence_2    550 non-null    object \n",
      " 4   label         550 non-null    float64\n",
      " 5   binary-label  550 non-null    float64\n",
      "dtypes: float64(2), object(4)\n",
      "memory usage: 25.9+ KB\n",
      "None\n"
     ]
    },
    {
     "data": {
      "text/plain": [
       "'\\n\\ndev 데이터 양이 전체의 5.9%정도로 너무 적다.\\n최소 10%는 필요\\n\\n방법 1. 데이터 argumentation : dev의 데이터 양을 늘리기\\n    데이터 품질 문제 조심\\n방법 2. 크로스 검증 :  train과 dev 합쳐 버리기\\n\\n'"
      ]
     },
     "execution_count": 7,
     "metadata": {},
     "output_type": "execute_result"
    }
   ],
   "source": [
    "#정보 확인(구조파악악)\n",
    "print(train_pd.info())\n",
    "print()\n",
    "print(dev_pd.info())\n",
    "\n",
    "'''\n",
    "\n",
    "dev 데이터 양이 전체의 5.9%정도로 너무 적다.\n",
    "최소 10%는 필요\n",
    "\n",
    "방법 1. 데이터 argumentation : dev의 데이터 양을 늘리기\n",
    "    데이터 품질 문제 조심\n",
    "방법 2. 크로스 검증 :  train과 dev 합쳐 버리기\n",
    "\n",
    "'''\n"
   ]
  },
  {
   "cell_type": "code",
   "execution_count": 9,
   "metadata": {},
   "outputs": [
    {
     "name": "stdout",
     "output_type": "stream",
     "text": [
      "<class 'pandas.core.frame.DataFrame'>\n",
      "RangeIndex: 1100 entries, 0 to 1099\n",
      "Data columns (total 4 columns):\n",
      " #   Column      Non-Null Count  Dtype \n",
      "---  ------      --------------  ----- \n",
      " 0   id          1100 non-null   object\n",
      " 1   source      1100 non-null   object\n",
      " 2   sentence_1  1100 non-null   object\n",
      " 3   sentence_2  1100 non-null   object\n",
      "dtypes: object(4)\n",
      "memory usage: 34.5+ KB\n",
      "None\n",
      "\n",
      "<class 'pandas.core.frame.DataFrame'>\n",
      "RangeIndex: 1100 entries, 0 to 1099\n",
      "Data columns (total 2 columns):\n",
      " #   Column  Non-Null Count  Dtype  \n",
      "---  ------  --------------  -----  \n",
      " 0   id      1100 non-null   object \n",
      " 1   target  1100 non-null   float64\n",
      "dtypes: float64(1), object(1)\n",
      "memory usage: 17.3+ KB\n",
      "None\n"
     ]
    }
   ],
   "source": [
    "print(test_pd.info())\n",
    "print()\n",
    "print(sample_submission_pd.info())"
   ]
  },
  {
   "cell_type": "code",
   "execution_count": 11,
   "metadata": {},
   "outputs": [
    {
     "ename": "AttributeError",
     "evalue": "'str' object has no attribute 'concat'",
     "output_type": "error",
     "traceback": [
      "\u001b[0;31m---------------------------------------------------------------------------\u001b[0m",
      "\u001b[0;31mAttributeError\u001b[0m                            Traceback (most recent call last)",
      "Cell \u001b[0;32mIn[11], line 2\u001b[0m\n\u001b[1;32m      1\u001b[0m \u001b[38;5;66;03m#중복 데이터 확인\u001b[39;00m\n\u001b[0;32m----> 2\u001b[0m train_dev_df \u001b[38;5;241m=\u001b[39m \u001b[43mpd\u001b[49m\u001b[38;5;241;43m.\u001b[39;49m\u001b[43mconcat\u001b[49m([train_pd, dev_pd], ignore_index\u001b[38;5;241m=\u001b[39m\u001b[38;5;28;01mTrue\u001b[39;00m)\n\u001b[1;32m      3\u001b[0m train_dev_df_r \u001b[38;5;241m=\u001b[39m train_dev_df\u001b[38;5;241m.\u001b[39mdrop(columns\u001b[38;5;241m=\u001b[39m[\u001b[38;5;124m'\u001b[39m\u001b[38;5;124mid\u001b[39m\u001b[38;5;124m'\u001b[39m])\n\u001b[1;32m      5\u001b[0m test_r \u001b[38;5;241m=\u001b[39m test_pd\u001b[38;5;241m.\u001b[39mdrop(columns\u001b[38;5;241m=\u001b[39m[\u001b[38;5;124m'\u001b[39m\u001b[38;5;124mid\u001b[39m\u001b[38;5;124m'\u001b[39m])\n",
      "\u001b[0;31mAttributeError\u001b[0m: 'str' object has no attribute 'concat'"
     ]
    }
   ],
   "source": [
    "#중복 데이터 확인\n",
    "train_dev_df = pd.concat([train_pd, dev_pd], ignore_index=True)\n",
    "train_dev_df_r = train_dev_df.drop(columns=['id'])\n",
    "\n",
    "test_r = test_pd.drop(columns=['id'])"
   ]
  },
  {
   "cell_type": "code",
   "execution_count": 12,
   "metadata": {},
   "outputs": [
    {
     "ename": "NameError",
     "evalue": "name 'train_dev_df_r' is not defined",
     "output_type": "error",
     "traceback": [
      "\u001b[0;31m---------------------------------------------------------------------------\u001b[0m",
      "\u001b[0;31mNameError\u001b[0m                                 Traceback (most recent call last)",
      "Cell \u001b[0;32mIn[12], line 2\u001b[0m\n\u001b[1;32m      1\u001b[0m \u001b[38;5;66;03m# 중복된 행 찾기 -train + dev\u001b[39;00m\n\u001b[0;32m----> 2\u001b[0m duplicate_rows \u001b[38;5;241m=\u001b[39m \u001b[43mtrain_dev_df_r\u001b[49m[train_dev_df_r\u001b[38;5;241m.\u001b[39mduplicated()]\n\u001b[1;32m      3\u001b[0m \u001b[38;5;66;03m# 중복된 행 출력\u001b[39;00m\n\u001b[1;32m      4\u001b[0m \u001b[38;5;28mprint\u001b[39m(\u001b[38;5;124m\"\u001b[39m\u001b[38;5;124m중복된 행:\u001b[39m\u001b[38;5;124m\"\u001b[39m)\n",
      "\u001b[0;31mNameError\u001b[0m: name 'train_dev_df_r' is not defined"
     ]
    }
   ],
   "source": [
    "# 중복된 행 찾기 -train + dev\n",
    "duplicate_rows = train_dev_df_r[train_dev_df_r.duplicated()]\n",
    "# 중복된 행 출력\n",
    "print(\"중복된 행:\")\n",
    "print(duplicate_rows)\n",
    "print()\n",
    "# 중복된 행 개수 출력\n",
    "print(f\"중복된 행의 개수: {duplicate_rows.shape[0]}\")\n",
    "\n",
    "print()\n",
    "print()\n",
    "print()\n",
    "\n",
    "# 중복된 행 찾기 -test\n",
    "duplicate_rows = test_r[test_r.duplicated()]\n",
    "# 중복된 행 출력\n",
    "print(\"중복된 행:\")\n",
    "print(duplicate_rows)\n",
    "print()\n",
    "# 중복된 행 개수 출력\n",
    "print(f\"중복된 행의 개수: {duplicate_rows.shape[0]}\")\n"
   ]
  },
  {
   "cell_type": "markdown",
   "metadata": {},
   "source": [
    "2.2 데이터의 분포 (source, label, binary-label) - 불균형 확인"
   ]
  },
  {
   "cell_type": "code",
   "execution_count": 13,
   "metadata": {},
   "outputs": [
    {
     "ename": "NameError",
     "evalue": "name 'train_dev_df' is not defined",
     "output_type": "error",
     "traceback": [
      "\u001b[0;31m---------------------------------------------------------------------------\u001b[0m",
      "\u001b[0;31mNameError\u001b[0m                                 Traceback (most recent call last)",
      "Cell \u001b[0;32mIn[13], line 3\u001b[0m\n\u001b[1;32m      1\u001b[0m \u001b[38;5;66;03m# 커럼별확인 - source\u001b[39;00m\n\u001b[1;32m      2\u001b[0m \u001b[38;5;66;03m#train + dev\u001b[39;00m\n\u001b[0;32m----> 3\u001b[0m train_dev_df_source \u001b[38;5;241m=\u001b[39m \u001b[43mtrain_dev_df\u001b[49m[\u001b[38;5;124m'\u001b[39m\u001b[38;5;124msource\u001b[39m\u001b[38;5;124m'\u001b[39m]\u001b[38;5;241m.\u001b[39mvalue_counts()\n\u001b[1;32m      4\u001b[0m train_dev_df_percentage \u001b[38;5;241m=\u001b[39m train_dev_df[\u001b[38;5;124m'\u001b[39m\u001b[38;5;124msource\u001b[39m\u001b[38;5;124m'\u001b[39m]\u001b[38;5;241m.\u001b[39mvalue_counts(normalize\u001b[38;5;241m=\u001b[39m\u001b[38;5;28;01mTrue\u001b[39;00m) \u001b[38;5;241m*\u001b[39m \u001b[38;5;241m100\u001b[39m\n\u001b[1;32m      7\u001b[0m \u001b[38;5;28mprint\u001b[39m(\u001b[38;5;124m\"\u001b[39m\u001b[38;5;124m각 항목의 개수:\u001b[39m\u001b[38;5;124m\"\u001b[39m)\n",
      "\u001b[0;31mNameError\u001b[0m: name 'train_dev_df' is not defined"
     ]
    }
   ],
   "source": [
    "# 커럼별확인 - source\n",
    "#train + dev\n",
    "train_dev_df_source = train_dev_df['source'].value_counts()\n",
    "train_dev_df_percentage = train_dev_df['source'].value_counts(normalize=True) * 100\n",
    "\n",
    "\n",
    "print(\"각 항목의 개수:\")\n",
    "print(train_dev_df_source)\n",
    "print(\"\\n각 항목의 비율 (%):\")\n",
    "print(train_dev_df_percentage)\n",
    "\n",
    "\n",
    "\n",
    "'''\n",
    "sampled : 71.1\n",
    "rtt : 28.7\n",
    "\n",
    "\n",
    "s : r = 7 : 3 \n",
    "\n",
    "'''\n"
   ]
  },
  {
   "cell_type": "code",
   "execution_count": 14,
   "metadata": {},
   "outputs": [
    {
     "name": "stdout",
     "output_type": "stream",
     "text": [
      "각 항목의 개수:\n",
      "source\n",
      "petition-sampled    2352\n",
      "nsmc-sampled        2296\n",
      "slack-sampled       2024\n",
      "slack-rtt           1047\n",
      "petition-rtt         817\n",
      "nsmc-rtt             788\n",
      "Name: count, dtype: int64\n",
      "\n",
      "각 항목의 비율 (%):\n",
      "source\n",
      "petition-sampled    25.225225\n",
      "nsmc-sampled        24.624625\n",
      "slack-sampled       21.707422\n",
      "slack-rtt           11.229086\n",
      "petition-rtt         8.762334\n",
      "nsmc-rtt             8.451308\n",
      "Name: proportion, dtype: float64\n"
     ]
    },
    {
     "data": {
      "text/plain": [
       "'\\n\\n7 : 3\\n\\n'"
      ]
     },
     "execution_count": 14,
     "metadata": {},
     "output_type": "execute_result"
    }
   ],
   "source": [
    "# 커럼별확인 - source\n",
    "#train\n",
    "train_source = train_pd['source'].value_counts()\n",
    "train_source_percentage = train_pd['source'].value_counts(normalize=True) * 100\n",
    "\n",
    "\n",
    "print(\"각 항목의 개수:\")\n",
    "print(train_source)\n",
    "print(\"\\n각 항목의 비율 (%):\")\n",
    "print(train_source_percentage)\n",
    "\n",
    "\n",
    "'''\n",
    "\n",
    "7 : 3\n",
    "\n",
    "'''\n"
   ]
  },
  {
   "cell_type": "code",
   "execution_count": 15,
   "metadata": {},
   "outputs": [
    {
     "name": "stdout",
     "output_type": "stream",
     "text": [
      "각 항목의 개수:\n",
      "source\n",
      "nsmc-sampled        127\n",
      "petition-sampled    127\n",
      "slack-sampled        99\n",
      "slack-rtt            84\n",
      "petition-rtt         65\n",
      "nsmc-rtt             48\n",
      "Name: count, dtype: int64\n",
      "\n",
      "각 항목의 비율 (%):\n",
      "source\n",
      "nsmc-sampled        23.090909\n",
      "petition-sampled    23.090909\n",
      "slack-sampled       18.000000\n",
      "slack-rtt           15.272727\n",
      "petition-rtt        11.818182\n",
      "nsmc-rtt             8.727273\n",
      "Name: proportion, dtype: float64\n"
     ]
    },
    {
     "data": {
      "text/plain": [
       "'\\n\\n\\n6 : 4\\n\\n\\n\\n'"
      ]
     },
     "execution_count": 15,
     "metadata": {},
     "output_type": "execute_result"
    }
   ],
   "source": [
    "# 커럼별확인 - source\n",
    "#dev\n",
    "dev_source = dev_pd['source'].value_counts()\n",
    "dev_source_percentage = dev_pd['source'].value_counts(normalize=True) * 100\n",
    "\n",
    "\n",
    "print(\"각 항목의 개수:\")\n",
    "print(dev_source)\n",
    "print(\"\\n각 항목의 비율 (%):\")\n",
    "print(dev_source_percentage)\n",
    "\n",
    "\n",
    "'''\n",
    "\n",
    "\n",
    "6 : 4\n",
    "\n",
    "\n",
    "\n",
    "'''"
   ]
  },
  {
   "cell_type": "code",
   "execution_count": null,
   "metadata": {},
   "outputs": [],
   "source": [
    "#========================================================="
   ]
  },
  {
   "cell_type": "code",
   "execution_count": 16,
   "metadata": {},
   "outputs": [
    {
     "ename": "NameError",
     "evalue": "name 'train_dev_df' is not defined",
     "output_type": "error",
     "traceback": [
      "\u001b[0;31m---------------------------------------------------------------------------\u001b[0m",
      "\u001b[0;31mNameError\u001b[0m                                 Traceback (most recent call last)",
      "Cell \u001b[0;32mIn[16], line 9\u001b[0m\n\u001b[1;32m      5\u001b[0m bins \u001b[38;5;241m=\u001b[39m [\u001b[38;5;241m0.0\u001b[39m, \u001b[38;5;241m0.5\u001b[39m , \u001b[38;5;241m1.5\u001b[39m, \u001b[38;5;241m2.5\u001b[39m, \u001b[38;5;241m3.5\u001b[39m,  \u001b[38;5;241m4.5\u001b[39m, \u001b[38;5;241m5.0\u001b[39m]\n\u001b[1;32m      6\u001b[0m labels \u001b[38;5;241m=\u001b[39m [\u001b[38;5;124m'\u001b[39m\u001b[38;5;124m0.0-0.5\u001b[39m\u001b[38;5;124m'\u001b[39m, \u001b[38;5;124m'\u001b[39m\u001b[38;5;124m0.5-1.5\u001b[39m\u001b[38;5;124m'\u001b[39m, \u001b[38;5;124m'\u001b[39m\u001b[38;5;124m1.5-2.5\u001b[39m\u001b[38;5;124m'\u001b[39m,  \u001b[38;5;124m'\u001b[39m\u001b[38;5;124m2.5-3.5\u001b[39m\u001b[38;5;124m'\u001b[39m,  \u001b[38;5;124m'\u001b[39m\u001b[38;5;124m3.5-4.5\u001b[39m\u001b[38;5;124m'\u001b[39m,  \u001b[38;5;124m'\u001b[39m\u001b[38;5;124m4.5-5.0\u001b[39m\u001b[38;5;124m'\u001b[39m]\n\u001b[0;32m----> 9\u001b[0m tr_val \u001b[38;5;241m=\u001b[39m \u001b[43mtrain_dev_df\u001b[49m[\u001b[38;5;124m'\u001b[39m\u001b[38;5;124mlabel\u001b[39m\u001b[38;5;124m'\u001b[39m]\n\u001b[1;32m     10\u001b[0m tr_val[\u001b[38;5;124m'\u001b[39m\u001b[38;5;124mrange\u001b[39m\u001b[38;5;124m'\u001b[39m] \u001b[38;5;241m=\u001b[39m pd\u001b[38;5;241m.\u001b[39mcut(train_dev_df[\u001b[38;5;124m'\u001b[39m\u001b[38;5;124mlabel\u001b[39m\u001b[38;5;124m'\u001b[39m], bins\u001b[38;5;241m=\u001b[39mbins, labels\u001b[38;5;241m=\u001b[39mlabels, right\u001b[38;5;241m=\u001b[39m\u001b[38;5;28;01mFalse\u001b[39;00m)\n\u001b[1;32m     14\u001b[0m train_dev_df_label \u001b[38;5;241m=\u001b[39m tr_val[\u001b[38;5;124m'\u001b[39m\u001b[38;5;124mrange\u001b[39m\u001b[38;5;124m'\u001b[39m]\u001b[38;5;241m.\u001b[39mvalue_counts()\u001b[38;5;241m.\u001b[39msort_index()\n",
      "\u001b[0;31mNameError\u001b[0m: name 'train_dev_df' is not defined"
     ]
    }
   ],
   "source": [
    "# 커럼별확인 - label\n",
    "#train + dev\n",
    "\n",
    "\n",
    "bins = [0.0, 0.5 , 1.5, 2.5, 3.5,  4.5, 5.0]\n",
    "labels = ['0.0-0.5', '0.5-1.5', '1.5-2.5',  '2.5-3.5',  '3.5-4.5',  '4.5-5.0']\n",
    "\n",
    "\n",
    "tr_val = train_dev_df['label']\n",
    "tr_val['range'] = pd.cut(train_dev_df['label'], bins=bins, labels=labels, right=False)\n",
    "\n",
    "\n",
    "\n",
    "train_dev_df_label = tr_val['range'].value_counts().sort_index()\n",
    "train_dev_df_percentage = tr_val['range'].value_counts(normalize=True).sort_index() * 100\n",
    "\n",
    "\n",
    "\n",
    "print(\"각 항목의 개수:\")\n",
    "print(train_dev_df_label)\n",
    "print(\"\\n각 항목의 비율 (%):\")\n",
    "print(train_dev_df_percentage)\n",
    "\n"
   ]
  },
  {
   "cell_type": "code",
   "execution_count": 87,
   "metadata": {},
   "outputs": [
    {
     "name": "stdout",
     "output_type": "stream",
     "text": [
      "각 항목의 개수:\n",
      "label\n",
      "0.0-0.5    2990\n",
      "0.5-1.5    1803\n",
      "1.5-2.5    1163\n",
      "2.5-3.5    1466\n",
      "3.5-4.5    2144\n",
      "4.5-5.0     195\n",
      "Name: count, dtype: int64\n",
      "\n",
      "각 항목의 비율 (%):\n",
      "label\n",
      "0.0-0.5    31.907289\n",
      "0.5-1.5    18.336402\n",
      "1.5-2.5    11.404744\n",
      "2.5-3.5    14.686451\n",
      "3.5-4.5    22.029676\n",
      "4.5-5.0     1.635438\n",
      "Name: proportion, dtype: float64\n"
     ]
    },
    {
     "name": "stderr",
     "output_type": "stream",
     "text": [
      "/tmp/ipykernel_507624/2637418024.py:10: SettingWithCopyWarning: \n",
      "A value is trying to be set on a copy of a slice from a DataFrame\n",
      "\n",
      "See the caveats in the documentation: https://pandas.pydata.org/pandas-docs/stable/user_guide/indexing.html#returning-a-view-versus-a-copy\n",
      "  tr['range'] = pd.cut(train_pd['label'], bins=bins, labels=labels, right=False)\n"
     ]
    }
   ],
   "source": [
    "# 커럼별확인 - label\n",
    "#train \n",
    "\n",
    "\n",
    "bins = [0.0, 0.5 , 1.5, 2.5, 3.5,  4.5, 5.0]\n",
    "labels = ['0.0-0.5', '0.5-1.5', '1.5-2.5',  '2.5-3.5',  '3.5-4.5',  '4.5-5.0']\n",
    "\n",
    "\n",
    "tr = train_pd['label']\n",
    "tr['range'] = pd.cut(train_pd['label'], bins=bins, labels=labels, right=False)\n",
    "\n",
    "\n",
    "\n",
    "train_label = tr['range'].value_counts().sort_index()\n",
    "train__percentage = tr['range'].value_counts(normalize=True).sort_index() * 100\n",
    "\n",
    "\n",
    "\n",
    "print(\"각 항목의 개수:\")\n",
    "print(train_dev_df_label)\n",
    "print(\"\\n각 항목의 비율 (%):\")\n",
    "print(train__percentage)"
   ]
  },
  {
   "cell_type": "code",
   "execution_count": 71,
   "metadata": {},
   "outputs": [
    {
     "name": "stdout",
     "output_type": "stream",
     "text": [
      "각 항목의 개수:\n",
      "label\n",
      "0.0-0.5     44\n",
      "0.5-1.5    110\n",
      "1.5-2.5    110\n",
      "2.5-3.5    110\n",
      "3.5-4.5    110\n",
      "4.5-5.0     44\n",
      "Name: count, dtype: int64\n",
      "\n",
      "각 항목의 비율 (%):\n",
      "label\n",
      "0.0-0.5     8.333333\n",
      "0.5-1.5    20.833333\n",
      "1.5-2.5    20.833333\n",
      "2.5-3.5    20.833333\n",
      "3.5-4.5    20.833333\n",
      "4.5-5.0     8.333333\n",
      "Name: proportion, dtype: float64\n"
     ]
    },
    {
     "name": "stderr",
     "output_type": "stream",
     "text": [
      "/tmp/ipykernel_507624/2360650528.py:9: SettingWithCopyWarning: \n",
      "A value is trying to be set on a copy of a slice from a DataFrame\n",
      "\n",
      "See the caveats in the documentation: https://pandas.pydata.org/pandas-docs/stable/user_guide/indexing.html#returning-a-view-versus-a-copy\n",
      "  val['range'] = pd.cut(dev_pd['label'], bins=bins, labels=labels, right=False)\n"
     ]
    }
   ],
   "source": [
    "# 커럼별확인 - label\n",
    "#val\n",
    "\n",
    "bins = [0.0, 0.5 , 1.5, 2.5, 3.5,  4.5, 5.0]\n",
    "labels = ['0.0-0.5', '0.5-1.5', '1.5-2.5',  '2.5-3.5',  '3.5-4.5',  '4.5-5.0']\n",
    "\n",
    "\n",
    "val = dev_pd['label']\n",
    "val['range'] = pd.cut(dev_pd['label'], bins=bins, labels=labels, right=False)\n",
    "\n",
    "\n",
    "\n",
    "val_label = val['range'].value_counts().sort_index()\n",
    "val__percentage = val['range'].value_counts(normalize=True).sort_index() * 100\n",
    "\n",
    "\n",
    "\n",
    "print(\"각 항목의 개수:\")\n",
    "print(val_label)\n",
    "print(\"\\n각 항목의 비율 (%):\")\n",
    "print(val__percentage)"
   ]
  },
  {
   "cell_type": "code",
   "execution_count": 88,
   "metadata": {},
   "outputs": [
    {
     "name": "stdout",
     "output_type": "stream",
     "text": [
      "\n",
      "각 항목의 비율 (%):\n",
      "range               0.0-0.5    0.5-1.5    1.5-2.5    2.5-3.5    3.5-4.5  \\\n",
      "source                                                                    \n",
      "nsmc-rtt           3.846154   4.230769  10.000000  23.974359  56.025641   \n",
      "nsmc-sampled      35.471204  27.181501  15.488656  13.961606   7.460733   \n",
      "petition-rtt       2.414231   3.939009   7.623888  18.551461  58.322745   \n",
      "petition-sampled  40.181269  22.011221  11.998274  12.602503  12.257229   \n",
      "slack-rtt          2.687140   4.894434   8.637236  23.416507  58.061420   \n",
      "slack-sampled     55.831266  22.084367   9.528536   8.287841   3.870968   \n",
      "\n",
      "range              4.5-5.0  \n",
      "source                      \n",
      "nsmc-rtt          1.923077  \n",
      "nsmc-sampled      0.436300  \n",
      "petition-rtt      9.148666  \n",
      "petition-sampled  0.949504  \n",
      "slack-rtt         2.303263  \n",
      "slack-sampled     0.397022  \n"
     ]
    },
    {
     "name": "stderr",
     "output_type": "stream",
     "text": [
      "/tmp/ipykernel_507624/3818191712.py:5: SettingWithCopyWarning: \n",
      "A value is trying to be set on a copy of a slice from a DataFrame.\n",
      "Try using .loc[row_indexer,col_indexer] = value instead\n",
      "\n",
      "See the caveats in the documentation: https://pandas.pydata.org/pandas-docs/stable/user_guide/indexing.html#returning-a-view-versus-a-copy\n",
      "  tr['range'] = pd.cut(train_pd['label'], bins=bins, labels=labels, right=False)\n"
     ]
    }
   ],
   "source": [
    "\n",
    "\n",
    "bins = [0.0, 0.5 , 1.5, 2.5, 3.5,  4.5, 5.0]\n",
    "labels = ['0.0-0.5', '0.5-1.5', '1.5-2.5',  '2.5-3.5',  '3.5-4.5',  '4.5-5.0']\n",
    "\n",
    "tr = train_pd[['source','label']]\n",
    "tr['range'] = pd.cut(train_pd['label'], bins=bins, labels=labels, right=False)\n",
    "\n",
    "\n",
    "\n",
    "train_label = tr.groupby('source')['range'].value_counts(normalize=True).unstack(fill_value=0) * 100\n",
    "\n",
    "\n",
    "\n",
    "print(\"\\n각 항목의 비율 (%):\")\n",
    "print(train_label)\n",
    "\n"
   ]
  },
  {
   "cell_type": "code",
   "execution_count": 72,
   "metadata": {},
   "outputs": [
    {
     "name": "stdout",
     "output_type": "stream",
     "text": [
      "각 항목의 개수:\n",
      "range             0.0-0.5  0.5-1.5  1.5-2.5  2.5-3.5  3.5-4.5  4.5-5.0\n",
      "source                                                                \n",
      "nsmc-rtt               30       33       78      187      437       15\n",
      "nsmc-sampled          813      623      355      320      171       10\n",
      "petition-rtt           19       31       60      146      459       72\n",
      "petition-sampled      931      510      278      292      284       22\n",
      "slack-rtt              28       51       90      244      605       24\n",
      "slack-sampled        1125      445      192      167       78        8\n"
     ]
    },
    {
     "name": "stderr",
     "output_type": "stream",
     "text": [
      "/tmp/ipykernel_507624/1652997835.py:5: SettingWithCopyWarning: \n",
      "A value is trying to be set on a copy of a slice from a DataFrame.\n",
      "Try using .loc[row_indexer,col_indexer] = value instead\n",
      "\n",
      "See the caveats in the documentation: https://pandas.pydata.org/pandas-docs/stable/user_guide/indexing.html#returning-a-view-versus-a-copy\n",
      "  tr['range'] = pd.cut(train_pd['label'], bins=bins, labels=labels, right=False)\n"
     ]
    }
   ],
   "source": [
    "bins = [0.0, 0.5 , 1.5, 2.5, 3.5,  4.5, 5.0]\n",
    "labels = ['0.0-0.5', '0.5-1.5', '1.5-2.5',  '2.5-3.5',  '3.5-4.5',  '4.5-5.0']\n",
    "\n",
    "tr = train_pd[['source','label']]\n",
    "tr['range'] = pd.cut(train_pd['label'], bins=bins, labels=labels, right=False)\n",
    "\n",
    "\n",
    "\n",
    "train_label = tr.groupby('source')['range'].value_counts().unstack(fill_value=0) \n",
    "\n",
    "\n",
    "\n",
    "print(\"각 항목의 개수:\")\n",
    "print(train_label)\n",
    "\n",
    "\n",
    "\n"
   ]
  },
  {
   "cell_type": "code",
   "execution_count": 73,
   "metadata": {},
   "outputs": [
    {
     "data": {
      "text/html": [
       "<div>\n",
       "<style scoped>\n",
       "    .dataframe tbody tr th:only-of-type {\n",
       "        vertical-align: middle;\n",
       "    }\n",
       "\n",
       "    .dataframe tbody tr th {\n",
       "        vertical-align: top;\n",
       "    }\n",
       "\n",
       "    .dataframe thead th {\n",
       "        text-align: right;\n",
       "    }\n",
       "</style>\n",
       "<table border=\"1\" class=\"dataframe\">\n",
       "  <thead>\n",
       "    <tr style=\"text-align: right;\">\n",
       "      <th></th>\n",
       "      <th>label</th>\n",
       "      <th>binary-label</th>\n",
       "    </tr>\n",
       "  </thead>\n",
       "  <tbody>\n",
       "    <tr>\n",
       "      <th>count</th>\n",
       "      <td>9324.000000</td>\n",
       "      <td>9324.000000</td>\n",
       "    </tr>\n",
       "    <tr>\n",
       "      <th>mean</th>\n",
       "      <td>1.849968</td>\n",
       "      <td>0.389532</td>\n",
       "    </tr>\n",
       "    <tr>\n",
       "      <th>std</th>\n",
       "      <td>1.602212</td>\n",
       "      <td>0.487670</td>\n",
       "    </tr>\n",
       "    <tr>\n",
       "      <th>min</th>\n",
       "      <td>0.000000</td>\n",
       "      <td>0.000000</td>\n",
       "    </tr>\n",
       "    <tr>\n",
       "      <th>25%</th>\n",
       "      <td>0.200000</td>\n",
       "      <td>0.000000</td>\n",
       "    </tr>\n",
       "    <tr>\n",
       "      <th>50%</th>\n",
       "      <td>1.600000</td>\n",
       "      <td>0.000000</td>\n",
       "    </tr>\n",
       "    <tr>\n",
       "      <th>75%</th>\n",
       "      <td>3.400000</td>\n",
       "      <td>1.000000</td>\n",
       "    </tr>\n",
       "    <tr>\n",
       "      <th>max</th>\n",
       "      <td>5.000000</td>\n",
       "      <td>1.000000</td>\n",
       "    </tr>\n",
       "  </tbody>\n",
       "</table>\n",
       "</div>"
      ],
      "text/plain": [
       "             label  binary-label\n",
       "count  9324.000000   9324.000000\n",
       "mean      1.849968      0.389532\n",
       "std       1.602212      0.487670\n",
       "min       0.000000      0.000000\n",
       "25%       0.200000      0.000000\n",
       "50%       1.600000      0.000000\n",
       "75%       3.400000      1.000000\n",
       "max       5.000000      1.000000"
      ]
     },
     "execution_count": 73,
     "metadata": {},
     "output_type": "execute_result"
    }
   ],
   "source": [
    "train_pd.describe()"
   ]
  },
  {
   "cell_type": "markdown",
   "metadata": {},
   "source": [
    "## 3. 데이터 분석"
   ]
  },
  {
   "cell_type": "code",
   "execution_count": 82,
   "metadata": {},
   "outputs": [
    {
     "data": {
      "text/plain": [
       "<Axes: >"
      ]
     },
     "execution_count": 82,
     "metadata": {},
     "output_type": "execute_result"
    },
    {
     "data": {
      "image/png": "[encoded data removed]",
      "text/plain": [
       "<Figure size 640x480 with 1 Axes>"
      ]
     },
     "metadata": {},
     "output_type": "display_data"
    }
   ],
   "source": [
    "import matplotlib.pyplot as plt\n",
    "\n",
    "train_pd['label'].hist()"
   ]
  },
  {
   "cell_type": "code",
   "execution_count": 85,
   "metadata": {},
   "outputs": [
    {
     "data": {
      "image/png": "[encoded data removed]",
      "text/plain": [
       "<Figure size 640x480 with 1 Axes>"
      ]
     },
     "metadata": {},
     "output_type": "display_data"
    },
    {
     "data": {
      "image/png": "[encoded data removed]",
      "text/plain": [
       "<Figure size 640x480 with 1 Axes>"
      ]
     },
     "metadata": {},
     "output_type": "display_data"
    },
    {
     "data": {
      "image/png": "[encoded data removed]",
      "text/plain": [
       "<Figure size 640x480 with 1 Axes>"
      ]
     },
     "metadata": {},
     "output_type": "display_data"
    },
    {
     "data": {
      "image/png": "[encoded data removed]",
      "text/plain": [
       "<Figure size 640x480 with 1 Axes>"
      ]
     },
     "metadata": {},
     "output_type": "display_data"
    },
    {
     "data": {
      "image/png": "[encoded data removed]",
      "text/plain": [
       "<Figure size 640x480 with 1 Axes>"
      ]
     },
     "metadata": {},
     "output_type": "display_data"
    },
    {
     "data": {
      "image/png": "[encoded data removed]",
      "text/plain": [
       "<Figure size 640x480 with 1 Axes>"
      ]
     },
     "metadata": {},
     "output_type": "display_data"
    }
   ],
   "source": [
    "sources = train_pd['source'].unique()\n",
    "\n",
    "for source in sources:\n",
    "    subset = train_pd[train_pd['source'] == source]\n",
    "    plt.figure()\n",
    "    subset['label'].hist(bins=10)\n",
    "    plt.ylim(0, 1200)\n",
    "    plt.title(f'Histogram for {source}')\n",
    "    plt.xlabel('label')\n",
    "    plt.ylabel('Frequency')\n",
    "    plt.show()"
   ]
  },
  {
   "cell_type": "markdown",
   "metadata": {},
   "source": [
    "## 4. 분석결과"
   ]
  },
  {
   "cell_type": "code",
   "execution_count": null,
   "metadata": {},
   "outputs": [],
   "source": [
    "'''\n",
    "\n",
    "1. 데이터 증강\n",
    "이유 : \n",
    "    문제: 데이터 불균형  0점 4점 1점 2점 3점 5점 순서\n",
    "        (0점, 4점) : 전체의 50%\n",
    "        (0점, 4점, 1점) : 전체의 70%\n",
    "        (2점, 3점) : 전체의 29%  --> 1.5~3.4을 증강 , 2점 1000개, 3점 1000개개\n",
    "        (5점) : 1% --> s1과 s2 스위칭으로는 한계가 있어 불가\n",
    "\n",
    "\n",
    "\n",
    "'''"
   ]
  }
 ],
 "metadata": {
  "kernelspec": {
   "display_name": "Python 3",
   "language": "python",
   "name": "python3"
  },
  "language_info": {
   "codemirror_mode": {
    "name": "ipython",
    "version": 3
   },
   "file_extension": ".py",
   "mimetype": "text/x-python",
   "name": "python",
   "nbconvert_exporter": "python",
   "pygments_lexer": "ipython3",
   "version": "3.10.14"
  }
 },
 "nbformat": 4,
 "nbformat_minor": 2
}
